{
 "cells": [
  {
   "cell_type": "markdown",
   "metadata": {
    "colab_type": "text",
    "id": "mhd5vkMHIhWZ"
   },
   "source": [
    "# Linear Algebra and Linear Regression\n",
    "\n",
    "### Modified by Mauricio Álvarez, 13th October 2019\n",
    "\n",
    "### 13th October 2015 Neil Lawrence\n",
    "\n",
    "\n",
    "## Sum of Squares Error\n",
    "\n",
    "Last week we considered a cost function for minimization of the error. We considered items (films) and users and assumed that each movie rating, $y_{i,j}$ could be summarised by an inner product between a vector associated with the item, $\\mathbf{v}_j$ and one associated with the user $\n",
    "\\mathbf{u}_i$. We justified the inner product as a measure of similarity in the space of 'movie subjects', where both the users and the items lived, giving the analogy of a library.\n",
    "\n",
    "To make predictions we encouraged the similarity to be high if the movie rating was high using the quadratic error function,\n",
    "$$\n",
    "E_{i,j}(\\mathbf{u}_i, \\mathbf{v}_j) = \\left(\\mathbf{u}_i^\\top \\mathbf{v}_j - y_{i,j}\\right)^2,\n",
    "$$\n",
    "which we then summed across all the observations to form the total error\n",
    "$$\n",
    "E(\\mathbf{U}, \\mathbf{V}) = \\sum_{i,j}s_{i,j}\\left(\\mathbf{u}_i^\\top \\mathbf{v}_j - y_{i,j}\\right)^2,\n",
    "$$\n",
    "where $s_{i,j}$ is an indicator variable which is set to 1 if the rating of movie $j$ by user $i$ is provided in our data set. \n",
    "\n",
    "This is known as a sum of squares error. Minimizing it was first proposed by [Legendre](http://en.wikipedia.org/wiki/Adrien-Marie_Legendre) in 1805. His book, which was on the orbit of comets, is available on google books, we can take a look at the relevant page by calling the code below. "
   ]
  },
  {
   "cell_type": "code",
   "execution_count": 1,
   "metadata": {
    "colab": {
     "base_uri": "https://localhost:8080/",
     "height": 521
    },
    "colab_type": "code",
    "executionInfo": {
     "elapsed": 491,
     "status": "ok",
     "timestamp": 1571138212015,
     "user": {
      "displayName": "Ming Liu",
      "photoUrl": "https://lh3.googleusercontent.com/a-/AAuE7mD4AkcM4sv1rI1zSX3xC_6PkLOatOKjqPP4Ack=s64",
      "userId": "11875485666463178947"
     },
     "user_tz": -60
    },
    "id": "38qwKdp3IhWa",
    "outputId": "b4668a6b-cb77-46f1-adc0-ba9fa9c87f15"
   },
   "outputs": [
    {
     "name": "stderr",
     "output_type": "stream",
     "text": [
      "L:\\Software\\Anaconda3\\lib\\site-packages\\IPython\\core\\display.py:694: UserWarning: Consider using IPython.display.IFrame instead\n",
      "  warnings.warn(\"Consider using IPython.display.IFrame instead\")\n"
     ]
    },
    {
     "data": {
      "text/html": [
       "<iframe frameborder=\"0\" scrolling=\"yes\" style=\"border:0px\" src=\"http://books.google.co.uk/books?id=spcAAAAAMAAJ&pg=PA72&output=embed\", width=700 height=500></iframe>"
      ],
      "text/plain": [
       "<IPython.core.display.HTML object>"
      ]
     },
     "metadata": {},
     "output_type": "display_data"
    }
   ],
   "source": [
    "import pods\n",
    "pods.notebook.display_google_book(id='spcAAAAAMAAJ', page=72) "
   ]
  },
  {
   "cell_type": "markdown",
   "metadata": {
    "colab_type": "text",
    "id": "BVdPsDBwIhWe"
   },
   "source": [
    "Of course, the main text is in French, but the key part we are interested in can be roughly translated as\n",
    "\n",
    "\"In most matters where we take measures data through observation, the most accurate results they can offer, it is almost always leads to a system of equations of the form\n",
    "$$E = a + bx + cy + fz + etc .$$\n",
    "where a, b, c, f etc are the known coefficients and  x , y, z etc are unknown and must be determined by the condition that the value of E is reduced, for each equation, to an amount or zero or very small.\"\n",
    "\n",
    "He continues\n",
    "\n",
    "\"Of all the principles that we can offer for this item, I think it is not broader, more accurate, nor easier than the one we have used in previous research application, and that is to make the minimum sum of the squares of the errors. By this means, it is between the errors a kind of balance that prevents extreme to prevail, is very specific to make known the state of the closest to the truth system. The sum of the squares of the errors $E^2 + \\left.E^\\prime\\right.^2 + \\left.E^{\\prime\\prime}\\right.^2 + etc$ being\n",
    "\\begin{align*}   &(a + bx + cy + fz + etc)^2 \\\\\n",
    "+ &(a^\\prime + b^\\prime x + c^\\prime y + f^\\prime z + etc ) ^2\\\\\n",
    "+ &(a^{\\prime\\prime} + b^{\\prime\\prime}x  + c^{\\prime\\prime}y +  f^{\\prime\\prime}z + etc )^2 \\\\\n",
    "+ & etc\n",
    "\\end{align*}\n",
    "if we wanted a minimum, by varying x alone, we will have the equation ...\"\n",
    "\n",
    "This is the earliest know printed version of the problem of least squares. The notation, however, is a little awkward for mordern eyes. In particular Legendre doesn't make use of the sum sign,\n",
    "$$\n",
    "\\sum_{i=1}^3 z_i = z_1 + z_2 + z_3\n",
    "$$\n",
    "nor does he make use of the inner product. \n",
    "\n",
    "In our notation, if we were to do linear regression, we would need to subsititue:\n",
    "\\begin{align*}\n",
    "a &\\leftarrow y_1-c, \\\\ a^\\prime &\\leftarrow y_2-c,\\\\ a^{\\prime\\prime} &\\leftarrow y_3 -c,\\\\ \n",
    "\\text{etc.} \n",
    "\\end{align*}\n",
    "to introduce the data observations $\\{y_i\\}_{i=1}^{n}$ alongside $c$, the offset. We would then introduce the input locations\n",
    "\\begin{align*}\n",
    "b & \\leftarrow x_1,\\\\\n",
    "b^\\prime & \\leftarrow x_2,\\\\\n",
    "b^{\\prime\\prime} & \\leftarrow x_3,\\\\\n",
    "\\text{etc.}\n",
    "\\end{align*}\n",
    "and finally the gradient of the function\n",
    "$$x \\leftarrow -m.$$\n",
    "The remaining coefficients ($c$ and $f$) would then be zero. That would give us \n",
    "\\begin{align*}   &(y_1 - (mx_1+c))^2 \\\\\n",
    "+ &(y_2 -(mx_2 + c))^2\\\\\n",
    "+ &(y_3 -(mx_3 + c))^2 \\\\\n",
    "+ & \\text{etc.}\n",
    "\\end{align*}\n",
    "which we would write in the modern notation for sums as\n",
    "$$\n",
    "\\sum_{i=1}^n (y_i-(mx_i + c))^2\n",
    "$$\n",
    "which is recognised as the sum of squares error for a linear regression.\n",
    "\n",
    "This shows the advantage of modern [summation operator](http://en.wikipedia.org/wiki/Summation), $\\sum$,  in keeping our mathematical notation compact. Whilst it may look more complicated the first time you see it, understanding the mathematical rules that go around it, allows us to go much further with the notation.\n",
    "\n",
    "Inner products (or [dot products](http://en.wikipedia.org/wiki/Dot_product)) are similar. They allow us to write\n",
    "$$\n",
    "\\sum_{i=1}^q u_i v_i\n",
    "$$\n",
    "in a more compact notation,\n",
    "$\n",
    "\\mathbf{u}\\cdot\\mathbf{v}.\n",
    "$\n",
    "\n",
    "Here we are using bold face to represent vectors, and we assume that the individual elements of a vector $\\mathbf{z}$ are given as a series of scalars\n",
    "$$\n",
    "\\mathbf{z} = \\begin{bmatrix} z_1\\\\ z_2\\\\ \\vdots\\\\ z_n \\end{bmatrix}\n",
    "$$\n",
    "which are each indexed by their position in the vector.\n",
    "\n",
    "## Linear Algebra\n",
    "\n",
    "Linear algebra provides a very similar role, when we introduce [linear algebra](http://en.wikipedia.org/wiki/Linear_algebra), it is because we are faced with a large number of addition and multiplication operations. These operations need to be done together and would be very tedious to write down as a group. So the first reason we reach for linear algebra is for a more compact representation of our mathematical formulae. "
   ]
  },
  {
   "cell_type": "markdown",
   "metadata": {
    "colab_type": "text",
    "id": "j2qvKXeOIhWe"
   },
   "source": [
    "### Running Example: Olympic Marathons\n",
    "\n",
    "Now we will load in the Olympic marathon data. This is data of the olympic marath times for the men's marathon from the first olympics in 1896 up until the London 2012 olympics."
   ]
  },
  {
   "cell_type": "code",
   "execution_count": 2,
   "metadata": {
    "colab": {
     "base_uri": "https://localhost:8080/",
     "height": 238
    },
    "colab_type": "code",
    "executionInfo": {
     "elapsed": 4402,
     "status": "ok",
     "timestamp": 1571138228576,
     "user": {
      "displayName": "Ming Liu",
      "photoUrl": "https://lh3.googleusercontent.com/a-/AAuE7mD4AkcM4sv1rI1zSX3xC_6PkLOatOKjqPP4Ack=s64",
      "userId": "11875485666463178947"
     },
     "user_tz": -60
    },
    "id": "W1Lfs9YZIhWf",
    "outputId": "13a35b2f-c752-46f5-b002-dfc9f7994440"
   },
   "outputs": [],
   "source": [
    "data = pods.datasets.olympic_marathon_men()\n",
    "x = data['X']\n",
    "y = data['Y']"
   ]
  },
  {
   "cell_type": "markdown",
   "metadata": {
    "colab_type": "text",
    "id": "gOtwFdGTIhWh"
   },
   "source": [
    "You can see what these values are by typing:"
   ]
  },
  {
   "cell_type": "code",
   "execution_count": 3,
   "metadata": {
    "colab": {
     "base_uri": "https://localhost:8080/",
     "height": 935
    },
    "colab_type": "code",
    "executionInfo": {
     "elapsed": 518,
     "status": "ok",
     "timestamp": 1571138231870,
     "user": {
      "displayName": "Ming Liu",
      "photoUrl": "https://lh3.googleusercontent.com/a-/AAuE7mD4AkcM4sv1rI1zSX3xC_6PkLOatOKjqPP4Ack=s64",
      "userId": "11875485666463178947"
     },
     "user_tz": -60
    },
    "id": "-uCKtnZHIhWi",
    "outputId": "776a199b-bdae-4f0e-abb5-8f90b930afdb"
   },
   "outputs": [
    {
     "name": "stdout",
     "output_type": "stream",
     "text": [
      "[[1896.]\n",
      " [1900.]\n",
      " [1904.]\n",
      " [1908.]\n",
      " [1912.]\n",
      " [1920.]\n",
      " [1924.]\n",
      " [1928.]\n",
      " [1932.]\n",
      " [1936.]\n",
      " [1948.]\n",
      " [1952.]\n",
      " [1956.]\n",
      " [1960.]\n",
      " [1964.]\n",
      " [1968.]\n",
      " [1972.]\n",
      " [1976.]\n",
      " [1980.]\n",
      " [1984.]\n",
      " [1988.]\n",
      " [1992.]\n",
      " [1996.]\n",
      " [2000.]\n",
      " [2004.]\n",
      " [2008.]\n",
      " [2012.]]\n",
      "[[4.47083333]\n",
      " [4.46472926]\n",
      " [5.22208333]\n",
      " [4.15467867]\n",
      " [3.90331675]\n",
      " [3.56951267]\n",
      " [3.82454477]\n",
      " [3.62483707]\n",
      " [3.59284275]\n",
      " [3.53880792]\n",
      " [3.67010309]\n",
      " [3.39029111]\n",
      " [3.43642612]\n",
      " [3.20583007]\n",
      " [3.13275665]\n",
      " [3.32819844]\n",
      " [3.13583758]\n",
      " [3.0789588 ]\n",
      " [3.10581822]\n",
      " [3.06552909]\n",
      " [3.09357349]\n",
      " [3.16111704]\n",
      " [3.14255244]\n",
      " [3.08527867]\n",
      " [3.10265829]\n",
      " [2.99877553]\n",
      " [3.03392977]]\n"
     ]
    }
   ],
   "source": [
    "print(x)\n",
    "print(y)"
   ]
  },
  {
   "cell_type": "markdown",
   "metadata": {
    "colab_type": "text",
    "id": "NggHo1sLIhWk"
   },
   "source": [
    "Note that they are not `pandas` data frames for this example, they are just arrays of dimensionality $n\\times 1$, where $n$ is the number of data."
   ]
  },
  {
   "cell_type": "markdown",
   "metadata": {
    "colab_type": "text",
    "id": "5_3F5-3TIhWl"
   },
   "source": [
    "The aim of this lab is to have you coding linear regression in python. We will do it in two ways, once using iterative updates (coordinate ascent) and then using linear algebra. The linear algebra approach will not only work much better, it is easy to extend to multiple input linear regression and *non-linear* regression using basis functions."
   ]
  },
  {
   "cell_type": "markdown",
   "metadata": {
    "colab_type": "text",
    "id": "reTS72LTIhWm"
   },
   "source": [
    "### Plotting the Data\n",
    "\n",
    "You can make a plot of $y$ vs $x$ with the following command:"
   ]
  },
  {
   "cell_type": "code",
   "execution_count": 4,
   "metadata": {
    "colab": {
     "base_uri": "https://localhost:8080/",
     "height": 300
    },
    "colab_type": "code",
    "executionInfo": {
     "elapsed": 676,
     "status": "ok",
     "timestamp": 1571138235564,
     "user": {
      "displayName": "Ming Liu",
      "photoUrl": "https://lh3.googleusercontent.com/a-/AAuE7mD4AkcM4sv1rI1zSX3xC_6PkLOatOKjqPP4Ack=s64",
      "userId": "11875485666463178947"
     },
     "user_tz": -60
    },
    "id": "9SRBOmb3IhWm",
    "outputId": "13c87873-1c79-4f0e-9efd-40191dafbc9c"
   },
   "outputs": [
    {
     "data": {
      "text/plain": [
       "Text(0, 0.5, 'pace in min/km')"
      ]
     },
     "execution_count": 4,
     "metadata": {},
     "output_type": "execute_result"
    },
    {
     "data": {
      "image/png": "[encoded data removed]",
      "text/plain": [
       "<Figure size 432x288 with 1 Axes>"
      ]
     },
     "metadata": {
      "needs_background": "light"
     },
     "output_type": "display_data"
    }
   ],
   "source": [
    "%matplotlib inline \n",
    "import pylab as plt\n",
    "\n",
    "plt.plot(x, y, 'rx')\n",
    "plt.xlabel('year')\n",
    "plt.ylabel('pace in min/km')"
   ]
  },
  {
   "cell_type": "markdown",
   "metadata": {
    "colab_type": "text",
    "id": "4pqqaM-jIhWp"
   },
   "source": [
    "### Maximum Likelihood: Iterative Solution"
   ]
  },
  {
   "cell_type": "markdown",
   "metadata": {
    "colab_type": "text",
    "id": "BIhZ1JLXIhWp"
   },
   "source": [
    "Now we will take the maximum likelihood approach we derived in the lecture to fit a line, $y_i=mx_i + c$, to the data you've plotted. We are trying to minimize the error function:"
   ]
  },
  {
   "cell_type": "markdown",
   "metadata": {
    "colab_type": "text",
    "id": "6eFwZpNTIhWq"
   },
   "source": [
    "$$E(m, c) =  \\sum_{i=1}^n(y_i-mx_i-c)^2$$"
   ]
  },
  {
   "cell_type": "markdown",
   "metadata": {
    "colab_type": "text",
    "id": "moXKUTfpIhWr"
   },
   "source": [
    "with respect to $m$ and $c$. We can start with an initial guess for $m$, "
   ]
  },
  {
   "cell_type": "code",
   "execution_count": 5,
   "metadata": {
    "colab": {},
    "colab_type": "code",
    "id": "6kG6g_KaIhWs"
   },
   "outputs": [],
   "source": [
    "m = -0.4\n",
    "c = 80 "
   ]
  },
  {
   "cell_type": "markdown",
   "metadata": {
    "colab_type": "text",
    "id": "XIUjqGqwIhWu"
   },
   "source": [
    "Then we use the maximum likelihood update to find an estimate for the offset, $c$.\n",
    "\n",
    "### Coordinate Descent\n",
    "\n",
    "In the movie recommender system example, we minimised the objective function by steepest descent based gradient methods. Our updates required us to compute the gradient at the position we were located, then to update the gradient according to the direction of steepest descent. This time, we will take another approach. It is known as *coordinate descent*. In coordinate descent, we choose to move one parameter at a time. Ideally, we design an algorithm that at each step moves the parameter to its minimum value. At each step we choose to move the individual parameter to its minimum.\n",
    "\n",
    "To find the minimum, we look for the point in the curve where the gradient is zero. This can be found by taking the gradient of $E(m,c)$ with respect to the parameter. \n",
    "\n",
    "#### Update for Offset\n",
    "\n",
    "Let's consider the parameter $c$ first. The gradient goes nicely through the summation operator, and we obtain\n",
    "$$\n",
    "\\frac{\\text{d}E(m,c)}{\\text{d}c} = -\\sum_{i=1}^n 2(y_i-mx_i-c).\n",
    "$$\n",
    "Now we want the point that is a minimum. A minimum is an example of a [*stationary point*](http://en.wikipedia.org/wiki/Stationary_point), the stationary points are those points of the function where the gradient is zero. They are found by solving the equation for $\\frac{\\text{d}E(m,c)}{\\text{d}c} = 0$. Substituting in to our gradient, we can obtain the following equation, \n",
    "$$\n",
    "0 = -\\sum_{i=1}^n 2(y_i-mx_i-c)\n",
    "$$\n",
    "which can be reorganised as follows,\n",
    "$$\n",
    "c^* = \\frac{\\sum_{i=1}^n(y_i-m^*x_i)}{n}.\n",
    "$$\n",
    "The fact that the stationary point is easily extracted in this manner implies that the solution is *unique*. There is only one stationary point for this system. Traditionally when trying to determine the type of stationary point we have encountered we now compute the *second derivative*,\n",
    "$$\n",
    "\\frac{\\text{d}^2E(m,c)}{\\text{d}c^2} = 2n.\n",
    "$$\n",
    "The second derivative is positive, which in turn implies that we have found a minimum of the function. This means that setting $c$ in this way will take us to the lowest point along that axes."
   ]
  },
  {
   "cell_type": "code",
   "execution_count": 6,
   "metadata": {
    "colab": {
     "base_uri": "https://localhost:8080/",
     "height": 34
    },
    "colab_type": "code",
    "executionInfo": {
     "elapsed": 500,
     "status": "ok",
     "timestamp": 1571138254924,
     "user": {
      "displayName": "Ming Liu",
      "photoUrl": "https://lh3.googleusercontent.com/a-/AAuE7mD4AkcM4sv1rI1zSX3xC_6PkLOatOKjqPP4Ack=s64",
      "userId": "11875485666463178947"
     },
     "user_tz": -60
    },
    "id": "nbvcCONWIhWu",
    "outputId": "a15dd773-973d-4e99-b014-4a0a34dd5d02"
   },
   "outputs": [
    {
     "name": "stdout",
     "output_type": "stream",
     "text": [
      "786.0197711453593\n"
     ]
    }
   ],
   "source": [
    "# set c to the minimum\n",
    "c = (y - m*x).mean()\n",
    "print(c)"
   ]
  },
  {
   "cell_type": "markdown",
   "metadata": {
    "colab_type": "text",
    "id": "rCh0d93qIhWx"
   },
   "source": [
    "#### Update for Slope\n",
    "\n",
    "Now we have the offset set to the minimum value, in coordinate descent, the next step is to optimise another parameter. Only one further parameter remains. That is the slope of the system. \n",
    "\n",
    "Now we can turn our attention to the slope. We once again peform the same set of computations to find the minima. We end up with an update equation of the following form.\n",
    "\n",
    "$$m^* = \\frac{\\sum_{i=1}^n (y_i - c)x_i}{\\sum_{i=1}^n x_i^2}$$\n",
    "\n",
    "Communication of mathematics in data science is an essential skill, in a moment, you will be asked to rederive the equation above. Before we do that, however, we will briefly review how to write mathematics in the notebook.\n",
    "\n",
    "### $\\LaTeX$ for Maths\n",
    "\n",
    "These cells use [Markdown format](http://en.wikipedia.org/wiki/Markdown). You can include maths in your markdown using [$\\LaTeX$ syntax](http://en.wikipedia.org/wiki/LaTeX), all you have to do is write your answer inside dollar signs, as follows:\n",
    "\n",
    "To write a fraction, we write `$\\frac{a}{b}$`, and it will display like this $\\frac{a}{b}$. To write a subscript we write `$a_b$` which will appear as $a_b$. To write a superscript (for example in a polynomial) we write `$a^b$` which will appear as $a^b$. There are lots of other macros as well, for example we can do greek letters such as `$\\alpha, \\beta, \\gamma$` rendering as $\\alpha, \\beta, \\gamma$. And we can do sum and integral signs as `$\\sum \\int \\int$`.\n",
    "\n",
    "You can combine many of these operations together for composing expressions."
   ]
  },
  {
   "cell_type": "markdown",
   "metadata": {
    "colab_type": "text",
    "id": "4DO4mT8JIhWy"
   },
   "source": [
    "### Question 1 \n",
    "\n",
    "Convert the following python code expressions into $\\LaTeX$j, writing your answers below. In each case write your answer as a single equality (i.e. your maths should only contain one expression, not several lines of expressions). For the purposes of your $\\LaTeX$ please assume that `x` and `w` are $n$ dimensional vectors. \n",
    "\n",
    "(a) \n",
    "``` python\n",
    "f = x.sum()\n",
    "```\n",
    "(b) \n",
    "``` python \n",
    "m = x.mean()\n",
    "```\n",
    "(c) \n",
    "``` python\n",
    "g = (x*w).sum()\n",
    "```"
   ]
  },
  {
   "cell_type": "markdown",
   "metadata": {
    "colab_type": "text",
    "id": "LpH8AgeBIhWy"
   },
   "source": [
    "#### Question 1 Answer\n",
    "\n",
    "Write your answer to the question in this box.\n",
    "\n",
    "\n",
    "(a) \n",
    "``` python\n",
    "f = x.sum()\n",
    "```\n",
    "$$ \n",
    "    f(x) = \\sum_{i=1}^n\\sum_{j=1}^m x_{i,j}\n",
    "$$\n",
    "(b) \n",
    "``` python \n",
    "m = x.mean()\n",
    "```\n",
    "$$\n",
    "    m(x) = \\frac{\\sum_{i=1}^n\\sum_{j=1}^m x_{i,j}}{n*m}\n",
    "$$\n",
    "(c) \n",
    "``` python\n",
    "g = (x*w).sum()\n",
    "```\n",
    "$$\n",
    "    g(x, w) = \\sum_{i=1}^n(x^Tw)_{i,j}\n",
    "$$"
   ]
  },
  {
   "cell_type": "markdown",
   "metadata": {
    "colab_type": "text",
    "id": "-yElOPVuIhWz"
   },
   "source": [
    "### Gradient With Respect to the Slope\n",
    "Now that you've had a little training in writing maths with $\\LaTeX$, we will be able to use it to answer questions. The next thing we are going to do is a little differentiation practice. "
   ]
  },
  {
   "cell_type": "markdown",
   "metadata": {
    "colab_type": "text",
    "id": "EOXsCW6PIhW2"
   },
   "source": [
    "### Question 2\n",
    "\n",
    "Derive the the gradient of the objective function with respect to the slope, $m$. Rearrange it to show that the update equation written above does find the stationary points of the objective function. By computing its derivative show that it's a minimum."
   ]
  },
  {
   "cell_type": "markdown",
   "metadata": {
    "colab_type": "text",
    "id": "F5leVSV5IhW3"
   },
   "source": [
    "#### Question 2 Answer\n",
    "\n",
    "Write your answer to the question in this box."
   ]
  },
  {
   "cell_type": "code",
   "execution_count": 7,
   "metadata": {
    "colab": {},
    "colab_type": "code",
    "id": "oD4PxWD5IhW4"
   },
   "outputs": [
    {
     "name": "stdout",
     "output_type": "stream",
     "text": [
      "-0.3998724072997095\n"
     ]
    }
   ],
   "source": [
    "m = ((y - c)*x).sum()/(x**2).sum()\n",
    "print(m)"
   ]
  },
  {
   "cell_type": "markdown",
   "metadata": {
    "colab_type": "text",
    "id": "rMscpDK_IhW6"
   },
   "source": [
    "We can have a look at how good our fit is by computing the prediction across the input space. First create a vector of 'test points',"
   ]
  },
  {
   "cell_type": "code",
   "execution_count": 8,
   "metadata": {
    "colab": {},
    "colab_type": "code",
    "id": "PkfgzfxjIhW6"
   },
   "outputs": [],
   "source": [
    "import numpy as np\n",
    "x_test = np.linspace(1890, 2020, 130)[:, None]"
   ]
  },
  {
   "cell_type": "code",
   "execution_count": 9,
   "metadata": {},
   "outputs": [
    {
     "data": {
      "text/plain": [
       "array([[1890.        ],\n",
       "       [1891.00775194],\n",
       "       [1892.01550388],\n",
       "       [1893.02325581],\n",
       "       [1894.03100775],\n",
       "       [1895.03875969],\n",
       "       [1896.04651163],\n",
       "       [1897.05426357],\n",
       "       [1898.0620155 ],\n",
       "       [1899.06976744],\n",
       "       [1900.07751938],\n",
       "       [1901.08527132],\n",
       "       [1902.09302326],\n",
       "       [1903.10077519],\n",
       "       [1904.10852713],\n",
       "       [1905.11627907],\n",
       "       [1906.12403101],\n",
       "       [1907.13178295],\n",
       "       [1908.13953488],\n",
       "       [1909.14728682],\n",
       "       [1910.15503876],\n",
       "       [1911.1627907 ],\n",
       "       [1912.17054264],\n",
       "       [1913.17829457],\n",
       "       [1914.18604651],\n",
       "       [1915.19379845],\n",
       "       [1916.20155039],\n",
       "       [1917.20930233],\n",
       "       [1918.21705426],\n",
       "       [1919.2248062 ],\n",
       "       [1920.23255814],\n",
       "       [1921.24031008],\n",
       "       [1922.24806202],\n",
       "       [1923.25581395],\n",
       "       [1924.26356589],\n",
       "       [1925.27131783],\n",
       "       [1926.27906977],\n",
       "       [1927.28682171],\n",
       "       [1928.29457364],\n",
       "       [1929.30232558],\n",
       "       [1930.31007752],\n",
       "       [1931.31782946],\n",
       "       [1932.3255814 ],\n",
       "       [1933.33333333],\n",
       "       [1934.34108527],\n",
       "       [1935.34883721],\n",
       "       [1936.35658915],\n",
       "       [1937.36434109],\n",
       "       [1938.37209302],\n",
       "       [1939.37984496],\n",
       "       [1940.3875969 ],\n",
       "       [1941.39534884],\n",
       "       [1942.40310078],\n",
       "       [1943.41085271],\n",
       "       [1944.41860465],\n",
       "       [1945.42635659],\n",
       "       [1946.43410853],\n",
       "       [1947.44186047],\n",
       "       [1948.4496124 ],\n",
       "       [1949.45736434],\n",
       "       [1950.46511628],\n",
       "       [1951.47286822],\n",
       "       [1952.48062016],\n",
       "       [1953.48837209],\n",
       "       [1954.49612403],\n",
       "       [1955.50387597],\n",
       "       [1956.51162791],\n",
       "       [1957.51937984],\n",
       "       [1958.52713178],\n",
       "       [1959.53488372],\n",
       "       [1960.54263566],\n",
       "       [1961.5503876 ],\n",
       "       [1962.55813953],\n",
       "       [1963.56589147],\n",
       "       [1964.57364341],\n",
       "       [1965.58139535],\n",
       "       [1966.58914729],\n",
       "       [1967.59689922],\n",
       "       [1968.60465116],\n",
       "       [1969.6124031 ],\n",
       "       [1970.62015504],\n",
       "       [1971.62790698],\n",
       "       [1972.63565891],\n",
       "       [1973.64341085],\n",
       "       [1974.65116279],\n",
       "       [1975.65891473],\n",
       "       [1976.66666667],\n",
       "       [1977.6744186 ],\n",
       "       [1978.68217054],\n",
       "       [1979.68992248],\n",
       "       [1980.69767442],\n",
       "       [1981.70542636],\n",
       "       [1982.71317829],\n",
       "       [1983.72093023],\n",
       "       [1984.72868217],\n",
       "       [1985.73643411],\n",
       "       [1986.74418605],\n",
       "       [1987.75193798],\n",
       "       [1988.75968992],\n",
       "       [1989.76744186],\n",
       "       [1990.7751938 ],\n",
       "       [1991.78294574],\n",
       "       [1992.79069767],\n",
       "       [1993.79844961],\n",
       "       [1994.80620155],\n",
       "       [1995.81395349],\n",
       "       [1996.82170543],\n",
       "       [1997.82945736],\n",
       "       [1998.8372093 ],\n",
       "       [1999.84496124],\n",
       "       [2000.85271318],\n",
       "       [2001.86046512],\n",
       "       [2002.86821705],\n",
       "       [2003.87596899],\n",
       "       [2004.88372093],\n",
       "       [2005.89147287],\n",
       "       [2006.89922481],\n",
       "       [2007.90697674],\n",
       "       [2008.91472868],\n",
       "       [2009.92248062],\n",
       "       [2010.93023256],\n",
       "       [2011.9379845 ],\n",
       "       [2012.94573643],\n",
       "       [2013.95348837],\n",
       "       [2014.96124031],\n",
       "       [2015.96899225],\n",
       "       [2016.97674419],\n",
       "       [2017.98449612],\n",
       "       [2018.99224806],\n",
       "       [2020.        ]])"
      ]
     },
     "execution_count": 9,
     "metadata": {},
     "output_type": "execute_result"
    }
   ],
   "source": [
    "x_test"
   ]
  },
  {
   "cell_type": "markdown",
   "metadata": {
    "colab_type": "text",
    "id": "HYK5owa8IhW8"
   },
   "source": [
    "Now use this vector to compute some test predictions,"
   ]
  },
  {
   "cell_type": "code",
   "execution_count": 10,
   "metadata": {
    "colab": {},
    "colab_type": "code",
    "id": "PVEYCpkQIhW9"
   },
   "outputs": [],
   "source": [
    "f_test = m*x_test + c"
   ]
  },
  {
   "cell_type": "markdown",
   "metadata": {
    "colab_type": "text",
    "id": "NBh8AYVTIhW_"
   },
   "source": [
    "Now plot those test predictions with a blue line on the same plot as the data,"
   ]
  },
  {
   "cell_type": "code",
   "execution_count": 11,
   "metadata": {
    "colab": {},
    "colab_type": "code",
    "id": "2iNOv5AWIhXA"
   },
   "outputs": [
    {
     "data": {
      "text/plain": [
       "[<matplotlib.lines.Line2D at 0x19a359d9608>]"
      ]
     },
     "execution_count": 11,
     "metadata": {},
     "output_type": "execute_result"
    },
    {
     "data": {
      "image/png": "[encoded data removed]",
      "text/plain": [
       "<Figure size 432x288 with 1 Axes>"
      ]
     },
     "metadata": {
      "needs_background": "light"
     },
     "output_type": "display_data"
    }
   ],
   "source": [
    "plt.plot(x_test, f_test, 'b-')\n",
    "plt.plot(x, y, 'rx')"
   ]
  },
  {
   "cell_type": "markdown",
   "metadata": {
    "colab_type": "text",
    "id": "LmPj-xIKIhXD"
   },
   "source": [
    "The fit isn't very good, we need to iterate between these parameter updates in a loop to improve the fit, we have to do this several times,"
   ]
  },
  {
   "cell_type": "code",
   "execution_count": 12,
   "metadata": {
    "colab": {},
    "colab_type": "code",
    "id": "UV1Ua78AIhXD"
   },
   "outputs": [
    {
     "name": "stdout",
     "output_type": "stream",
     "text": [
      "-0.3987259642505432\n",
      "783.5273797273478\n"
     ]
    }
   ],
   "source": [
    "for i in np.arange(10):\n",
    "    m = ((y - c)*x).sum()/(x*x).sum()\n",
    "    c = (y-m*x).sum()/y.shape[0]\n",
    "print(m)\n",
    "print(c)"
   ]
  },
  {
   "cell_type": "markdown",
   "metadata": {
    "colab_type": "text",
    "id": "fsvVfKv4IhXF"
   },
   "source": [
    "And let's try plotting the result again"
   ]
  },
  {
   "cell_type": "code",
   "execution_count": 13,
   "metadata": {
    "colab": {},
    "colab_type": "code",
    "id": "5gMzQvBUIhXG"
   },
   "outputs": [
    {
     "data": {
      "text/plain": [
       "[<matplotlib.lines.Line2D at 0x19a35a4d248>]"
      ]
     },
     "execution_count": 13,
     "metadata": {},
     "output_type": "execute_result"
    },
    {
     "data": {
      "image/png": "[encoded data removed]",
      "text/plain": [
       "<Figure size 432x288 with 1 Axes>"
      ]
     },
     "metadata": {
      "needs_background": "light"
     },
     "output_type": "display_data"
    }
   ],
   "source": [
    "f_test = m*x_test + c\n",
    "plt.plot(x_test, f_test, 'b-')\n",
    "plt.plot(x, y, 'rx')"
   ]
  },
  {
   "cell_type": "markdown",
   "metadata": {
    "colab_type": "text",
    "id": "o8AotjrrIhXI"
   },
   "source": [
    "Clearly we need more iterations than 10! In the next question you will add more iterations and report on the error as optimisation proceeds. "
   ]
  },
  {
   "cell_type": "markdown",
   "metadata": {
    "colab_type": "text",
    "id": "V_m1-GUmIhXJ"
   },
   "source": [
    "### Question 3\n",
    "\n",
    "There is a problem here, we seem to need many interations to get to a good solution. Let's explore what's going on. Write code which alternates between updates of `c` and `m`. Include the following features in your code.\n",
    "\n",
    "(a) Initialise with `m=-0.4` and `c=80`.\n",
    "(b) Every 10 iterations compute the value of the objective function for the training data and print it to the screen (you'll find hints on this in the lab from last week.\n",
    "(c) Cause the code to stop running when the error change over less than 10 iterations is smaller than $1\\times10^{-4}$. This is known as a stopping criterion.\n",
    "\n",
    "Why do we need so many iterations to get to the solution?"
   ]
  },
  {
   "cell_type": "markdown",
   "metadata": {
    "colab_type": "text",
    "id": "9ghbBLDaIhXN"
   },
   "source": [
    "#### Question 3 Answer Here\n",
    "\n",
    "Write your answer to the question in this box."
   ]
  },
  {
   "cell_type": "code",
   "execution_count": 14,
   "metadata": {
    "colab": {},
    "colab_type": "code",
    "id": "2S-_ut-5IhXK"
   },
   "outputs": [
    {
     "name": "stdout",
     "output_type": "stream",
     "text": [
      "-0.4 80\n",
      "-0.03901787008778543 79.83176736894536\n",
      "-0.03893215770186387 79.6640885458203\n",
      "-0.03884672747403908 79.49696170753492\n",
      "-0.03876157847546986 79.33038503700062\n",
      "-0.03867670978037274 79.16435672311061\n",
      "-0.038592120466011834 78.99887496072013\n",
      "-0.03850780961268884 78.83393795062678\n",
      "-0.03842377630373301 78.66954389955097\n",
      "-0.0383400196254912 78.50569102011643\n",
      "-0.03825653866731794 78.34237753083082\n",
      "-0.03817333252156556 78.17960165606637\n",
      "-0.03809040028357426 78.0173616260404\n",
      "-0.038007741051662255 77.85565567679626\n",
      "-0.037925353927116115 77.69448205018415\n",
      "-0.03784323801418088 77.53383899384195\n",
      "-0.03776139242005028 77.37372476117608\n",
      "-0.037679816254857126 77.21413761134266\n",
      "-0.03759850863166364 77.05507580922858\n",
      "-0.03751746866645171 76.89653762543252\n",
      "-0.03743669547811341 76.73852133624625\n",
      "-0.03735618818844124 76.58102522363573\n",
      "-0.03727594592211881 76.42404757522274\n",
      "-0.03719596780671104 76.26758668426577\n",
      "-0.037116252972655035 76.11164084964213\n",
      "-0.03703680055325027 75.9562083758288\n",
      "-0.0369576096846494 75.80128757288445\n",
      "-0.03687867950584877 75.64687675643077\n",
      "-0.03680000915867908 75.49297424763435\n",
      "-0.036721597787796045 75.33957837318837\n",
      "-0.03664344454067115 75.1866874652944\n",
      "-0.036565548567582304 75.03429986164429\n",
      "-0.03648790902160457 74.88241390540192\n",
      "-0.036410525058601095 74.7310279451855\n",
      "-0.03633339583721385 74.58014033504942\n",
      "-0.036256520518854474 74.42974943446636\n",
      "-0.03617989826769512 74.27985360830944\n",
      "-0.03610352825065948 74.13045122683454\n",
      "-0.03602740963741366 73.98154066566254\n",
      "-0.035951541600357184 73.83312030576167\n",
      "-0.03587592331461387 73.68518853342974\n",
      "-0.03580055395802304 73.53774374027687\n",
      "-0.03572543271113047 73.39078432320777\n",
      "-0.03565055875717952 73.24430868440447\n",
      "-0.03557593128210225 73.09831523130887\n",
      "-0.03550154947451059 72.95280237660549\n",
      "-0.035427412525687436 72.80776853820404\n",
      "-0.03535351962957792 72.66321213922238\n",
      "-0.035279869982780696 72.51913160796944\n",
      "-0.03520646278453909 72.3755253779279\n",
      "-0.03513329723673249 72.23239188773736\n",
      "-0.035060372543867645 72.08972958117732\n",
      "-0.03498768791306992 71.94753690715008\n",
      "-0.03491524255407482 71.8058123196641\n",
      "-0.034843035679219356 71.66455427781723\n",
      "-0.03477106650343344 71.52376124577972\n",
      "-0.03469933424423135 71.38343169277772\n",
      "-0.03462783812170327 71.24356409307649\n",
      "-0.034556577358506764 71.10415692596392\n",
      "-0.034485551179858305 70.96520867573385\n",
      "-0.03441475881352496 70.8267178316699\n",
      "-0.03434419948981591 70.68868288802871\n",
      "-0.03427387244157406 70.55110234402372\n",
      "-0.03420377690416775 70.41397470380886\n",
      "-0.034133912115482445 70.27729847646228\n",
      "-0.034064277315912404 70.14107217597007\n",
      "-0.03399487174835246 70.0052943212102\n",
      "-0.03392569465818974 69.86996343593631\n",
      "-0.03385674529329553 69.73507804876179\n",
      "-0.03378802290401702 69.60063669314361\n",
      "-0.033719526743169276 69.46663790736666\n",
      "-0.03365125606602697 69.33308023452754\n",
      "-0.03358321013031638 69.19996222251886\n",
      "-0.03351538819620721 69.06728242401347\n",
      "-0.03344778952630477 68.93503939644877\n",
      "-0.033380413385641676 68.8032317020108\n",
      "-0.033313259041670026 68.67185790761887\n",
      "-0.03324632576425346 68.54091658490987\n",
      "-0.033179612825659135 68.41040631022275\n",
      "-0.03311311950054981 68.28032566458296\n",
      "-0.03304684506597609 68.15067323368724\n",
      "-0.032980788801368344 68.02144760788794\n",
      "-0.03291494998852908 67.89264738217796\n",
      "-0.03284932791162508 67.76427115617538\n",
      "-0.03278392185717948 67.6363175341081\n",
      "-0.03271873111406418 67.50878512479883\n",
      "-0.03265375497349209 67.38167254165003\n",
      "-0.03258899272900936 67.25497840262862\n",
      "-0.03252444367648772 67.1287013302511\n",
      "-0.03246010711411679 67.00283995156842\n",
      "-0.032395982342396636 66.87739289815146\n",
      "-0.032332068664129875 66.7523588060755\n",
      "-0.032268365384414285 66.62773631590598\n",
      "-0.03220487181063523 66.50352407268338\n",
      "-0.03214158725245807 66.37972072590865\n",
      "-0.03207851102182068 66.2563249295284\n",
      "-0.032015642432926025 66.13333534192041\n",
      "-0.031952980802234604 66.0107506258789\n",
      "-0.03189052544845718 65.88856944860025\n",
      "-0.0318282756925471 65.76679048166801\n",
      "-0.03176623085769318 65.64541240103897\n",
      "-0.031704390269312245 65.52443388702858\n",
      "-0.03164275325504178 65.4038536242965\n",
      "-0.03158131914473261 65.28367030183242\n",
      "-0.03152008727044165 65.16388261294172\n",
      "-0.031459056966424634 65.0444892552314\n",
      "-0.03139822756912887 64.92548893059576\n",
      "-0.03133759841718597 64.80688034520229\n",
      "-0.031277168851404843 64.68866220947787\n",
      "-0.031216938214764275 64.57083323809437\n",
      "-0.03115690585240601 64.45339214995498\n",
      "-0.031097071111627447 64.33633766818002\n",
      "-0.03103743334187464 64.21966852009322\n",
      "-0.030977991894735296 64.10338343720804\n",
      "-0.03091874612393154 63.98748115521342\n",
      "-0.030859695385313017 63.87196041396045\n",
      "-0.03080083903684992 63.75681995744857\n",
      "-0.03074217643862588 63.64205853381177\n",
      "-0.03068370695283115 63.52767489530519\n",
      "-0.030625429943755528 63.41366779829132\n",
      "-0.030567344777781537 63.300036003226644\n",
      "-0.030509450823377547 63.186778274648184\n",
      "-0.030451747451090885 63.07389338115996\n",
      "-0.03039423403354089 62.96138009541957\n",
      "-0.0303369099454123 62.849237194125045\n",
      "-0.0302797745634483 62.7374634580014\n",
      "-0.030222827266443753 62.62605767178733\n",
      "-0.03016606743523855 62.515018624222186\n",
      "-0.03010949445271072 62.40434510803255\n",
      "-0.030053107703769864 62.294035919919374\n",
      "-0.029996906575350337 62.18408986054457\n",
      "-0.029940890456404762 62.07450573451844\n",
      "-0.029885058737897197 61.96528235038623\n",
      "-0.029829410812796657 61.856418520615485\n",
      "-0.029773946076070437 61.747913061582935\n",
      "-0.029718663924677508 61.639764793561646\n",
      "-0.02966356375756203 61.53197254070833\n",
      "-0.029608644975646754 61.424535131050376\n",
      "-0.029553906981826663 61.31745139647345\n",
      "-0.029499349180962232 61.21072017270828\n",
      "-0.02944497097987314 61.10434029931844\n",
      "-0.029390771787331738 60.99831061968744\n",
      "-0.029336751014056663 60.89262998100636\n",
      "-0.02928290807270645 60.78729723426123\n",
      "-0.02922924237787307 60.68231123422052\n",
      "-0.029175753346075632 60.57767083942272\n",
      "-0.029122440395754023 60.47337491216393\n",
      "-0.029069302947262548 60.369422318485434\n",
      "-0.02901634042286369 60.265811928161426\n",
      "-0.02896355224672176 60.16254261468674\n",
      "-0.028910937844896685 60.05961325526451\n",
      "-0.028858496645337798 59.957022730794115\n",
      "-0.028806228077877496 59.85476992585882\n",
      "-0.028754131574225215 59.752853728713866\n",
      "-0.028702206567961065 59.651273031274144\n",
      "-0.028650452494529813 59.55002672910235\n",
      "-0.02859886879123472 59.4491137213969\n",
      "-0.028547454897231334 59.34853291097991\n",
      "-0.028496210253521493 59.248283204285336\n",
      "-0.028445134302947237 59.1483635113471\n",
      "-0.02839422649018466 59.048772745787126\n",
      "-0.02834348626173796 58.94950982480362\n",
      "-0.028292913065933435 58.85057366915935\n",
      "-0.02824250635291343 58.75196320316986\n",
      "-0.028192265574630334 58.653677354691595\n",
      "-0.028142190184840713 58.55571505511057\n",
      "-0.0280922796390993 58.4580752393305\n",
      "-0.028042533394753103 58.360756845761394\n",
      "-0.027992950910935493 58.26375881630782\n",
      "-0.02794353164856032 58.16708009635759\n",
      "-0.02789427507031611 58.07071963477021\n",
      "-0.027845180640660095 57.97467638386537\n",
      "-0.02779624782581252 57.87894929941171\n",
      "-0.027747476093750823 57.78353734061544\n",
      "-0.02769886491420372 57.68843947010886\n",
      "-0.027650413758645628 57.593654653939275\n",
      "-0.027602122100290755 57.499181861557645\n",
      "-0.027553989414087526 57.40502006580747\n",
      "-0.02750601517671269 57.31116824291344\n",
      "-0.02745819886656583 57.21762537247059\n",
      "-0.02741053996376353 57.1243904374329\n",
      "-0.027363037950133798 57.031462424102436\n",
      "-0.02731569230921047 56.93884032211835\n",
      "-0.027268502526227496 56.84652312444574\n",
      "-0.027221468088113394 56.754509827364735\n",
      "-0.027174588483485685 56.66279943045973\n",
      "-0.02712786320264531 56.57139093660829\n",
      "-0.027081291737571143 56.480283351970606\n",
      "-0.02703487358191432 56.38947568597827\n",
      "-0.026988608230992955 56.29896695132394\n",
      "-0.02694249518178649 56.20875616395041\n",
      "-0.026896533932930188 56.118842343039674\n",
      "-0.026850723984709883 56.02922451100276\n",
      "-0.02680506483905632 55.93990169346865\n",
      "-0.02675955599953999 55.85087291927411\n",
      "-0.026714196971365428 55.762137220452615\n",
      "-0.026668987261366076 55.67369363222424\n",
      "-0.026623926377998874 55.585541192985154\n",
      "-0.026579013831338812 55.49767894429684\n",
      "-0.0265342491330737 55.41010593087598\n",
      "-0.026489631796498814 55.322821200583924\n",
      "-0.02644516133651166 55.23582380441647\n",
      "-0.026400837269606636 55.14911279649336\n",
      "-0.026356659113869762 55.062687234048134\n",
      "-0.026312626388973588 54.976546177417916\n",
      "-0.026268738616171756 54.89068869003299\n",
      "-0.026224995318293965 54.805113838406896\n",
      "-0.02618139601974069 54.71982069212601\n",
      "-0.02613794024647801 54.63480832383952\n",
      "-0.026094627526032567 54.550075809249584\n",
      "-0.02605145738748625 54.46562222710082\n",
      "-0.026008429361471252 54.38144665917074\n",
      "-0.025965542980164874 54.29754819025953\n",
      "-0.02592279777728442 54.21392590818006\n",
      "-0.025880193288082103 54.130578903747974\n",
      "-0.02583772904934022 54.04750627077219\n",
      "-0.025795404599365742 53.964707106044344\n",
      "-0.025753219477985666 53.88218050932969\n",
      "-0.025711173226541727 53.79992558335677\n",
      "-0.02566926538788556 53.71794143380793\n",
      "-0.025627495506373704 53.63622716930954\n",
      "-0.02558586312786262 53.5547819014223\n",
      "-0.025544367799703812 53.47360474463163\n",
      "-0.025503009070738828 53.39269481633791\n",
      "-0.025461786491294394 53.31205123684698\n",
      "-0.025420699613177552 53.23167312936062\n",
      "-0.025379747989670683 53.15155961996683\n",
      "-0.02533893117552682 53.07170983763057\n",
      "-0.025298248726964692 52.992122914184215\n",
      "-0.025257700201663878 52.912797984317955\n",
      "-0.025217285158760056 52.833734185570556\n",
      "-0.025177003158840163 52.75493065831984\n",
      "-0.025136853763937744 52.67638654577372\n",
      "-0.025096836537527978 52.59810099396024\n",
      "-0.025056951044523157 52.520073151718954\n",
      "-0.025017196851267746 52.442302170691164\n",
      "-0.02497757352553382 52.36478720531093\n",
      "-0.0249380806365163 52.28752741279591\n",
      "-0.024898717754828326 52.21052195313818\n",
      "-0.024859484452496455 52.13376998909486\n",
      "-0.024820380302956167 52.05727068617939\n",
      "-0.024781404881047155 51.981023212652204\n",
      "-0.024742557763008637 51.90502673951167\n",
      "-0.024703838526474918 51.82928044048532\n",
      "-0.024665246750470597 51.753783492020574\n",
      "-0.024626782015406187 51.678535073276045\n",
      "-0.02458844390307337 51.60353436611237\n",
      "-0.024550231996640574 51.52878055508348\n",
      "-0.024512145880648414 51.4542728274277\n",
      "-0.024474185141005134 51.38001037305888\n",
      "-0.024436349364982145 51.30599238455761\n",
      "-0.024398638141209506 51.2322180571624\n",
      "-0.024361051059671505 51.15868658876102\n",
      "-0.024323587711702205 51.085397179881824\n",
      "-0.024286247689980892 51.0123490336848\n",
      "-0.0242490305885277 50.939541355953025\n",
      "-0.024211936002699292 50.866973355084276\n",
      "-0.024174963529184353 50.79464424208208\n",
      "-0.024138112765999205 50.722553230547284\n",
      "-0.02410138331248353 50.65069953666958\n",
      "-0.024064774769295888 50.57908237921879\n",
      "-0.02402828673840947 50.50770097953655\n",
      "-0.02399191882310773 50.436554561527736\n",
      "-0.023955670627980062 50.365642351652056\n",
      "-0.023919541758917535 50.29496357891566\n",
      "-0.023883531823108633 50.224517474862836\n",
      "-0.02384764042903492 50.15430327356752\n",
      "-0.02381186718646676 50.084320211624906\n",
      "-0.023776211706459126 50.01456752814332\n",
      "-0.023740673601347437 49.945044464735936\n",
      "-0.02370525248474322 49.87575026551243\n",
      "-0.02366994797152995 49.80668417707076\n",
      "-0.02363475967785889 49.737845448489075\n",
      "-0.023599687221144937 49.669233331317564\n",
      "-0.023564730220062374 49.60084707957012\n",
      "-0.023529888294540797 49.532685949716424\n",
      "-0.023495161065760953 49.46474920067379\n",
      "-0.02346054815615067 49.39703609379915\n",
      "-0.02342604918938066 49.32954589288093\n",
      "-0.023391663790360485 49.26227786413109\n",
      "-0.023357391585234498 49.19523127617721\n",
      "-0.023323232201377764 49.128405400054525\n",
      "-0.023289185267391987 49.061799509197904\n",
      "-0.02325525041310145 48.99541287943397\n",
      "-0.023221427269549046 48.92924478897331\n",
      "-0.0231877154689923 48.86329451840267\n",
      "-0.02315411464489923 48.79756135067688\n",
      "-0.02312062443194449 48.732044571111345\n",
      "-0.023087244466005297 48.66674346737401\n",
      "-0.02305397438415763 48.60165732947795\n",
      "-0.023020813824672116 48.536785449773326\n",
      "-0.0229877624270102 48.4721271229399\n",
      "-0.022954819831820183 48.40768164597929\n",
      "-0.02292198568093326 48.34344831820716\n",
      "-0.022889259617359783 48.279426441246024\n",
      "-0.022856641285285244 48.215615319017225\n",
      "-0.02282413033006644 48.152014257733626\n",
      "-0.0227917263982276 48.088622565891875\n",
      "-0.022759429137456627 48.0254395542651\n",
      "-0.022727238196601194 47.962464535895336\n",
      "-0.022695153225664892 47.89969682608586\n",
      "-0.02266317387580346 47.83713574239397\n",
      "-0.02263129979932107 47.77478060462362\n",
      "-0.022599530649666466 47.71263073481783\n",
      "-0.022567866081429182 47.650685457251406\n",
      "-0.022536305750335796 47.588944098423546\n",
      "-0.022504849313246332 47.527405987050734\n",
      "-0.02247349642815023 47.466070454059036\n",
      "-0.022442246754162898 47.40493683257714\n",
      "-0.022411099951521865 47.34400445792903\n",
      "-0.0223800556815832 47.28327266762679\n",
      "-0.02234911360681767 47.22274080136326\n",
      "-0.022318273390807258 47.16240820100512\n",
      "-0.022287534698241303 47.10227421058534\n",
      "-0.022256897194913014 47.04233817629646\n",
      "-0.022226360547715776 46.98259944648319\n",
      "-0.02219592442463957 46.92305737163557\n",
      "-0.022165588494767244 46.863711304381646\n",
      "-0.022135352428271048 46.80456059948057\n",
      "-0.02210521589640904 46.745604613815715\n",
      "-0.022075178571521383 46.68684270638733\n",
      "-0.022045240127026938 46.628274238305984\n",
      "-0.0220154002374196 46.569898572785256\n",
      "-0.02198565857826482 46.51171507513505\n",
      "-0.02195601482619604 46.45372311275458\n",
      "-0.021926468658911246 46.39592205512559\n",
      "-0.02189701975516938 46.338311273805374\n",
      "-0.021867667794786858 46.28089014242001\n",
      "-0.021838412458634198 46.22365803665766\n",
      "-0.021809253428632387 46.16661433426153\n",
      "-0.02178019038774954 46.10975841502331\n",
      "-0.02175122301999735 46.053089660776244\n",
      "-0.02172235101042784 45.996607455388784\n",
      "-0.021693574045129744 45.94031118475747\n",
      "-0.021664891811225134 45.884200236800375\n",
      "-0.021636303996866113 45.828274001450616\n",
      "-0.021607810291231325 45.77253187064953\n",
      "-0.021579410384522595 45.71697323834008\n",
      "-0.02155110396796163 45.661597500460445\n",
      "-0.021522890733786573 45.60640405493724\n",
      "-0.021494770375248686 45.55139230167905\n",
      "-0.021466742586609095 45.496561642570036\n",
      "-0.021438807063135303 45.44191148146316\n",
      "-0.021410963501097995 45.387441224173884\n",
      "-0.02138321159776775 45.333150278473745\n",
      "-0.021355551051411632 45.27903805408374\n",
      "-0.02132798156129007 45.22510396266815\n",
      "-0.02130050282765342 45.17134741782785\n",
      "-0.021273114551738852 45.117767835094234\n",
      "-0.02124581643576702 45.0643646319227\n",
      "-0.021218608182938806 45.01113722768617\n",
      "-0.02119148949743219 44.95808504366914\n",
      "-0.02116446008439891 44.90520750306109\n",
      "-0.021137519649961405 44.85250403095038\n",
      "-0.021110667901209444 44.79997405431783\n",
      "-0.021083904546197095 44.747617002030715\n",
      "-0.021057229293939456 44.69543230483632\n",
      "-0.02103064185440953 44.643419395355934\n",
      "-0.021004141938535094 44.59157770807861\n",
      "-0.02097772925819547 44.53990667935494\n",
      "-0.0209514035262185 44.488405747391106\n",
      "-0.02092516445637734 44.43707435224258\n",
      "-0.0208990117633874 44.38591193580819\n",
      "-0.020872945162903226 44.33491794182396\n",
      "-0.020846964371515387 44.28409181585709\n",
      "-0.020821069106747418 44.233433005299894\n",
      "-0.020795259087052802 44.18294095936398\n",
      "-0.020769534031811712 44.13261512907382\n",
      "-0.020743893661328245 44.082454967261356\n",
      "-0.020718337696827162 44.032459928559604\n",
      "-0.02069286586045091 43.98262946939689\n",
      "-0.020667477875256697 43.93296304799102\n",
      "-0.02064217346521332 43.88346012434319\n",
      "-0.02061695235519829 43.834120160232295\n",
      "-0.02059181427099477 43.78494261920898\n",
      "-0.02056675893928871 43.73592696658994\n",
      "-0.020541786087665666 43.687072669451815\n",
      "-0.02051689544460801 43.638379196625685\n",
      "-0.02049208673949198 43.5898460186913\n",
      "-0.020467359702584603 43.54147260797101\n",
      "-0.020442714065040876 43.49325843852435\n",
      "-0.020418149558900842 43.445202986142256\n",
      "-0.020393665917086592 43.397305728341195\n",
      "-0.02036926287339947 43.34956614435772\n",
      "-0.02034494016251707 43.30198371514261\n",
      "-0.020320697519990424 43.254557923355286\n",
      "-0.020296534682241154 43.2072882533584\n",
      "-0.02027245138655852 43.160174191211844\n",
      "-0.020248447371096566 43.11321522466738\n",
      "-0.020224522374871386 43.066410843163155\n",
      "-0.020200676137758174 43.01976053781797\n",
      "-0.02017690840048845 42.973263801425865\n",
      "-0.020153218904647188 42.92692012845048\n",
      "-0.02012960739267005 42.880729015019654\n",
      "-0.02010607360784062 42.83468995892\n",
      "-0.020082617294287546 42.788802459591366\n",
      "-0.020059238196981813 42.74306601812141\n",
      "-0.02003593606173388 42.69748013724008\n",
      "-0.02001271063519099 42.65204432131432\n",
      "-0.01998956166483445 42.60675807634276\n",
      "-0.01996648889897679 42.56162090995011\n",
      "-0.01994349208675908 42.51663233138197\n",
      "-0.019920570978148235 42.47179185149957\n",
      "-0.019897725323934228 42.42709898277425\n",
      "-0.019874954875727407 42.38255323928224\n",
      "-0.019852259385955816 42.338154136699444\n",
      "-0.01982963860786249 42.29390119229612\n",
      "-0.01980709229550272 42.249793924931566\n",
      "-0.019784620203741454 42.20583185504897\n",
      "-0.019762222088250646 42.16201450467028\n",
      "-0.019739897705506517 42.11834139739085\n",
      "-0.01971764681278692 42.07481205837421\n",
      "-0.0196954691681688 42.031426014347204\n",
      "-0.019673364530525452 41.988182793594554\n",
      "-0.019651332659523908 41.94508192595376\n",
      "-0.019629373315622436 41.9021229428102\n",
      "-0.019607486260067784 41.859305377091815\n",
      "-0.019585671254892693 41.8166287632641\n",
      "-0.01956392806291325 41.774092637325055\n",
      "-0.01954225644772636 41.731696536800186\n",
      "-0.01952065617370714 41.6894400007374\n",
      "-0.019499127006006325 41.647322569701956\n",
      "-0.019477668710547822 41.60534378577166\n",
      "-0.019456281054026046 41.56350319253165\n",
      "-0.019434963803903457 41.52180033506961\n",
      "-0.01941371672840799 41.4802347599707\n",
      "-0.019392539596530586 41.43880601531274\n",
      "-0.01937143217802261 41.397513650661224\n",
      "-0.01935039424339343 41.356357217064435\n",
      "-0.019329425563907838 41.315336267048544\n",
      "-0.019308525911583618 41.27445035461279\n",
      "-0.019287695059189067 41.23369903522463\n",
      "-0.01926693278024047 41.193081865814825\n",
      "-0.01924623884899974 41.15259840477278\n",
      "-0.019225613040471847 41.11224821194154\n",
      "-0.019205055130402434 41.07203084861315\n",
      "-0.019184564895275393 41.031945877523896\n",
      "-0.01916414211231043 40.991992862849465\n",
      "-0.019143786559460564 40.95217137020021\n",
      "-0.019123498015409822 40.912480966616506\n",
      "-0.01910327625957077 40.87292122056396\n",
      "-0.019083121072082133 40.83349170192877\n",
      "-0.01906303223380638 40.79419198201303\n",
      "-0.0190430095263274 40.75502163353008\n",
      "-0.01902305273194806 40.71598023059982\n",
      "-0.01900316163368788 40.67706734874417\n",
      "-0.018983336015280673 40.63828256488236\n",
      "-0.018963575661172155 40.59962545732637\n",
      "-0.018943880356517638 40.56109560577631\n",
      "-0.01892424988717971 40.52269259131596\n",
      "-0.018904684039725853 40.48441599640808\n",
      "-0.018885182601426184 40.446265404889985\n",
      "-0.01886574536025104 40.40824040196884\n",
      "-0.01884637210486882 40.37034057421739\n",
      "-0.01882706262464356 40.332565509569314\n",
      "-0.018807816709632733 40.294914797314796\n",
      "-0.018788634150584876 40.257388028095995\n",
      "-0.018769514738937402 40.21998479390268\n",
      "-0.0187504582668143 40.18270468806777\n",
      "-0.01873146452702383 40.145547305262866\n",
      "-0.01871253331305634 40.10851224149387\n",
      "-0.018693664419081987 40.07159909409664\n",
      "-0.018674857639948493 40.03480746173253\n",
      "-0.018656112771178953 39.998136944384115\n",
      "-0.018637429608969528 39.9615871433507\n",
      "-0.01861880795018732 39.925157661244185\n",
      "-0.018600247592368148 39.8888481019846\n",
      "-0.018581748333714284 39.852658070795826\n",
      "-0.018563309973092343 39.81658717420134\n",
      "-0.01854493231003101 39.78063502001988\n",
      "-0.018526615144718952 39.74480121736125\n",
      "-0.018508358278002554 39.709085376621985\n",
      "-0.01849016151138382 39.67348710948119\n",
      "-0.018472024647018186 39.63800602889627\n",
      "-0.0184539474877124 39.6026417490988\n",
      "-0.018435929836922344 39.567393885590256\n",
      "-0.01841797149875086 39.53226205513774\n",
      "-0.018400072277945725 39.49724587577007\n",
      "-0.018382231979897443 39.462344966773394\n",
      "-0.01836445041063718 39.4275589486872\n",
      "-0.018346727376834612 39.392887443300104\n",
      "-0.018329062685795837 39.35833007364573\n",
      "-0.0183114561454613 39.32388646399868\n",
      "-0.018293907564403668 39.28955623987039\n",
      "-0.018276416751825807 39.2553390280051\n",
      "-0.018258983517558662 39.22123445637582\n",
      "-0.01824160767205916 39.18724215418012\n",
      "-0.01822428902640823 39.15336175183635\n",
      "-0.018207027392308693 39.119592880979404\n",
      "-0.01818982258208323 39.08593517445684\n",
      "-0.01817267440867236 39.05238826632491\n",
      "-0.01815558268563232 39.018951791844366\n",
      "-0.0181385472271332 38.98562538747683\n",
      "-0.018121567847956734 38.95240869088049\n",
      "-0.018104644363494463 38.91930134090653\n",
      "-0.018087776589745568 38.886302977594795\n",
      "-0.018070964343315 38.853413242170255\n",
      "-0.01805420744141141 38.82063177703886\n",
      "-0.018037505701845178 38.78795822578374\n",
      "-0.01802085894302648 38.75539223316138\n",
      "-0.018004266983963187 38.72293344509757\n",
      "-0.017987729644259032 38.69058150868373\n",
      "-0.01797124674411162 38.658336072173135\n",
      "-0.01795481810431041 38.62619678497683\n",
      "-0.017938443546234823 38.594163297660074\n",
      "-0.017922122891852302 38.56223526193841\n",
      "-0.01790585596371633 38.53041233067389\n",
      "-0.017889642584964546 38.498694157871334\n",
      "-0.017873482579316785 38.4670803986745\n",
      "-0.017857375771073193 38.435570709362395\n",
      "-0.017841321985112332 38.40416474734564\n",
      "-0.017825321046889206 38.37286217116246\n",
      "-0.017809372782433427 38.34166264047527\n",
      "-0.017793477018347305 38.31056581606679\n",
      "-0.017777633581803967 38.279571359836446\n",
      "-0.017761842300545453 38.248678934796644\n",
      "-0.017746103002880872 38.21788820506912\n",
      "-0.017730415517684527 38.18719883588131\n",
      "-0.01771477967439405 38.15661049356268\n",
      "-0.017699195303008553 38.126122845541126\n",
      "-0.01768366223408679 38.09573556033937\n",
      "-0.017668180298745263 38.06544830757124\n",
      "-0.017652749328656455 38.03526075793825\n",
      "-0.017637369156046964 38.0051725832259\n",
      "-0.01762203961369571 37.97518345630023\n",
      "-0.01760676053493202 37.945293051103995\n",
      "-0.017591531753633934 37.915501042653446\n"
     ]
    },
    {
     "name": "stdout",
     "output_type": "stream",
     "text": [
      "-0.017576353104226367 37.885807107034644\n",
      "-0.017561224421679286 37.85621092139994\n",
      "-0.017546145541505895 37.826712163964444\n",
      "-0.017531116299760896 37.79731051400256\n",
      "-0.017516136533038663 37.768005651844476\n",
      "-0.017501206078471544 37.7387972588728\n",
      "-0.017486324773727968 37.709685017518886\n",
      "-0.017471492457010778 37.680668611259556\n",
      "-0.017456708967055458 37.65174772461363\n",
      "-0.017441974143128317 37.62292204313839\n",
      "-0.01742728782502482 37.59419125342628\n",
      "-0.01741264985306778 37.56555504310143\n",
      "-0.01739806006810568 37.537013100816324\n",
      "-0.017383518311510946 37.5085651162484\n",
      "-0.017369024425178136 37.480210780096584\n",
      "-0.017354578251522285 37.45194978407799\n",
      "-0.017340179633477226 37.42378182092465\n",
      "-0.0173258284144938 37.39570658438004\n",
      "-0.0173115244385382 37.36772376919579\n",
      "-0.017297267550090308 37.339833071128474\n",
      "-0.01728305759414193 37.312034186936124\n",
      "-0.017268894416195123 37.284326814375\n",
      "-0.017254777862260606 37.25671065219644\n",
      "-0.017240707778855974 37.22918540014337\n",
      "-0.017226684013004062 37.201750758947156\n",
      "-0.017212706412231306 37.174406430324304\n",
      "-0.017198774824566113 37.14715211697336\n",
      "-0.01718488909853711 37.119987522571435\n",
      "-0.01717104908317158 37.09291235177117\n",
      "-0.017157254627993782 37.06592631019742\n",
      "-0.017143505583023362 37.03902910444417\n",
      "-0.017129801798773655 37.01222044207123\n",
      "-0.017116143126250115 36.985500031601106\n",
      "-0.017102529416948654 36.9588675825158\n",
      "-0.017088960522854052 36.9323228052537\n",
      "-0.017075436296438352 36.905865411206385\n",
      "-0.01706195659065925 36.87949511271557\n",
      "-0.017048521258958498 36.85321162306987\n",
      "-0.01703513015526025 36.827014656501674\n",
      "-0.01702178313396961 36.8009039281842\n",
      "-0.017008480049970937 36.77487915422827\n",
      "-0.01699522075862628 36.74894005167921\n",
      "-0.016982005115773847 36.72308633851382\n",
      "-0.0169688329777264 36.6973177336373\n",
      "-0.016955704201269715 36.671633956880186\n",
      "-0.016942618643661006 36.646034728995296\n",
      "-0.01692957616262741 36.620519771654756\n",
      "-0.016916576616364386 36.59508880744687\n",
      "-0.01690361986353421 36.56974155987317\n",
      "-0.016890705763264464 36.54447775334547\n",
      "-0.016877834175146426 36.5192971131827\n",
      "-0.016865004959233595 36.49419936560804\n",
      "-0.016852217976040182 36.469184237745964\n",
      "-0.016839473086539554 36.444251457619174\n",
      "-0.016826770152162752 36.419400754145755\n",
      "-0.01681410903479698 36.39463185713611\n",
      "-0.01680148959678407 36.36994449729012\n",
      "-0.016788911700919066 36.34533840619421\n",
      "-0.016776375210448596 36.32081331631828\n",
      "-0.01676387998906956 36.296368961013066\n",
      "-0.01675142590092754 36.272005074507085\n",
      "-0.016739012810615274 36.2477213919036\n",
      "-0.016726640583171283 36.22351764917799\n",
      "-0.01671430908407843 36.19939358317487\n",
      "-0.0167020181792623 36.17534893160494\n",
      "-0.01668976773508991 36.151383433042504\n",
      "-0.016677557618368137 36.12749682692236\n",
      "-0.016665387696342363 36.10368885353713\n",
      "-0.016653257836694964 36.07995925403432\n",
      "-0.016641167907543906 36.056307770413625\n",
      "-0.016629117777441298 36.032734145523996\n",
      "-0.016617107315371946 36.00923812306092\n",
      "-0.01660513639075196 35.98581944756361\n",
      "-0.01659320487342731 35.96247786441219\n",
      "-0.016581312633672442 35.93921311982508\n",
      "-0.01656945954218884 35.91602496085604\n",
      "-0.01655764547010364 35.89291313539159\n",
      "-0.01654587028896821 35.86987739214813\n",
      "-0.016534133870756744 35.846917480669255\n",
      "-0.016522436087864873 35.82403315132301\n",
      "-0.016510776813108342 35.80122415529931\n",
      "-0.016499155919721547 35.77849024460707\n",
      "-0.016487573281356187 35.755831172071574\n",
      "-0.01647602877207988 35.73324669133177\n",
      "-0.016464522266374834 35.71073655683768\n",
      "-0.01645305363913641 35.68830052384755\n",
      "-0.016441622765671834 35.66593834842537\n",
      "-0.016430229521698793 35.64364978743811\n",
      "-0.016418873783344123 35.62143459855316\n",
      "-0.016407555427142412 35.59929254023559\n",
      "-0.016396274330034707 35.577223371745625\n",
      "-0.016385030369367143 35.55522685313596\n",
      "-0.016373823422889625 35.5333027452492\n",
      "-0.016362653368754483 35.5114508097152\n",
      "-0.01635152008551519 35.48967080894856\n",
      "-0.016340423452125014 35.467962506146\n",
      "-0.016329363347935638 35.446325665283666\n",
      "-0.016318339652695968 35.4247600511148\n",
      "-0.016307352246550753 35.403265429167014\n",
      "-0.016296401010039253 35.3818415657397\n",
      "-0.016285485824094056 35.360488227901726\n",
      "-0.016274606570039655 35.339205183488644\n",
      "-0.016263763129591276 35.31799220110037\n",
      "-0.016252955384853444 35.29684905009842\n",
      "-0.016242183218318832 35.27577550060368\n",
      "-0.01623144651286694 35.25477132349373\n",
      "-0.016220745151762826 35.23383629040041\n",
      "-0.016210079018655798 35.21297017370733\n",
      "-0.01619944799757819 35.19217274654736\n",
      "-0.016188851972944104 35.17144378280023\n",
      "-0.016178290829548154 35.15078305709008\n",
      "-0.016167764452564175 35.1301903447829\n",
      "-0.016157272727544025 35.109665421984225\n",
      "-0.01614681554041627 35.08920806553652\n",
      "-0.01613639277748503 35.06881805301696\n",
      "-0.01612600432542871 35.04849516273494\n",
      "-0.016115650071298736 35.02823917372955\n",
      "-0.016105329902518353 35.00804986576733\n",
      "-0.016095043706881407 34.9879270193398\n",
      "-0.016084791372551113 34.967870415661054\n",
      "-0.016074572788058843 34.947879836665436\n",
      "-0.01606438784230291 34.927955065005136\n",
      "-0.01605423642454739 34.908095884047846\n",
      "-0.01604411842442088 34.88830207787443\n",
      "-0.01603403373191528 34.86857343127644\n",
      "-0.016023982237384674 34.84890972975396\n",
      "-0.01601396383154404 34.82931075951314\n",
      "-0.01600397840546818 34.809776307464\n",
      "-0.01599402585059042 34.79030616121795\n",
      "-0.01598410605870147 34.77090010908557\n",
      "-0.01597421892194829 34.75155794007434\n",
      "-0.015964364332832885 34.732279443886355\n",
      "-0.0159545421842111 34.713064410915884\n",
      "-0.015944752369291493 34.69391263224723\n",
      "-0.015934994781634224 34.67482389965253\n",
      "-0.015925269315149787 34.65579800558927\n",
      "-0.01591557586409793 34.63683474319819\n",
      "-0.01590591432308649 34.617933906301005\n",
      "-0.015896284587070274 34.59909528939817\n",
      "-0.01588668655134985 34.58031868766658\n",
      "-0.015877120111570445 34.561603896957386\n",
      "-0.015867585163720832 34.542950713793815\n",
      "-0.01585808160413221 34.52435893536896\n",
      "-0.015848609329476994 34.505828359543465\n",
      "-0.01583916823676777 34.487358784843416\n",
      "-0.015829758223356152 34.468950010458165\n",
      "-0.015820379186931653 34.45060183623809\n",
      "-0.0158110310255206 34.43231406269246\n",
      "-0.015801713637484966 34.4140864909872\n",
      "-0.01579242692152136 34.39591892294285\n",
      "-0.015783170776659857 34.377811161032305\n",
      "-0.01577394510226291 34.35976300837873\n",
      "-0.015764749798024284 34.34177426875338\n",
      "-0.015755584763967902 34.32384474657346\n",
      "-0.015746449900446827 34.3059742469\n",
      "-0.015737345108142144 34.2881625754358\n",
      "-0.0157282702880619 34.270409538523275\n",
      "-0.015719225341540015 34.25271494314231\n",
      "-0.015710210170235186 34.23507859690819\n",
      "-0.015701224676129864 34.21750030806955\n",
      "-0.01569226876152915 34.199979885506245\n",
      "-0.015683342329059786 34.18251713872727\n",
      "-0.015674445281668992 34.165111877868696\n",
      "-0.015665577522623538 34.147763913691634\n",
      "-0.01565673895550862 34.13047305758015\n",
      "-0.01564792948422678 34.11323912153916\n",
      "-0.01563914901299697 34.09606191819254\n",
      "-0.015630397446353396 34.07894126078093\n",
      "-0.015621674689144554 34.061876963159776\n",
      "-0.015612980646532172 34.04486883979733\n",
      "-0.015604315223990141 34.02791670577251\n",
      "-0.015595678327303571 34.01102037677308\n",
      "-0.015587069862567684 33.99417966909347\n",
      "-0.015578489736186885 33.97739439963296\n",
      "-0.015569937854873626 33.960664385893466\n",
      "-0.015561414125647478 33.943989445977714\n",
      "-0.015552918455834097 33.927369398587246\n",
      "-0.015544450753064203 33.910804063020365\n",
      "-0.015536010925272592 33.894293259170254\n",
      "-0.01552759888069717 33.87783680752308\n",
      "-0.015519214527877854 33.86143452915581\n",
      "-0.015510857775655681 33.84508624573451\n",
      "-0.015502528533171765 33.82879177951227\n",
      "-0.01549422670986633 33.81255095332734\n",
      "-0.015485952215477676 33.796363590601096\n",
      "-0.015477704960041305 33.78022951533631\n",
      "-0.01546948485388879 33.76414855211498\n",
      "-0.01546129180764696 33.74812052609671\n",
      "-0.01545312573223682 33.73214526301657\n",
      "-0.015444986538872617 33.71622258918334\n",
      "-0.015436874139060872 33.70035233147755\n",
      "-0.015428788444599412 33.684534317349616\n",
      "-0.015420729367576448 33.66876837481802\n",
      "-0.015412696820369576 33.65305433246739\n",
      "-0.015404690715644822 33.6373920194466\n",
      "-0.015396710966355703 33.62178126546692\n",
      "-0.015388757485742314 33.606221900800286\n",
      "-0.015380830187330354 33.59071375627733\n",
      "-0.015372928984930178 33.57525666328558\n",
      "-0.01536505379263585 33.55985045376756\n",
      "-0.015357204524824258 33.54449496021911\n",
      "-0.015349381096154144 33.529190015687426\n",
      "-0.015341583421565205 33.513935453769356\n",
      "-0.015333811416277111 33.49873110860946\n",
      "-0.015326064995788646 33.48357681489833\n",
      "-0.01531834407587676 33.468472407870706\n",
      "-0.015310648572595682 33.4534177233038\n",
      "-0.01530297840227595 33.43841259751534\n",
      "-0.015295333481523529 33.42345686736191\n",
      "-0.015287713727218951 33.40855037023718\n",
      "-0.015280119056516347 33.39369294407008\n",
      "-0.01527254938684257 33.37888442732307\n",
      "-0.015265004635896284 33.364124658990384\n",
      "-0.015257484721647124 33.34941347859629\n",
      "-0.015249989562334707 33.334750726193256\n",
      "-0.015242519076467839 33.32013624236036\n",
      "-0.015235073182823545 33.30556986820142\n",
      "-0.015227651800446294 33.2910514453434\n",
      "-0.01522025484864701 33.27658081593458\n",
      "-0.015212882247002235 33.26215782264284\n",
      "-0.015205533915353293 33.24778230865406\n",
      "-0.01519820977380536 33.23345411767029\n",
      "-0.015190909742726593 33.21917309390805\n",
      "-0.015183633742747338 33.204939082096786\n",
      "-0.0151763816947592 33.19075192747702\n",
      "-0.01516915351991421 33.176611475798786\n",
      "-0.015161949139623944 33.162517573319825\n",
      "-0.01515476847555867 33.14847006680399\n",
      "-0.015147611449646565 33.13446880351964\n",
      "-0.015140477984072778 33.12051363123788\n",
      "-0.015133368001278612 33.10660439823092\n",
      "-0.015126281423960705 33.092740953270486\n",
      "-0.015119218175070141 33.07892314562606\n",
      "-0.01511217817781168 33.0651508250634\n",
      "-0.01510516135564287 33.051423841842784\n",
      "-0.015098167632273214 33.0377420467174\n",
      "-0.015091196931663392 33.02410529093181\n",
      "-0.015084249178024377 33.01051342622023\n",
      "-0.01507732429581661 32.996966304804886\n",
      "-0.015070422209749263 32.98346377939462\n",
      "-0.015063542844779312 32.97000570318303\n",
      "-0.015056686126110767 32.95659192984701\n",
      "-0.01504985197919389 32.943222313545185\n",
      "-0.015043040329724333 32.92989670891622\n",
      "-0.01503625110364236 32.91661497107734\n",
      "-0.015029484227132016 32.903376955622655\n",
      "-0.015022739626620369 32.89018251862172\n",
      "-0.015016017228776685 32.87703151661789\n",
      "-0.015009316960511592 32.8639238066267\n",
      "-0.015002638748976347 32.85085924613442\n",
      "-0.014995982521562035 32.83783769309649\n",
      "-0.014989348205898726 32.8248590059359\n",
      "-0.014982735729854738 32.811923043541704\n",
      "-0.014976145021535861 32.79902966526751\n",
      "-0.014969576009284556 32.78617873092996\n",
      "-0.014963028621679133 32.77337010080705\n",
      "-0.014956502787533063 32.76060363563685\n",
      "-0.014949998435894132 32.7478791966158\n",
      "-0.014943515496043697 32.73519664539729\n",
      "-0.014937053897495911 32.7225558440901\n",
      "-0.01493061356999699 32.709956655257024\n",
      "-0.014924194443524379 32.69739894191319\n",
      "-0.014917796448286056 32.684882567524745\n",
      "-0.014911419514719757 32.672407396007266\n",
      "-0.014905063573492179 32.65997329172427\n",
      "-0.014898728555498281 32.647580119485845\n",
      "-0.01489241439186049 32.63522774454703\n",
      "-0.01488612101392802 32.62291603260655\n",
      "-0.014879848353276014 32.6106448498051\n",
      "-0.01487359634170492 32.59841406272417\n",
      "-0.01486736491123964 32.58622353838431\n",
      "-0.014861153994128894 32.574073144243954\n",
      "-0.014854963522844409 32.56196274819779\n",
      "-0.014848793430080227 32.549892218575415\n",
      "-0.014842643648751905 32.537861424139784\n",
      "-0.014836514111995906 32.52587023408602\n",
      "-0.014830404753168765 32.51391851803973\n",
      "-0.014824315505846392 32.50200614605574\n",
      "-0.014818246303823382 32.49013298861666\n",
      "-0.014812197081112291 32.47829891663149\n",
      "-0.01480616777194285 32.46650380143407\n",
      "-0.014800158310761313 32.45474751478189\n",
      "-0.01479416863222975 32.4430299288546\n",
      "-0.014788198671225314 32.43135091625259\n",
      "-0.01478224836283953 32.419710349995654\n",
      "-0.014776317642377617 32.40810810352164\n",
      "-0.01477040644535772 32.396544050684945\n",
      "-0.014764514707510307 32.3850180657553\n",
      "-0.014758642364777372 32.37353002341628\n",
      "-0.014752789353311807 32.36207979876401\n",
      "-0.014746955609476664 32.35066726730578\n",
      "-0.014741141069844515 32.33929230495874\n",
      "-0.014735345671196696 32.32795478804845\n",
      "-0.014729569350522673 32.31665459330764\n",
      "-0.014723812045019324 32.305391597874795\n",
      "-0.014718073692090298 32.294165679292895\n",
      "-0.014712354229345238 32.282976715507935\n",
      "-0.014706653594599262 32.27182458486784\n",
      "-0.014700971725872146 32.26070916612094\n",
      "-0.01469530856138771 32.24963033841473\n",
      "-0.014689664039573119 32.23858798129447\n",
      "-0.014684038099058227 32.22758197470201\n",
      "-0.014678430678674954 32.21661219897443\n",
      "-0.014672841717456538 32.205678534842704\n",
      "-0.014667271154636957 32.19478086343047\n",
      "-0.01466171892965019 32.183919066252656\n",
      "-0.0146561849821296 32.17309302521423\n",
      "-0.014650669251907285 32.16230262260894\n",
      "-0.01464517167901339 32.151547741117994\n",
      "-0.014639692203675505 32.14082826380885\n",
      "-0.014634230766317976 32.13014407413385\n",
      "-0.01462878730756124 32.119495055929015\n",
      "-0.01462336176822124 32.108881093412755\n",
      "-0.014617954089308724 32.09830207118465\n",
      "-0.014612564212028653 32.08775787422416\n",
      "-0.014607192077779526 32.07724838788938\n",
      "-0.014601837628152746 32.0667734979158\n",
      "-0.014596500804931979 32.05633309041503\n",
      "-0.014591181550092569 32.04592705187364\n",
      "-0.014585879805800856 32.03555526915184\n",
      "-0.014580595514413553 32.02521762948232\n",
      "-0.014575328618477148 32.01491402046895\n",
      "-0.01457007906072726 32.00464433008565\n",
      "-0.01456484678408798 31.99440844667503\n",
      "-0.014559631731671362 31.984206258947406\n",
      "-0.014554433846776666 31.97403765597934\n",
      "-0.014549253072889819 31.963902527212554\n",
      "-0.014544089353682807 31.953800762452758\n",
      "-0.01453894263301303 31.9437322518684\n",
      "-0.014533812854922692 31.933696885989455\n",
      "-0.014528699963638253 31.92369455570634\n",
      "-0.01452360390356972 31.913725152268565\n",
      "-0.014518524619310124 31.903788567283684\n",
      "-0.01451346205563489 31.893884692716057\n",
      "-0.014508416157501241 31.88401342088571\n",
      "-0.014503386870047583 31.874174644467107\n",
      "-0.014498374138592916 31.86436825648802\n",
      "-0.014493377908636269 31.854594150328385\n",
      "-0.014488398125856094 31.84485221971917\n",
      "-0.01448343473610962 31.835142358741066\n",
      "-0.014478487685432338 31.825464461823504\n",
      "-0.014473556920037373 31.815818423743433\n",
      "-0.014468642386314933 31.8062041396242\n",
      "-0.01446374403083169 31.79662150493439\n",
      "-0.014458861800330205 31.787070415486667\n",
      "-0.014453995641728386 31.777550767436743\n",
      "-0.014449145502118855 31.7680624572821\n",
      "-0.014444311328768418 31.75860538186098\n",
      "-0.014439493069117487 31.749179438351277\n",
      "-0.014434690670779451 31.739784524269233\n",
      "-0.01442990408154018 31.73042053746855\n",
      "-0.014425133249357429 31.721087376139188\n",
      "-0.01442037812236028 31.711784938806247\n",
      "-0.014415638648848554 31.702513124328863\n",
      "-0.014410914777292269 31.693271831899125\n",
      "-0.014406206456331071 31.684060961040956\n",
      "-0.014401513634773695 31.674880411609085\n",
      "-0.014396836261597355 31.665730083787814\n",
      "-0.01439217428594728 31.65660987809015\n",
      "-0.01438752765713609 31.64751969535655\n",
      "-0.01438289632464325 31.638459436753894\n",
      "-0.014378280238114537 31.629429003774383\n",
      "-0.014373679347361503 31.620428298234565\n",
      "-0.014369093602360914 31.61145722227415\n",
      "-0.0143645229532542 31.602515678355015\n",
      "-0.01435996735034693 31.59360356926013\n",
      "-0.014355426744108248 31.584720798092462\n",
      "-0.01435090108517036 31.575867268273967\n",
      "-0.014346390324327983 31.567042883544545\n",
      "-0.014341894412537828 31.558247547960992\n",
      "-0.01433741330091803 31.54948116589589\n",
      "-0.014332946940747663 31.540743642036677\n",
      "-0.01432849528346615 31.532034881384472\n",
      "-0.014324058280672819 31.52335478925322\n",
      "-0.014319635884126316 31.514703271268544\n",
      "-0.014315228045744059 31.506080233366667\n",
      "-0.014310834717601775 31.497485581793494\n",
      "-0.014306455851932957 31.488919223103608\n",
      "-0.014302091401128333 31.480381064159154\n",
      "-0.014297741317735363 31.471871012128904\n",
      "-0.01429340555445771 31.463388974487216\n",
      "-0.014289084064154734 31.454934859013022\n",
      "-0.014284776799840977 31.446508573788854\n",
      "-0.014280483714685694 31.438110027199894\n",
      "-0.014276204762012233 31.42973912793277\n",
      "-0.01427193989529763 31.42139578497479\n",
      "-0.014267689068172081 31.413079907612886\n",
      "-0.014263452234418418 31.404791405432576\n",
      "-0.014259229347971617 31.396530188317016\n",
      "-0.014255020362918291 31.38829616644603\n",
      "-0.01425082523349621 31.38008925029513\n",
      "-0.014246643914093773 31.371909350634514\n",
      "-0.014242476359249544 31.363756378528134\n",
      "-0.014238322523651726 31.355630245332694\n",
      "-0.014234182362137686 31.347530862696708\n",
      "-0.014230055829693477 31.33945814255956\n",
      "-0.014225942881453325 31.33141199715049\n",
      "-0.014221843472699149 31.323392338987695\n",
      "-0.014217757558860079 31.315399080877334\n",
      "-0.01421368509551198 31.307432135912645\n",
      "-0.014209626038376937 31.299491417472904\n",
      "-0.014205580343322801 31.291576839222557\n",
      "-0.014201547966362717 31.283688315110272\n",
      "-0.014197528863654604 31.275825759367958\n",
      "-0.014193522991500734 31.2679890865099\n",
      "-0.01418953030634721 31.260178211331795\n",
      "-0.014185550764783525 31.25239304890979\n",
      "-0.014181584323542043 31.244633514599602\n",
      "-0.014177630939497594 31.236899524035614\n",
      "-0.014173690569666974 31.229190993129937\n",
      "-0.014169763171208475 31.22150783807149\n",
      "-0.014165848701421378 31.213849975325026\n",
      "-0.014161947117745589 31.206217321630387\n",
      "-0.014158058377761077 31.198609794001438\n",
      "-0.014154182439187495 31.191027309725264\n",
      "-0.014150319259883637 31.1834697863612\n",
      "-0.014146468797847044 31.175937141739983\n",
      "-0.014142631011213519 31.168429293962845\n",
      "-0.014138805858256682 31.16094616140062\n",
      "-0.014134993297387528 31.153487662692882\n",
      "-0.01413119328715392 31.14605371674699\n",
      "-0.014127405786240221 31.1386442427373\n",
      "-0.014123630753466771 31.131259160104204\n",
      "-0.01411986814778949 31.123898388553314\n",
      "-0.014116117928299405 31.11656184805456\n",
      "-0.014112380054222202 31.109249458841308\n",
      "-0.014108654484917795 31.1019611414095\n",
      "-0.014104941179879909 31.09469681651687\n",
      "-0.01410124009873558 31.08745640518193\n",
      "-0.01409755120124477 31.08023982868324\n",
      "-0.014093874447299898 31.073047008558493\n",
      "-0.014090209796925397 31.065877866603635\n",
      "-0.014086557210277314 31.05873232487209\n",
      "-0.014082916647642867 31.051610305673883\n",
      "-0.014079288069439994 31.044511731574786\n",
      "-0.01407567143621693 31.037436525395442\n",
      "-0.014072066708651791 31.030384610210604\n",
      "-0.014068473847552134 31.023355909348236\n",
      "-0.014064892813854542 31.016350346388723\n",
      "-0.014061323568624171 31.00936784516398\n",
      "-0.014057766073054374 31.002408329756694\n",
      "-0.01405422028846623 30.99547172449944\n",
      "-0.014050686176308155 30.988557953973903\n",
      "-0.014047163698155472 30.98166694301003\n",
      "-0.01404365281571001 30.974798616685238\n",
      "-0.014040153490799647 30.967952900323553\n",
      "-0.014036665685377932 30.961129719494853\n",
      "-0.014033189361523651 30.954329000013995\n",
      "-0.014029724481440438 30.947550667940092\n",
      "-0.014026271007456351 30.94079464957567\n",
      "-0.014022828902023452 30.934060871465825\n",
      "-0.014019398127717386 30.92734926039744\n",
      "-0.014015978647237049 30.920659743398502\n",
      "-0.014012570423404098 30.913992247737156\n",
      "-0.014009173419162564 30.90734670092094\n",
      "-0.014005787597578492 30.9007230306961\n",
      "-0.014002412921839487 30.894121165046684\n",
      "-0.013999049355254358 30.887541032193848\n",
      "-0.013995696861252679 30.880982560595005\n",
      "-0.013992355403384414 30.87444567894309\n",
      "-0.013989024945319523 30.867930316165772\n",
      "-0.013985705450847567 30.861436401424704\n",
      "-0.013982396883877311 30.85496386411475\n",
      "-0.013979099208436317 30.848512633863148\n",
      "-0.013975812388670569 30.84208264052882\n",
      "-0.013972536388844081 30.835673814201595\n",
      "-0.013969271173338517 30.82928608520145\n",
      "-0.013966016706652764 30.82291938407769\n",
      "-0.013962772953402591 30.816573641608276\n",
      "-0.013959539878320276 30.810248788799097\n",
      "-0.013956317446254165 30.8039447568831\n",
      "-0.013953105622168324 30.79766147731961\n",
      "-0.013949904371142161 30.79139888179361\n",
      "-0.013946713658370014 30.785156902214922\n",
      "-0.013946395165360177\n",
      "30.784533835519376\n"
     ]
    }
   ],
   "source": [
    "# Question 3 Answer Code\n",
    "# Write code for you answer to this question in this box\n",
    "m = -0.4\n",
    "c = 80\n",
    "criterion = 0.0001\n",
    "iterations = 10001\n",
    "\n",
    "m_p = m\n",
    "c_p = c\n",
    "for i in np.arange(iterations):\n",
    "    if i % 10 == 0:\n",
    "        f_test = m*x_test + c\n",
    "        print(m, c)\n",
    "#         print(f_test)\n",
    "    m = ((y - c)*x).sum()/(x*x).sum()\n",
    "    c = (y-m*x).sum()/y.shape[0]\n",
    "    if (abs(m-m_p) < criterion) & (abs(c-c_p) < criterion):\n",
    "        break\n",
    "print(m)\n",
    "print(c)"
   ]
  },
  {
   "cell_type": "code",
   "execution_count": 15,
   "metadata": {},
   "outputs": [
    {
     "data": {
      "text/plain": [
       "[<matplotlib.lines.Line2D at 0x19a35ac2e88>]"
      ]
     },
     "execution_count": 15,
     "metadata": {},
     "output_type": "execute_result"
    },
    {
     "data": {
      "image/png": "[encoded data removed]",
      "text/plain": [
       "<Figure size 432x288 with 1 Axes>"
      ]
     },
     "metadata": {
      "needs_background": "light"
     },
     "output_type": "display_data"
    }
   ],
   "source": [
    "f_test = m*x_test + c\n",
    "plt.plot(x_test, f_test, 'b-')\n",
    "plt.plot(x, y, 'rx')"
   ]
  },
  {
   "cell_type": "markdown",
   "metadata": {
    "colab_type": "text",
    "id": "OISgq-DIIhXO"
   },
   "source": [
    "## Multiple Input Solution with Linear Algebra\n",
    "\n",
    "You've now seen how slow it can be to perform a coordinate ascent on a system. Another approach to solving the system (which is not always possible, particularly in *non-linear* systems) is to go direct to the minimum. To do this we need to introduce *linear algebra*. We will represent all our errors and functions in the form of linear algebra. \n",
    "\n",
    "As we mentioned above, linear algebra is just a shorthand for performing lots of multiplications and additions simultaneously. What does it have to do with our system then? Well the first thing to note is that the linear function we were trying to fit has the following form:\n",
    "$$\n",
    "f(x) = mx + c\n",
    "$$\n",
    "the classical form for a straight line. From a linear algebraic perspective we are looking for multiplications and additions. We are also looking to separate our parameters from our data. The data is the *givens* remember, in French the word is données literally translated means *givens* that's great, because we don't need to change the data, what we need to change are the parameters (or variables) of the model. In this function the data comes in through $x$, and the parameters are $m$ and $c$. \n",
    "\n",
    "What we'd like to create is a vector of parameters and a vector of data. Then we could represent the system with vectors that represent the data, and vectors that represent the parameters. \n",
    "\n",
    "We look to turn the multiplications and additions into a linear algebraic form, we have one multiplication ($m\\times c$) and one addition ($mx + c$). But we can turn this into a inner product by writing it in the following way,\n",
    "$$\n",
    "f(x) = m \\times x + c \\times 1,\n",
    "$$\n",
    "in other words we've extracted the unit value, from the offset, $c$. We can think of this unit value like an extra item of data, because it is always given to us, and it is always set to 1 (unlike regular data, which is likely to vary!). We can therefore write each input data location, $\\mathbf{x}$, as a vector\n",
    "$$\n",
    "\\mathbf{x} = \\begin{bmatrix} 1\\\\ x\\end{bmatrix}.\n",
    "$$\n",
    "\n",
    "Now we choose to also turn our parameters into a vector. The parameter vector will be defined to contain \n",
    "$$\n",
    "\\mathbf{w} = \\begin{bmatrix} c \\\\ m\\end{bmatrix}\n",
    "$$\n",
    "because if we now take the inner product between these to vectors we recover\n",
    "$$\n",
    "\\mathbf{x}\\cdot\\mathbf{w} = 1 \\times c + x \\times m = mx + c\n",
    "$$\n",
    "In `numpy` we can define this vector as follows"
   ]
  },
  {
   "cell_type": "code",
   "execution_count": 16,
   "metadata": {
    "colab": {},
    "colab_type": "code",
    "id": "rXPHgOf6IhXP"
   },
   "outputs": [],
   "source": [
    "# define the vector w\n",
    "w = np.zeros(shape=(2, 1))\n",
    "w[0] = m\n",
    "w[1] = c"
   ]
  },
  {
   "cell_type": "markdown",
   "metadata": {
    "colab_type": "text",
    "id": "51YC3QqzIhXR"
   },
   "source": [
    "This gives us the equivalence between original operation and an operation in vector space. Whilst the notation here isn't a lot shorter, the beauty is that we will be able to add as many features as we like and still keep the same representation. In general, we are now moving to a system where each of our predictions is given by an inner product. When we want to represent a linear product in linear algebra, we tend to do it with the transpose operation, so since we have $\\mathbf{a}\\cdot\\mathbf{b} = \\mathbf{a}^\\top\\mathbf{b}$ we can write\n",
    "$$\n",
    "f(\\mathbf{x}_i) = \\mathbf{x}_i^\\top\\mathbf{w}.\n",
    "$$\n",
    "Where we've assumed that each data point, $\\mathbf{x}_i$, is now written by appending a 1 onto the original vector\n",
    "$$\n",
    "\\mathbf{x}_i = \n",
    "\\begin{bmatrix} \n",
    "1 \\\\\n",
    "x_i\n",
    "\\end{bmatrix}\n",
    "$$\n",
    "\n",
    "## Design Matrix\n",
    "\n",
    "We can do this for the entire data set to form a [*design matrix*](http://en.wikipedia.org/wiki/Design_matrix) $\\mathbf{X}$,\n",
    "\n",
    "$$\\mathbf{X} = \\begin{bmatrix} \n",
    "\\mathbf{x}_1^\\top \\\\\\ \n",
    "\\mathbf{x}_2^\\top \\\\\\ \n",
    "\\vdots \\\\\\\n",
    "\\mathbf{x}_n^\\top\n",
    "\\end{bmatrix} = \\begin{bmatrix}\n",
    "1 & x_1 \\\\\\\n",
    "1 & x_2 \\\\\\\n",
    "\\vdots & \\vdots \\\\\\\n",
    "1 & x_n \n",
    "\\end{bmatrix},$$\n",
    "\n",
    "which in `numpy` can be done with the following commands:"
   ]
  },
  {
   "cell_type": "code",
   "execution_count": 17,
   "metadata": {
    "colab": {},
    "colab_type": "code",
    "id": "OMfAXungIhXR"
   },
   "outputs": [
    {
     "name": "stdout",
     "output_type": "stream",
     "text": [
      "[[1.000e+00 1.896e+03]\n",
      " [1.000e+00 1.900e+03]\n",
      " [1.000e+00 1.904e+03]\n",
      " [1.000e+00 1.908e+03]\n",
      " [1.000e+00 1.912e+03]\n",
      " [1.000e+00 1.920e+03]\n",
      " [1.000e+00 1.924e+03]\n",
      " [1.000e+00 1.928e+03]\n",
      " [1.000e+00 1.932e+03]\n",
      " [1.000e+00 1.936e+03]\n",
      " [1.000e+00 1.948e+03]\n",
      " [1.000e+00 1.952e+03]\n",
      " [1.000e+00 1.956e+03]\n",
      " [1.000e+00 1.960e+03]\n",
      " [1.000e+00 1.964e+03]\n",
      " [1.000e+00 1.968e+03]\n",
      " [1.000e+00 1.972e+03]\n",
      " [1.000e+00 1.976e+03]\n",
      " [1.000e+00 1.980e+03]\n",
      " [1.000e+00 1.984e+03]\n",
      " [1.000e+00 1.988e+03]\n",
      " [1.000e+00 1.992e+03]\n",
      " [1.000e+00 1.996e+03]\n",
      " [1.000e+00 2.000e+03]\n",
      " [1.000e+00 2.004e+03]\n",
      " [1.000e+00 2.008e+03]\n",
      " [1.000e+00 2.012e+03]]\n"
     ]
    }
   ],
   "source": [
    "X = np.hstack((np.ones_like(x), x))\n",
    "print(X)"
   ]
  },
  {
   "cell_type": "markdown",
   "metadata": {
    "colab_type": "text",
    "id": "7jXeDyxKIhXT"
   },
   "source": [
    "### Writing the Objective with Linear Algebra\n",
    "\n",
    "When we think of the objective function, we can think of it as the errors where the error is defined in a similar way to what it was in Legendre's day $y_i - f(\\mathbf{x}_i)$, in statistics these errors are also sometimes called [*residuals*](http://en.wikipedia.org/wiki/Errors_and_residuals_in_statistics). So we can think as the objective and the prediction function as two separate parts, first we have,\n",
    "$$\n",
    "E(\\mathbf{w}) = \\sum_{i=1}^n (y_i - f(\\mathbf{x}_i; \\mathbf{w}))^2,\n",
    "$$\n",
    "where we've made the function $f(\\cdot)$'s dependence on the parameters $\\mathbf{w}$ explicit in this equation. Then we have the definition of the function itself,\n",
    "$$\n",
    "f(\\mathbf{x}_i; \\mathbf{w}) = \\mathbf{x}_i^\\top \\mathbf{w}.\n",
    "$$\n",
    "Let's look again at these two equations and see if we can identify any inner products. The first equation is a sum of squares, which is promising. Any sum of squares can be represented by an inner product,\n",
    "$$\n",
    "a = \\sum_{i=1}^{k} b^2_i = \\mathbf{b}^\\top\\mathbf{b},\n",
    "$$\n",
    "so if we wish to represent $E(\\mathbf{w})$ in this way, all we need to do is convert the sum operator to an inner product. We can get a vector from that sum operator by placing both $y_i$ and $f(\\mathbf{x}_i; \\mathbf{w})$ into vectors, which we do by defining \n",
    "$$\n",
    "\\mathbf{y} = \\begin{bmatrix}y_1\\\\y_2\\\\ \\vdots \\\\ y_n\\end{bmatrix}\n",
    "$$\n",
    "and defining\n",
    "$$\n",
    "\\mathbf{f}(\\mathbf{X}; \\mathbf{w}) = \\begin{bmatrix}f(\\mathbf{x}_1; \\mathbf{w})\\\\f(\\mathbf{x}_2; \\mathbf{w})\\\\ \\vdots \\\\ f(\\mathbf{x}_n; \\mathbf{w})\\end{bmatrix}.\n",
    "$$\n",
    "The second of these is actually a vector-valued function. This term may appear intimidating, but the idea is straightforward. A vector valued function is simply a vector whose elements are themselves defined as *functions*, i.e. it is a vector of functions, rather than a vector of scalars. The idea is so straightforward, that we are going to ignore it for the moment, and barely use it in the derivation. But it will reappear later when we introduce *basis functions*. So we will, for the moment, ignore the dependence of $\\mathbf{f}$ on $\\mathbf{w}$ and $\\mathbf{X}$ and simply summarise it by a vector of numbers\n",
    "$$\n",
    "\\mathbf{f} = \\begin{bmatrix}f_1\\\\f_2\\\\ \\vdots \\\\ f_n\\end{bmatrix}.\n",
    "$$\n",
    "This allows us to write our objective in the folowing, linear algebraic form,\n",
    "$$\n",
    "E(\\mathbf{w}) = (\\mathbf{y} - \\mathbf{f})^\\top(\\mathbf{y} - \\mathbf{f})\n",
    "$$\n",
    "from the rules of inner products.\n",
    "\n",
    "But what of our matrix $\\mathbf{X}$ of input data? At this point, we need to dust off [*matrix-vector multiplication*](http://en.wikipedia.org/wiki/Matrix_multiplication). Matrix multiplication is simply a convenient way of performing many inner products together, and it's exactly what we need to summarise the operation\n",
    "$$\n",
    "f_i = \\mathbf{x}_i^\\top\\mathbf{w}.\n",
    "$$\n",
    "This operation tells us that each element of the vector $\\mathbf{f}$ (our vector valued function) is given by an inner product between $\\mathbf{x}_i$ and $\\mathbf{w}$. In other words it is a series of inner products. Let's look at the definition of matrix multiplication, it takes the form\n",
    "$$\n",
    "\\mathbf{c} = \\mathbf{B}\\mathbf{a}\n",
    "$$\n",
    "where $\\mathbf{c}$ might be a $k$ dimensional vector (which we can intepret as a $k\\times 1$ dimensional matrix), and $\\mathbf{B}$ is a $k\\times k$ dimensional matrix and $\\mathbf{a}$ is a $k$ dimensional vector ($k\\times 1$ dimensional matrix). \n",
    "\n",
    "The result of this multiplication is of the form\n",
    "$$\n",
    "\\begin{bmatrix}c_1\\\\c_2 \\\\ \\vdots \\\\ a_k\\end{bmatrix} = \n",
    "\\begin{bmatrix} b_{1,1} & b_{1, 2} & \\dots & b_{1, k} \\\\\n",
    "b_{2, 1} & b_{2, 2} & \\dots & b_{2, k} \\\\\n",
    "\\vdots & \\vdots & \\ddots & \\vdots \\\\\n",
    "b_{k, 1} & b_{k, 2} & \\dots & b_{k, k} \\end{bmatrix} \\begin{bmatrix}a_1\\\\a_2 \\\\ \\vdots\\\\ c_k\\end{bmatrix} = \\begin{bmatrix} b_{1, 1}a_1 + b_{1, 2}a_2 + \\dots + b_{1, k}a_k\\\\\n",
    "b_{2, 1}a_1 + b_{2, 2}a_2 + \\dots + b_{2, k}a_k \\\\ \n",
    "\\vdots\\\\ \n",
    "b_{k, 1}a_1 + b_{k, 2}a_2 + \\dots + b_{k, k}a_k\\end{bmatrix}\n",
    "$$\n",
    "so we see that each element of the result, $\\mathbf{a}$ is simply the inner product between each *row* of $\\mathbf{B}$ and the vector $\\mathbf{c}$. Because we have defined each element of $\\mathbf{f}$ to be given by the inner product between each *row* of the design matrix and the vector $\\mathbf{w}$ we now can write the full operation in one matrix multiplication,\n",
    "$$\n",
    "\\mathbf{f} = \\mathbf{X}\\mathbf{w}.\n",
    "$$"
   ]
  },
  {
   "cell_type": "code",
   "execution_count": 18,
   "metadata": {
    "colab": {},
    "colab_type": "code",
    "id": "Akc1Bu5iIhXU"
   },
   "outputs": [
    {
     "data": {
      "text/plain": [
       "array([[58367.46220575],\n",
       "       [58490.60034109],\n",
       "       [58613.73847643],\n",
       "       [58736.87661178],\n",
       "       [58860.01474712],\n",
       "       [59106.2910178 ],\n",
       "       [59229.42915314],\n",
       "       [59352.56728849],\n",
       "       [59475.70542383],\n",
       "       [59598.84355917],\n",
       "       [59968.2579652 ],\n",
       "       [60091.39610054],\n",
       "       [60214.53423588],\n",
       "       [60337.67237122],\n",
       "       [60460.81050656],\n",
       "       [60583.94864191],\n",
       "       [60707.08677725],\n",
       "       [60830.22491259],\n",
       "       [60953.36304793],\n",
       "       [61076.50118328],\n",
       "       [61199.63931862],\n",
       "       [61322.77745396],\n",
       "       [61445.9155893 ],\n",
       "       [61569.05372464],\n",
       "       [61692.19185999],\n",
       "       [61815.32999533],\n",
       "       [61938.46813067]])"
      ]
     },
     "execution_count": 18,
     "metadata": {},
     "output_type": "execute_result"
    }
   ],
   "source": [
    "f = np.dot(X, w) # np.dot does matrix multiplication in python\n",
    "f"
   ]
  },
  {
   "cell_type": "markdown",
   "metadata": {
    "colab_type": "text",
    "id": "QPi2FcqfIhXV"
   },
   "source": [
    "Combining this result with our objective function,\n",
    "$$\n",
    "E(\\mathbf{w}) = (\\mathbf{y} - \\mathbf{f})^\\top(\\mathbf{y} - \\mathbf{f})\n",
    "$$\n",
    "we find we have defined the *model* with two equations. One equation tells us the form of our predictive function and how it depends on its parameters, the other tells us the form of our objective function."
   ]
  },
  {
   "cell_type": "code",
   "execution_count": 19,
   "metadata": {
    "colab": {},
    "colab_type": "code",
    "id": "qnX5nc6OIhXW"
   },
   "outputs": [
    {
     "name": "stdout",
     "output_type": "stream",
     "text": [
      "Error function is: [[9.79469308e+10]]\n"
     ]
    }
   ],
   "source": [
    "resid = (y-f)\n",
    "E = np.dot(resid.T, resid) # matrix multiplication on a single vector is equivalent to a dot product.\n",
    "print(\"Error function is:\", E)"
   ]
  },
  {
   "cell_type": "markdown",
   "metadata": {
    "colab_type": "text",
    "id": "AUOMep0BIhXY"
   },
   "source": [
    "### Question 4\n",
    "\n",
    "The prediction for our movie recommender system had the form\n",
    "$$\n",
    "f_{i,j} = \\mathbf{u}_i^\\top \\mathbf{v}_j\n",
    "$$\n",
    "and the objective function was then\n",
    "$$\n",
    "E = \\sum_{i,j} s_{i,j}(y_{i,j} - f_{i, j})^2\n",
    "$$\n",
    "Try writing this down in matrix and vector form. How many of the terms can you do? For each variable and parameter carefully think about whether it should be represented as a matrix or vector. Do as many of the terms as you can. Use $\\LaTeX$ to give your answers and give the *dimensions* of any matrices you create."
   ]
  },
  {
   "cell_type": "markdown",
   "metadata": {
    "colab_type": "text",
    "id": "3KT-rXDCIhXY"
   },
   "source": [
    "#### Question 4 Answer\n",
    "\n",
    "Write your answer to the question in this box.\n",
    "\n",
    "$$\n",
    "    E(\\mathbf{w}) = (\\mathbf{y} -  \\mathbf{v}\\mathbf{u})^\\top(\\mathbf{y} - \\mathbf{v}\\mathbf{u})\n",
    "$$"
   ]
  },
  {
   "cell_type": "markdown",
   "metadata": {
    "colab_type": "text",
    "id": "x60Yae00IhXZ"
   },
   "source": [
    "## Objective Optimisation\n",
    "\n",
    "Our *model* has now been defined with two equations, the prediction function and the objective function. Next we will use multivariate calculus to define an *algorithm* to fit the model. The separation between model and algorithm is important and is often overlooked. Our model contains a function that shows how it will be used for prediction, and a function that describes the objective function we need to optimise to obtain a good set of parameters. \n",
    "\n",
    "The linear regression model we have described is still the same as the one we fitted above with a coordinate ascent algorithm. We have only played with the notation to obtain the same model in a matrix and vector notation. However, we will now fit this model with a different algorithm, one that is much faster. It is such a widely used algorithm that from the end user's perspective it doesn't even look like an algorithm, it just appears to be a single operation (or function). However, underneath the computer calls an algorithm to find the solution. Further, the algorithm we obtain is very widely used, and because of this it turns out to be highly optimised.\n",
    "\n",
    "Once again we are going to try and find the stationary points of our objective by finding the *stationary points*. However, the stationary points of a multivariate function, are a little bit more complext to find. Once again we need to find the point at which the derivative is zero, but now we need to use  *multivariate calculus* to find it. This involves learning a few additional rules of differentiation (that allow you to do the derivatives of a function with respect to  vector), but in the end it makes things quite a bit easier. We define vectorial derivatives as follows,\n",
    "$$\n",
    "\\frac{\\text{d}E(\\mathbf{w})}{\\text{d}\\mathbf{w}} = \\begin{bmatrix}\\frac{\\partial E(\\mathbf{w})}{\\partial w_1}\\\\\\frac{\\partial E(\\mathbf{w})}{\\partial w_2}\\end{bmatrix}.\n",
    "$$\n",
    "where $\\frac{\\partial E(\\mathbf{w})}{\\partial w_1}$ is the [partial derivative](http://en.wikipedia.org/wiki/Partial_derivative) of the error function with respect to $w_1$.\n",
    "\n",
    "Differentiation through multiplications and additions is relatively straightforward, and since linear algebra is just multiplication and addition, then its rules of diffentiation are quite straightforward too, but slightly more complex than regular derivatives. \n",
    "\n",
    "### Matrix Differentiation\n",
    "\n",
    "We will need two rules of differentiation. The first is diffentiation of an inner product. By remebering that the inner product is made up of multiplication and addition, we can hope that its derivative is quite straightforward, and so it proves to be. We can start by thinking about the definition of the inner product,\n",
    "$$\n",
    "\\mathbf{a}^\\top\\mathbf{z} = \\sum_{i} a_i z_i,\n",
    "$$\n",
    "which if we were to take the derivative with respect to $z_k$ would simply return the gradient of the one term in the sum for which the derivative was non zero, that of $a_k$, so we know that \n",
    "$$\n",
    "\\frac{\\text{d}}{\\text{d}z_k} \\mathbf{a}^\\top \\mathbf{z} = a_k\n",
    "$$\n",
    "and by our definition of multivariate derivatives we can simply stack all the partial derivatives of this form in a vector to obtain the result that\n",
    "$$\n",
    "\\frac{\\text{d}}{\\text{d}\\mathbf{z}} \\mathbf{a}^\\top \\mathbf{z} = \\mathbf{a}.\n",
    "$$\n",
    "The second rule that's required is differentiation of a 'matrix quadratic'. A scalar quadratic in $z$ with coefficient $c$ has the form $cz^2$. If $\\mathbf{z}$ is a $k\\times 1$ vector and $\\mathbf{C}$ is a $k \\times k$ *matrix* of coefficients then the matrix quadratic form is written as $\\mathbf{z}^\\top \\mathbf{C}\\mathbf{z}$, which is itself a *scalar* quantity, but it is a function of a *vector*. \n",
    "\n",
    "#### Matching Dimensions in Matrix Multiplications\n",
    "\n",
    "There's a trick for telling that it's a scalar result. When you are doing maths with matrices, it's always worth pausing to perform a quick sanity check on the dimensions. Matrix multplication only works when the dimensions match. To be precise, the 'inner' dimension of the matrix must match. What is the inner dimension. If we multiply two matrices $\\mathbf{A}$ and $\\mathbf{B}$, the first of which has $k$ rows and $\\ell$ columns and the second of which has $p$ rows and $q$ columns, then we can check whether the multiplication works by writing the dimensionalities next to each other,\n",
    "$$\n",
    "\\mathbf{A} \\mathbf{B} \\rightarrow (k \\times \\underbrace{\\ell)(p}_\\text{inner dimensions} \\times q) \\rightarrow (k\\times q).\n",
    "$$\n",
    "The inner dimensions are the two inside dimensions, $\\ell$ and $p$. The multiplication will only work if $\\ell=p$. The result of the multiplication will then be a $k\\times q$ matrix: this dimensionality comes from the 'outer dimensions'. Note that matrix multiplication is not [*commutative*](http://en.wikipedia.org/wiki/Commutative_property). And if you change the order of the multiplication, \n",
    "$$\n",
    "\\mathbf{B} \\mathbf{A} \\rightarrow (\\ell \\times \\underbrace{k)(q}_\\text{inner dimensions} \\times p) \\rightarrow (\\ell \\times p).\n",
    "$$\n",
    "firstly it may no longer even work, because now the condition is that $k=q$, and secondly the result could be of a different dimensionality. An exception is if the matrices are square matrices (e.g. same number of rows as columns) and they are both *symmetric*. A symmetric matrix is one for which $\\mathbf{A}=\\mathbf{A}^\\top$, or equivalently, $a_{i,j} = a_{j,i}$ for all $i$ and $j$.  \n",
    "\n",
    "You will need to get used to working with matrices and vectors applying and developing new machine learning techniques. You should have come across them before, but you may not have used them as extensively as we will now do in this course. You should get used to using this trick to check your work and ensure you know what the dimension of an output matrix should be. For our matrix quadratic form, it turns out that we can see it as a special type of inner product.\n",
    "$$\n",
    "\\mathbf{z}^\\top\\mathbf{C}\\mathbf{z} \\rightarrow (1\\times \\underbrace{k) (k}_\\text{inner dimensions}\\times k) (k\\times 1) \\rightarrow \\mathbf{b}^\\top\\mathbf{z}\n",
    "$$\n",
    "where $\\mathbf{b} = \\mathbf{C}\\mathbf{z}$ so therefore the result is a scalar,\n",
    "$$\n",
    "\\mathbf{b}^\\top\\mathbf{z} \\rightarrow (1\\times \\underbrace{k) (k}_\\text{inner dimensions}\\times 1) \\rightarrow (1\\times 1)\n",
    "$$\n",
    "where a $(1\\times 1)$ matrix is recognised as a scalar.\n",
    "\n",
    "This implies that we should be able to differentiate this form, and indeed the rule for its differentiation is slightly more complex than the inner product, but still quite simple,\n",
    "$$\n",
    "\\frac{\\text{d}}{\\text{d}\\mathbf{z}} \\mathbf{z}^\\top\\mathbf{C}\\mathbf{z}= \\mathbf{C}\\mathbf{z} + \\mathbf{C}^\\top \\mathbf{z}.\n",
    "$$\n",
    "Note that in the special case where $\\mathbf{C}$ is symmetric then we have $\\mathbf{C} = \\mathbf{C}^\\top$ and the derivative simplifies to \n",
    "$$\n",
    "\\frac{\\text{d}}{\\text{d}\\mathbf{z}} \\mathbf{z}^\\top\\mathbf{C}\\mathbf{z}= 2\\mathbf{C}\\mathbf{z}.\n",
    "$$\n",
    "### Differentiating the Objective\n",
    "\n",
    "First, we need to compute the full objective by substituting our prediction function into the objective function to obtain the objective in terms of $\\mathbf{w}$. Doing this we obtain\n",
    "$$\n",
    "E(\\mathbf{w})= (\\mathbf{y} - \\mathbf{X}\\mathbf{w})^\\top (\\mathbf{y} - \\mathbf{X}\\mathbf{w}).\n",
    "$$\n",
    "We now need to differentiate this *quadratic form* to find the minimum. We differentiate with respect to the *vector* $\\mathbf{w}$. But before we do that, we'll expand the brackets in the quadratic form to obtain a series of scalar terms. The rules for bracket expansion across the vectors are similar to those for the scalar system giving,\n",
    "$$\n",
    "(\\mathbf{a} - \\mathbf{b})^\\top (\\mathbf{c} - \\mathbf{d}) = \\mathbf{a}^\\top \\mathbf{c} - \\mathbf{a}^\\top \\mathbf{d} - \\mathbf{b}^\\top \\mathbf{c} + \\mathbf{b}^\\top \\mathbf{d}\n",
    "$$\n",
    "which substituting for $\\mathbf{a} = \\mathbf{c} = \\mathbf{y}$ and $\\mathbf{b}=\\mathbf{d} = \\mathbf{X}\\mathbf{w}$ gives\n",
    "$$\n",
    "E(\\mathbf{w})= \\mathbf{y}^\\top\\mathbf{y} - 2\\mathbf{y}^\\top\\mathbf{X}\\mathbf{w} + \\mathbf{w}^\\top\\mathbf{X}^\\top\\mathbf{X}\\mathbf{w}\n",
    "$$\n",
    "where we used the fact that $\\mathbf{y}^\\top\\mathbf{X}\\mathbf{w}= \\mathbf{w}^\\top\\mathbf{X}^\\top\\mathbf{y}$. Now we can use our rules of differentiation to compute the derivative of this form, which is,\n",
    "$$\n",
    "\\frac{\\text{d}}{\\text{d}\\mathbf{w}}E(\\mathbf{w})=- 2\\mathbf{X}^\\top \\mathbf{y} + 2\\mathbf{X}^\\top\\mathbf{X}\\mathbf{w},\n",
    "$$\n",
    "where we have exploited the fact that $\\mathbf{X}^\\top\\mathbf{X}$ is symmetric to obtain this result."
   ]
  },
  {
   "cell_type": "markdown",
   "metadata": {
    "colab_type": "text",
    "id": "o0-u_ZXnIhXa"
   },
   "source": [
    "### Question 5\n",
    "\n",
    "Use the equivalence between our vector and our matrix formulations of linear regression, alongside our definition of vector derivates, to match the gradients we've computed directly for $\\frac{\\text{d}E(c, m)}{\\text{d}c}$ and $\\frac{\\text{d}E(c, m)}{\\text{d}m}$ to those for $\\frac{\\text{d}E(\\mathbf{w})}{\\text{d}\\mathbf{w}}$."
   ]
  },
  {
   "cell_type": "markdown",
   "metadata": {
    "colab_type": "text",
    "id": "RLBuLKnbIhXa"
   },
   "source": [
    "#### Question 5 Answer\n",
    "\n",
    "Write your answer to the question in this box."
   ]
  },
  {
   "cell_type": "markdown",
   "metadata": {
    "colab_type": "text",
    "id": "dUnWyiPqIhXb"
   },
   "source": [
    "## Update Equation for Global Optimum\n",
    "\n",
    "Once again, we need to find the minimum of our objective function. Using our likelihood for multiple input regression we can now minimize for our parameter vector $\\mathbf{w}$. Firstly, just as in the single input case, we seek stationary points by finding parameter vectors that solve for when the gradients are zero,\n",
    "$$\n",
    "\\mathbf{0}=- 2\\mathbf{X}^\\top \\mathbf{y} + 2\\mathbf{X}^\\top\\mathbf{X}\\mathbf{w},\n",
    "$$\n",
    "where $\\mathbf{0}$ is a *vector* of zeros. Rearranging this equation we find the solution to be\n",
    "$$\n",
    "\\mathbf{w} = \\left[\\mathbf{X}^\\top \\mathbf{X}\\right]^{-1} \\mathbf{X}^\\top \\mathbf{y}\n",
    "$$ \n",
    "where $\\mathbf{A}^{-1}$ denotes [*matrix inverse*](http://en.wikipedia.org/wiki/Invertible_matrix).\n",
    "\n",
    "### Solving the Multivariate System\n",
    "\n",
    "The solution for $\\mathbf{w}$ is given in terms of a matrix inverse, but computation of a matrix inverse requires, in itself, an algorithm to resolve it. You'll know this if you had to invert, by hand, a $3\\times 3$ matrix in high school. From a numerical stability perspective, it is also best not to compute the matrix inverse directly, but rather to ask the computer to *solve* the  system of linear equations given by\n",
    "$$\\mathbf{X}^\\top\\mathbf{X} \\mathbf{w} = \\mathbf{X}^\\top\\mathbf{y}$$\n",
    "for $\\mathbf{w}$. This can be done in `numpy` using the command"
   ]
  },
  {
   "cell_type": "code",
   "execution_count": 20,
   "metadata": {
    "colab": {},
    "colab_type": "code",
    "id": "xBpczsxYIhXb"
   },
   "outputs": [],
   "source": [
    "np.linalg.solve?"
   ]
  },
  {
   "cell_type": "markdown",
   "metadata": {
    "colab_type": "text",
    "id": "T8Y8281mIhXd"
   },
   "source": [
    "so we can obtain the solution using"
   ]
  },
  {
   "cell_type": "code",
   "execution_count": 21,
   "metadata": {
    "colab": {},
    "colab_type": "code",
    "id": "gq_GPypVIhXe"
   },
   "outputs": [
    {
     "name": "stdout",
     "output_type": "stream",
     "text": [
      "[[ 2.88952457e+01]\n",
      " [-1.29806477e-02]]\n"
     ]
    }
   ],
   "source": [
    "w = np.linalg.solve(np.dot(X.T, X), np.dot(X.T, y))\n",
    "print(w)"
   ]
  },
  {
   "cell_type": "markdown",
   "metadata": {
    "colab_type": "text",
    "id": "S5uGj1FLIhXg"
   },
   "source": [
    "We can map it back to the liner regression and plot the fit as follows"
   ]
  },
  {
   "cell_type": "code",
   "execution_count": 22,
   "metadata": {
    "colab": {},
    "colab_type": "code",
    "id": "SNddBAQ5IhXh"
   },
   "outputs": [
    {
     "name": "stdout",
     "output_type": "stream",
     "text": [
      "[-0.01298065]\n",
      "[28.89524574]\n"
     ]
    },
    {
     "data": {
      "text/plain": [
       "[<matplotlib.lines.Line2D at 0x19a35b4b148>]"
      ]
     },
     "execution_count": 22,
     "metadata": {},
     "output_type": "execute_result"
    },
    {
     "data": {
      "image/png": "[encoded data removed]",
      "text/plain": [
       "<Figure size 432x288 with 1 Axes>"
      ]
     },
     "metadata": {
      "needs_background": "light"
     },
     "output_type": "display_data"
    }
   ],
   "source": [
    "m = w[1]; c=w[0]\n",
    "f_test = m*x_test + c\n",
    "print(m)\n",
    "print(c)\n",
    "plt.plot(x_test, f_test, 'b-')\n",
    "plt.plot(x, y, 'rx')"
   ]
  },
  {
   "cell_type": "markdown",
   "metadata": {
    "colab_type": "text",
    "id": "TXFosul6IhXj"
   },
   "source": [
    "## Multivariate Linear Regression\n",
    "\n",
    "A major advantage of the new system is that we can build a linear regression on a multivariate system. The matrix calculus didn't specify what the length of the vector $\\mathbf{x}$ should be, or equivalently the size of the design matrix. \n",
    "\n",
    "### Movie Body Count Data\n",
    "\n",
    "Let's load back in the movie body count data."
   ]
  },
  {
   "cell_type": "code",
   "execution_count": 23,
   "metadata": {
    "colab": {},
    "colab_type": "code",
    "id": "rixexyvHIhXj"
   },
   "outputs": [],
   "source": [
    "data = pods.datasets.movie_body_count()\n",
    "movies = data['Y']"
   ]
  },
  {
   "cell_type": "markdown",
   "metadata": {
    "colab_type": "text",
    "id": "t90jPQP_IhXl"
   },
   "source": [
    "Let's remind ourselves of the features we've been provided with."
   ]
  },
  {
   "cell_type": "code",
   "execution_count": 24,
   "metadata": {
    "colab": {},
    "colab_type": "code",
    "id": "OIbAICXIIhXm"
   },
   "outputs": [
    {
     "name": "stdout",
     "output_type": "stream",
     "text": [
      "Film, Year, Body_Count, MPAA_Rating, Genre, Director, Actors, Length_Minutes, IMDB_Rating\n"
     ]
    }
   ],
   "source": [
    "print(', '.join(movies.columns))"
   ]
  },
  {
   "cell_type": "markdown",
   "metadata": {
    "colab_type": "text",
    "id": "HLMN-RdcIhXn"
   },
   "source": [
    "Now we will build a design matrix based on the numeric features: year, Body_Count, Length_Minutes in an effort to predict the rating. We build the design matrix as follows:\n",
    "\n",
    "## Relation to Single Input System\n",
    "\n",
    "Bias as an additional feature."
   ]
  },
  {
   "cell_type": "code",
   "execution_count": 25,
   "metadata": {
    "colab": {},
    "colab_type": "code",
    "id": "6osWbNviIhXo"
   },
   "outputs": [],
   "source": [
    "select_features = ['Year', 'Body_Count', 'Length_Minutes']\n",
    "X = movies.loc[:, select_features]\n",
    "X['Eins'] = 1 # add a column for the offset\n",
    "y = movies[['IMDB_Rating']]"
   ]
  },
  {
   "cell_type": "markdown",
   "metadata": {
    "colab_type": "text",
    "id": "qVarrAsjIhXq"
   },
   "source": [
    "Now let's perform a linear regression. But this time, we will create a pandas data frame for the result so we can store it in a form that we can visualise easily."
   ]
  },
  {
   "cell_type": "code",
   "execution_count": 26,
   "metadata": {
    "colab": {},
    "colab_type": "code",
    "id": "0ZJDLjQ1IhXr"
   },
   "outputs": [
    {
     "data": {
      "text/html": [
       "<div>\n",
       "<style scoped>\n",
       "    .dataframe tbody tr th:only-of-type {\n",
       "        vertical-align: middle;\n",
       "    }\n",
       "\n",
       "    .dataframe tbody tr th {\n",
       "        vertical-align: top;\n",
       "    }\n",
       "\n",
       "    .dataframe thead th {\n",
       "        text-align: right;\n",
       "    }\n",
       "</style>\n",
       "<table border=\"1\" class=\"dataframe\">\n",
       "  <thead>\n",
       "    <tr style=\"text-align: right;\">\n",
       "      <th></th>\n",
       "      <th>regression_coefficient</th>\n",
       "    </tr>\n",
       "  </thead>\n",
       "  <tbody>\n",
       "    <tr>\n",
       "      <td>Year</td>\n",
       "      <td>-0.016280</td>\n",
       "    </tr>\n",
       "    <tr>\n",
       "      <td>Body_Count</td>\n",
       "      <td>-0.000995</td>\n",
       "    </tr>\n",
       "    <tr>\n",
       "      <td>Length_Minutes</td>\n",
       "      <td>0.025386</td>\n",
       "    </tr>\n",
       "    <tr>\n",
       "      <td>Eins</td>\n",
       "      <td>36.508363</td>\n",
       "    </tr>\n",
       "  </tbody>\n",
       "</table>\n",
       "</div>"
      ],
      "text/plain": [
       "                regression_coefficient\n",
       "Year                         -0.016280\n",
       "Body_Count                   -0.000995\n",
       "Length_Minutes                0.025386\n",
       "Eins                         36.508363"
      ]
     },
     "execution_count": 26,
     "metadata": {},
     "output_type": "execute_result"
    }
   ],
   "source": [
    "import pandas as pd\n",
    "w = pd.DataFrame(data=np.linalg.solve(np.dot(X.T, X), np.dot(X.T, y)),  # solve linear regression here\n",
    "                 index = X.columns,  # columns of X become rows of w\n",
    "                 columns=['regression_coefficient']) # the column of X is the value of regression coefficient\n",
    "w"
   ]
  },
  {
   "cell_type": "markdown",
   "metadata": {
    "colab_type": "text",
    "id": "WjS2Xkp4IhXt"
   },
   "source": [
    "We can check the residuals to see how good our estimates are"
   ]
  },
  {
   "cell_type": "code",
   "execution_count": 27,
   "metadata": {
    "colab": {},
    "colab_type": "code",
    "id": "don5UttIIhXu"
   },
   "outputs": [
    {
     "data": {
      "text/plain": [
       "array([[<matplotlib.axes._subplots.AxesSubplot object at 0x0000019A35FD6F88>]],\n",
       "      dtype=object)"
      ]
     },
     "execution_count": 27,
     "metadata": {},
     "output_type": "execute_result"
    },
    {
     "data": {
      "image/png": "[encoded data removed]",
      "text/plain": [
       "<Figure size 432x288 with 1 Axes>"
      ]
     },
     "metadata": {
      "needs_background": "light"
     },
     "output_type": "display_data"
    }
   ],
   "source": [
    "(y - np.dot(X, w)).hist()"
   ]
  },
  {
   "cell_type": "markdown",
   "metadata": {
    "colab_type": "text",
    "id": "zRccLfA0IhXw"
   },
   "source": [
    "Which shows our model *hasn't* yet done a great job of representation, because the spread of values is large. We can check what the rating is dominated by in terms of regression coefficients."
   ]
  },
  {
   "cell_type": "code",
   "execution_count": 28,
   "metadata": {
    "colab": {},
    "colab_type": "code",
    "id": "odqxyFYVIhXw"
   },
   "outputs": [
    {
     "data": {
      "text/html": [
       "<div>\n",
       "<style scoped>\n",
       "    .dataframe tbody tr th:only-of-type {\n",
       "        vertical-align: middle;\n",
       "    }\n",
       "\n",
       "    .dataframe tbody tr th {\n",
       "        vertical-align: top;\n",
       "    }\n",
       "\n",
       "    .dataframe thead th {\n",
       "        text-align: right;\n",
       "    }\n",
       "</style>\n",
       "<table border=\"1\" class=\"dataframe\">\n",
       "  <thead>\n",
       "    <tr style=\"text-align: right;\">\n",
       "      <th></th>\n",
       "      <th>regression_coefficient</th>\n",
       "    </tr>\n",
       "  </thead>\n",
       "  <tbody>\n",
       "    <tr>\n",
       "      <td>Year</td>\n",
       "      <td>-0.016280</td>\n",
       "    </tr>\n",
       "    <tr>\n",
       "      <td>Body_Count</td>\n",
       "      <td>-0.000995</td>\n",
       "    </tr>\n",
       "    <tr>\n",
       "      <td>Length_Minutes</td>\n",
       "      <td>0.025386</td>\n",
       "    </tr>\n",
       "    <tr>\n",
       "      <td>Eins</td>\n",
       "      <td>36.508363</td>\n",
       "    </tr>\n",
       "  </tbody>\n",
       "</table>\n",
       "</div>"
      ],
      "text/plain": [
       "                regression_coefficient\n",
       "Year                         -0.016280\n",
       "Body_Count                   -0.000995\n",
       "Length_Minutes                0.025386\n",
       "Eins                         36.508363"
      ]
     },
     "execution_count": 28,
     "metadata": {},
     "output_type": "execute_result"
    }
   ],
   "source": [
    "w"
   ]
  },
  {
   "cell_type": "markdown",
   "metadata": {
    "colab_type": "text",
    "id": "4Rk1egsAIhXy"
   },
   "source": [
    "Although we have to be a little careful about interpretation because our input values live on different scales, however it looks like we are dominated by the bias, with a small negative effect for later films (but bear in mind the years are large, so this effect is probably larger than it looks) and a positive effect for length. So it looks like long earlier films generally do better, but the residuals are so high that we probably haven't modelled the system very well."
   ]
  },
  {
   "cell_type": "code",
   "execution_count": 29,
   "metadata": {
    "colab": {},
    "colab_type": "code",
    "id": "RcsOawd6IhXz"
   },
   "outputs": [
    {
     "data": {
      "image/jpeg": "[encoded data removed]",
      "text/html": [
       "\n",
       "        <iframe\n",
       "            width=\"400\"\n",
       "            height=\"300\"\n",
       "            src=\"https://www.youtube.com/embed/ui-uNlFHoms\"\n",
       "            frameborder=\"0\"\n",
       "            allowfullscreen\n",
       "        ></iframe>\n",
       "        "
      ],
      "text/plain": [
       "<IPython.lib.display.YouTubeVideo at 0x19a3609f388>"
      ]
     },
     "execution_count": 29,
     "metadata": {},
     "output_type": "execute_result"
    }
   ],
   "source": [
    "from IPython.display import YouTubeVideo\n",
    "YouTubeVideo('ui-uNlFHoms')"
   ]
  },
  {
   "cell_type": "code",
   "execution_count": 30,
   "metadata": {
    "colab": {},
    "colab_type": "code",
    "id": "PoBkiT8nIhX0"
   },
   "outputs": [
    {
     "data": {
      "image/jpeg": "[encoded data removed]",
      "text/html": [
       "\n",
       "        <iframe\n",
       "            width=\"400\"\n",
       "            height=\"300\"\n",
       "            src=\"https://www.youtube.com/embed/78YNphT90-k\"\n",
       "            frameborder=\"0\"\n",
       "            allowfullscreen\n",
       "        ></iframe>\n",
       "        "
      ],
      "text/plain": [
       "<IPython.lib.display.YouTubeVideo at 0x19a360ef8c8>"
      ]
     },
     "execution_count": 30,
     "metadata": {},
     "output_type": "execute_result"
    }
   ],
   "source": [
    "from IPython.display import YouTubeVideo\n",
    "YouTubeVideo('78YNphT90-k')"
   ]
  },
  {
   "cell_type": "markdown",
   "metadata": {
    "colab_type": "text",
    "id": "_oFW65tJIhX3"
   },
   "source": [
    "## Solution with QR Decomposition\n",
    "\n",
    "Performing a solve instead of a matrix inverse is the more numerically stable approach, but we can do even better. A [QR-decomposition](http://en.wikipedia.org/wiki/QR_decomposition) of a matrix factorises it into a matrix which is an orthogonal matrix $\\mathbf{Q}$, so that $\\mathbf{Q}^\\top \\mathbf{Q} = \\mathbf{I}$. And a matrix which is upper triangular, $\\mathbf{R}$. \n",
    "$$\n",
    "\\mathbf{X}^\\top \\mathbf{X} \\boldsymbol{\\beta} = \\mathbf{X}^\\top \\mathbf{y}\n",
    "$$\n",
    "$$\n",
    "(\\mathbf{Q}\\mathbf{R})^\\top (\\mathbf{Q}\\mathbf{R})\\boldsymbol{\\beta} = (\\mathbf{Q}\\mathbf{R})^\\top \\mathbf{y}\n",
    "$$\n",
    "$$\n",
    "\\mathbf{R}^\\top (\\mathbf{Q}^\\top \\mathbf{Q}) \\mathbf{R} \\boldsymbol{\\beta} = \\mathbf{R}^\\top \\mathbf{Q}^\\top \\mathbf{y}\n",
    "$$\n",
    "$$\n",
    "\\mathbf{R}^\\top \\mathbf{R} \\boldsymbol{\\beta} = \\mathbf{R}^\\top \\mathbf{Q}^\\top \\mathbf{y}\n",
    "$$\n",
    "$$\n",
    "\\mathbf{R} \\boldsymbol{\\beta} = \\mathbf{Q}^\\top \\mathbf{y}\n",
    "$$\n",
    "This is a more numerically stable solution because it removes the need to compute $\\mathbf{X}^\\top\\mathbf{X}$ as an intermediate. Computing $\\mathbf{X}^\\top\\mathbf{X}$ is a bad idea because it involves squaring all the elements of $\\mathbf{X}$ and thereby potentially reducing the numerical precision with which we can represent the solution. Operating on $\\mathbf{X}$ directly preserves the numerical precision of the model.\n",
    "\n",
    "This can be more particularly seen when we begin to work with *basis functions* in the next week. Some systems that can be resolved with the QR decomposition can not be resolved by using solve directly."
   ]
  },
  {
   "cell_type": "code",
   "execution_count": 31,
   "metadata": {
    "colab": {},
    "colab_type": "code",
    "id": "3Lr3YPkbIhX4"
   },
   "outputs": [
    {
     "data": {
      "text/html": [
       "<div>\n",
       "<style scoped>\n",
       "    .dataframe tbody tr th:only-of-type {\n",
       "        vertical-align: middle;\n",
       "    }\n",
       "\n",
       "    .dataframe tbody tr th {\n",
       "        vertical-align: top;\n",
       "    }\n",
       "\n",
       "    .dataframe thead th {\n",
       "        text-align: right;\n",
       "    }\n",
       "</style>\n",
       "<table border=\"1\" class=\"dataframe\">\n",
       "  <thead>\n",
       "    <tr style=\"text-align: right;\">\n",
       "      <th></th>\n",
       "      <th>0</th>\n",
       "    </tr>\n",
       "  </thead>\n",
       "  <tbody>\n",
       "    <tr>\n",
       "      <td>Year</td>\n",
       "      <td>-0.016280</td>\n",
       "    </tr>\n",
       "    <tr>\n",
       "      <td>Body_Count</td>\n",
       "      <td>-0.000995</td>\n",
       "    </tr>\n",
       "    <tr>\n",
       "      <td>Length_Minutes</td>\n",
       "      <td>0.025386</td>\n",
       "    </tr>\n",
       "    <tr>\n",
       "      <td>Eins</td>\n",
       "      <td>36.508363</td>\n",
       "    </tr>\n",
       "  </tbody>\n",
       "</table>\n",
       "</div>"
      ],
      "text/plain": [
       "                        0\n",
       "Year            -0.016280\n",
       "Body_Count      -0.000995\n",
       "Length_Minutes   0.025386\n",
       "Eins            36.508363"
      ]
     },
     "execution_count": 31,
     "metadata": {},
     "output_type": "execute_result"
    }
   ],
   "source": [
    "import scipy as sp\n",
    "import scipy.linalg\n",
    "Q, R = np.linalg.qr(X)\n",
    "w = sp.linalg.solve_triangular(R, np.dot(Q.T, y)) \n",
    "w = pd.DataFrame(w, index=X.columns)\n",
    "w"
   ]
  }
 ],
 "metadata": {
  "colab": {
   "name": "Lab 3 - Linear Regression.ipynb",
   "provenance": []
  },
  "kernelspec": {
   "display_name": "Python 3",
   "language": "python",
   "name": "python3"
  },
  "language_info": {
   "codemirror_mode": {
    "name": "ipython",
    "version": 3
   },
   "file_extension": ".py",
   "mimetype": "text/x-python",
   "name": "python",
   "nbconvert_exporter": "python",
   "pygments_lexer": "ipython3",
   "version": "3.7.4"
  }
 },
 "nbformat": 4,
 "nbformat_minor": 1
}
