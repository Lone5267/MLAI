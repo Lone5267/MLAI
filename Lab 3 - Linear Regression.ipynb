{
 "cells": [
  {
   "cell_type": "markdown",
   "metadata": {
    "colab_type": "text",
    "id": "mhd5vkMHIhWZ"
   },
   "source": [
    "# Linear Algebra and Linear Regression\n",
    "\n",
    "### Modified by Mauricio Álvarez, 13th October 2019\n",
    "\n",
    "### 13th October 2015 Neil Lawrence\n",
    "\n",
    "\n",
    "## Sum of Squares Error\n",
    "\n",
    "Last week we considered a cost function for minimization of the error. We considered items (films) and users and assumed that each movie rating, $y_{i,j}$ could be summarised by an inner product between a vector associated with the item, $\\mathbf{v}_j$ and one associated with the user $\n",
    "\\mathbf{u}_i$. We justified the inner product as a measure of similarity in the space of 'movie subjects', where both the users and the items lived, giving the analogy of a library.\n",
    "\n",
    "To make predictions we encouraged the similarity to be high if the movie rating was high using the quadratic error function,\n",
    "$$\n",
    "E_{i,j}(\\mathbf{u}_i, \\mathbf{v}_j) = \\left(\\mathbf{u}_i^\\top \\mathbf{v}_j - y_{i,j}\\right)^2,\n",
    "$$\n",
    "which we then summed across all the observations to form the total error\n",
    "$$\n",
    "E(\\mathbf{U}, \\mathbf{V}) = \\sum_{i,j}s_{i,j}\\left(\\mathbf{u}_i^\\top \\mathbf{v}_j - y_{i,j}\\right)^2,\n",
    "$$\n",
    "where $s_{i,j}$ is an indicator variable which is set to 1 if the rating of movie $j$ by user $i$ is provided in our data set. \n",
    "\n",
    "This is known as a sum of squares error. Minimizing it was first proposed by [Legendre](http://en.wikipedia.org/wiki/Adrien-Marie_Legendre) in 1805. His book, which was on the orbit of comets, is available on google books, we can take a look at the relevant page by calling the code below. "
   ]
  },
  {
   "cell_type": "code",
   "execution_count": 3,
   "metadata": {
    "colab": {
     "base_uri": "https://localhost:8080/",
     "height": 521
    },
    "colab_type": "code",
    "executionInfo": {
     "elapsed": 491,
     "status": "ok",
     "timestamp": 1571138212015,
     "user": {
      "displayName": "Ming Liu",
      "photoUrl": "https://lh3.googleusercontent.com/a-/AAuE7mD4AkcM4sv1rI1zSX3xC_6PkLOatOKjqPP4Ack=s64",
      "userId": "11875485666463178947"
     },
     "user_tz": -60
    },
    "id": "38qwKdp3IhWa",
    "outputId": "b4668a6b-cb77-46f1-adc0-ba9fa9c87f15"
   },
   "outputs": [
    {
     "data": {
      "text/html": [
       "<iframe frameborder=\"0\" scrolling=\"yes\" style=\"border:0px\" src=\"http://books.google.co.uk/books?id=spcAAAAAMAAJ&pg=PA72&output=embed\", width=700 height=500></iframe>"
      ],
      "text/plain": [
       "<IPython.core.display.HTML object>"
      ]
     },
     "metadata": {},
     "output_type": "display_data"
    }
   ],
   "source": [
    "import pods\n",
    "pods.notebook.display_google_book(id='spcAAAAAMAAJ', page=72) "
   ]
  },
  {
   "cell_type": "markdown",
   "metadata": {
    "colab_type": "text",
    "id": "BVdPsDBwIhWe"
   },
   "source": [
    "Of course, the main text is in French, but the key part we are interested in can be roughly translated as\n",
    "\n",
    "\"In most matters where we take measures data through observation, the most accurate results they can offer, it is almost always leads to a system of equations of the form\n",
    "$$E = a + bx + cy + fz + etc .$$\n",
    "where a, b, c, f etc are the known coefficients and  x , y, z etc are unknown and must be determined by the condition that the value of E is reduced, for each equation, to an amount or zero or very small.\"\n",
    "\n",
    "He continues\n",
    "\n",
    "\"Of all the principles that we can offer for this item, I think it is not broader, more accurate, nor easier than the one we have used in previous research application, and that is to make the minimum sum of the squares of the errors. By this means, it is between the errors a kind of balance that prevents extreme to prevail, is very specific to make known the state of the closest to the truth system. The sum of the squares of the errors $E^2 + \\left.E^\\prime\\right.^2 + \\left.E^{\\prime\\prime}\\right.^2 + etc$ being\n",
    "\\begin{align*}   &(a + bx + cy + fz + etc)^2 \\\\\n",
    "+ &(a^\\prime + b^\\prime x + c^\\prime y + f^\\prime z + etc ) ^2\\\\\n",
    "+ &(a^{\\prime\\prime} + b^{\\prime\\prime}x  + c^{\\prime\\prime}y +  f^{\\prime\\prime}z + etc )^2 \\\\\n",
    "+ & etc\n",
    "\\end{align*}\n",
    "if we wanted a minimum, by varying x alone, we will have the equation ...\"\n",
    "\n",
    "This is the earliest know printed version of the problem of least squares. The notation, however, is a little awkward for mordern eyes. In particular Legendre doesn't make use of the sum sign,\n",
    "$$\n",
    "\\sum_{i=1}^3 z_i = z_1 + z_2 + z_3\n",
    "$$\n",
    "nor does he make use of the inner product. \n",
    "\n",
    "In our notation, if we were to do linear regression, we would need to subsititue:\n",
    "\\begin{align*}\n",
    "a &\\leftarrow y_1-c, \\\\ a^\\prime &\\leftarrow y_2-c,\\\\ a^{\\prime\\prime} &\\leftarrow y_3 -c,\\\\ \n",
    "\\text{etc.} \n",
    "\\end{align*}\n",
    "to introduce the data observations $\\{y_i\\}_{i=1}^{n}$ alongside $c$, the offset. We would then introduce the input locations\n",
    "\\begin{align*}\n",
    "b & \\leftarrow x_1,\\\\\n",
    "b^\\prime & \\leftarrow x_2,\\\\\n",
    "b^{\\prime\\prime} & \\leftarrow x_3,\\\\\n",
    "\\text{etc.}\n",
    "\\end{align*}\n",
    "and finally the gradient of the function\n",
    "$$x \\leftarrow -m.$$\n",
    "The remaining coefficients ($c$ and $f$) would then be zero. That would give us \n",
    "\\begin{align*}   &(y_1 - (mx_1+c))^2 \\\\\n",
    "+ &(y_2 -(mx_2 + c))^2\\\\\n",
    "+ &(y_3 -(mx_3 + c))^2 \\\\\n",
    "+ & \\text{etc.}\n",
    "\\end{align*}\n",
    "which we would write in the modern notation for sums as\n",
    "$$\n",
    "\\sum_{i=1}^n (y_i-(mx_i + c))^2\n",
    "$$\n",
    "which is recognised as the sum of squares error for a linear regression.\n",
    "\n",
    "This shows the advantage of modern [summation operator](http://en.wikipedia.org/wiki/Summation), $\\sum$,  in keeping our mathematical notation compact. Whilst it may look more complicated the first time you see it, understanding the mathematical rules that go around it, allows us to go much further with the notation.\n",
    "\n",
    "Inner products (or [dot products](http://en.wikipedia.org/wiki/Dot_product)) are similar. They allow us to write\n",
    "$$\n",
    "\\sum_{i=1}^q u_i v_i\n",
    "$$\n",
    "in a more compact notation,\n",
    "$\n",
    "\\mathbf{u}\\cdot\\mathbf{v}.\n",
    "$\n",
    "\n",
    "Here we are using bold face to represent vectors, and we assume that the individual elements of a vector $\\mathbf{z}$ are given as a series of scalars\n",
    "$$\n",
    "\\mathbf{z} = \\begin{bmatrix} z_1\\\\ z_2\\\\ \\vdots\\\\ z_n \\end{bmatrix}\n",
    "$$\n",
    "which are each indexed by their position in the vector.\n",
    "\n",
    "## Linear Algebra\n",
    "\n",
    "Linear algebra provides a very similar role, when we introduce [linear algebra](http://en.wikipedia.org/wiki/Linear_algebra), it is because we are faced with a large number of addition and multiplication operations. These operations need to be done together and would be very tedious to write down as a group. So the first reason we reach for linear algebra is for a more compact representation of our mathematical formulae. "
   ]
  },
  {
   "cell_type": "markdown",
   "metadata": {
    "colab_type": "text",
    "id": "j2qvKXeOIhWe"
   },
   "source": [
    "### Running Example: Olympic Marathons\n",
    "\n",
    "Now we will load in the Olympic marathon data. This is data of the olympic marath times for the men's marathon from the first olympics in 1896 up until the London 2012 olympics."
   ]
  },
  {
   "cell_type": "code",
   "execution_count": 4,
   "metadata": {
    "colab": {
     "base_uri": "https://localhost:8080/",
     "height": 238
    },
    "colab_type": "code",
    "executionInfo": {
     "elapsed": 4402,
     "status": "ok",
     "timestamp": 1571138228576,
     "user": {
      "displayName": "Ming Liu",
      "photoUrl": "https://lh3.googleusercontent.com/a-/AAuE7mD4AkcM4sv1rI1zSX3xC_6PkLOatOKjqPP4Ack=s64",
      "userId": "11875485666463178947"
     },
     "user_tz": -60
    },
    "id": "W1Lfs9YZIhWf",
    "outputId": "13a35b2f-c752-46f5-b002-dfc9f7994440"
   },
   "outputs": [],
   "source": [
    "data = pods.datasets.olympic_marathon_men()\n",
    "x = data['X']\n",
    "y = data['Y']"
   ]
  },
  {
   "cell_type": "markdown",
   "metadata": {
    "colab_type": "text",
    "id": "gOtwFdGTIhWh"
   },
   "source": [
    "You can see what these values are by typing:"
   ]
  },
  {
   "cell_type": "code",
   "execution_count": 5,
   "metadata": {
    "colab": {
     "base_uri": "https://localhost:8080/",
     "height": 935
    },
    "colab_type": "code",
    "executionInfo": {
     "elapsed": 518,
     "status": "ok",
     "timestamp": 1571138231870,
     "user": {
      "displayName": "Ming Liu",
      "photoUrl": "https://lh3.googleusercontent.com/a-/AAuE7mD4AkcM4sv1rI1zSX3xC_6PkLOatOKjqPP4Ack=s64",
      "userId": "11875485666463178947"
     },
     "user_tz": -60
    },
    "id": "-uCKtnZHIhWi",
    "outputId": "776a199b-bdae-4f0e-abb5-8f90b930afdb"
   },
   "outputs": [
    {
     "name": "stdout",
     "output_type": "stream",
     "text": [
      "[[1896.]\n",
      " [1900.]\n",
      " [1904.]\n",
      " [1908.]\n",
      " [1912.]\n",
      " [1920.]\n",
      " [1924.]\n",
      " [1928.]\n",
      " [1932.]\n",
      " [1936.]\n",
      " [1948.]\n",
      " [1952.]\n",
      " [1956.]\n",
      " [1960.]\n",
      " [1964.]\n",
      " [1968.]\n",
      " [1972.]\n",
      " [1976.]\n",
      " [1980.]\n",
      " [1984.]\n",
      " [1988.]\n",
      " [1992.]\n",
      " [1996.]\n",
      " [2000.]\n",
      " [2004.]\n",
      " [2008.]\n",
      " [2012.]]\n",
      "[[4.47083333]\n",
      " [4.46472926]\n",
      " [5.22208333]\n",
      " [4.15467867]\n",
      " [3.90331675]\n",
      " [3.56951267]\n",
      " [3.82454477]\n",
      " [3.62483707]\n",
      " [3.59284275]\n",
      " [3.53880792]\n",
      " [3.67010309]\n",
      " [3.39029111]\n",
      " [3.43642612]\n",
      " [3.20583007]\n",
      " [3.13275665]\n",
      " [3.32819844]\n",
      " [3.13583758]\n",
      " [3.0789588 ]\n",
      " [3.10581822]\n",
      " [3.06552909]\n",
      " [3.09357349]\n",
      " [3.16111704]\n",
      " [3.14255244]\n",
      " [3.08527867]\n",
      " [3.10265829]\n",
      " [2.99877553]\n",
      " [3.03392977]]\n"
     ]
    }
   ],
   "source": [
    "print(x)\n",
    "print(y)"
   ]
  },
  {
   "cell_type": "markdown",
   "metadata": {
    "colab_type": "text",
    "id": "NggHo1sLIhWk"
   },
   "source": [
    "Note that they are not `pandas` data frames for this example, they are just arrays of dimensionality $n\\times 1$, where $n$ is the number of data."
   ]
  },
  {
   "cell_type": "markdown",
   "metadata": {
    "colab_type": "text",
    "id": "5_3F5-3TIhWl"
   },
   "source": [
    "The aim of this lab is to have you coding linear regression in python. We will do it in two ways, once using iterative updates (coordinate ascent) and then using linear algebra. The linear algebra approach will not only work much better, it is easy to extend to multiple input linear regression and *non-linear* regression using basis functions."
   ]
  },
  {
   "cell_type": "markdown",
   "metadata": {
    "colab_type": "text",
    "id": "reTS72LTIhWm"
   },
   "source": [
    "### Plotting the Data\n",
    "\n",
    "You can make a plot of $y$ vs $x$ with the following command:"
   ]
  },
  {
   "cell_type": "code",
   "execution_count": 6,
   "metadata": {
    "colab": {
     "base_uri": "https://localhost:8080/",
     "height": 300
    },
    "colab_type": "code",
    "executionInfo": {
     "elapsed": 676,
     "status": "ok",
     "timestamp": 1571138235564,
     "user": {
      "displayName": "Ming Liu",
      "photoUrl": "https://lh3.googleusercontent.com/a-/AAuE7mD4AkcM4sv1rI1zSX3xC_6PkLOatOKjqPP4Ack=s64",
      "userId": "11875485666463178947"
     },
     "user_tz": -60
    },
    "id": "9SRBOmb3IhWm",
    "outputId": "13c87873-1c79-4f0e-9efd-40191dafbc9c"
   },
   "outputs": [
    {
     "data": {
      "text/plain": [
       "Text(0, 0.5, 'pace in min/km')"
      ]
     },
     "execution_count": 6,
     "metadata": {},
     "output_type": "execute_result"
    },
    {
     "data": {
      "image/png": "[encoded data removed]",
      "text/plain": [
       "<Figure size 432x288 with 1 Axes>"
      ]
     },
     "metadata": {
      "needs_background": "light"
     },
     "output_type": "display_data"
    }
   ],
   "source": [
    "%matplotlib inline \n",
    "import pylab as plt\n",
    "\n",
    "plt.plot(x, y, 'rx')\n",
    "plt.xlabel('year')\n",
    "plt.ylabel('pace in min/km')"
   ]
  },
  {
   "cell_type": "markdown",
   "metadata": {
    "colab_type": "text",
    "id": "4pqqaM-jIhWp"
   },
   "source": [
    "### Maximum Likelihood: Iterative Solution"
   ]
  },
  {
   "cell_type": "markdown",
   "metadata": {
    "colab_type": "text",
    "id": "BIhZ1JLXIhWp"
   },
   "source": [
    "Now we will take the maximum likelihood approach we derived in the lecture to fit a line, $y_i=mx_i + c$, to the data you've plotted. We are trying to minimize the error function:"
   ]
  },
  {
   "cell_type": "markdown",
   "metadata": {
    "colab_type": "text",
    "id": "6eFwZpNTIhWq"
   },
   "source": [
    "$$E(m, c) =  \\sum_{i=1}^n(y_i-mx_i-c)^2$$"
   ]
  },
  {
   "cell_type": "markdown",
   "metadata": {
    "colab_type": "text",
    "id": "moXKUTfpIhWr"
   },
   "source": [
    "with respect to $m$ and $c$. We can start with an initial guess for $m$, "
   ]
  },
  {
   "cell_type": "code",
   "execution_count": 7,
   "metadata": {
    "colab": {},
    "colab_type": "code",
    "id": "6kG6g_KaIhWs"
   },
   "outputs": [],
   "source": [
    "m = -0.4\n",
    "c = 80 "
   ]
  },
  {
   "cell_type": "markdown",
   "metadata": {
    "colab_type": "text",
    "id": "XIUjqGqwIhWu"
   },
   "source": [
    "Then we use the maximum likelihood update to find an estimate for the offset, $c$.\n",
    "\n",
    "### Coordinate Descent\n",
    "\n",
    "In the movie recommender system example, we minimised the objective function by steepest descent based gradient methods. Our updates required us to compute the gradient at the position we were located, then to update the gradient according to the direction of steepest descent. This time, we will take another approach. It is known as *coordinate descent*. In coordinate descent, we choose to move one parameter at a time. Ideally, we design an algorithm that at each step moves the parameter to its minimum value. At each step we choose to move the individual parameter to its minimum.\n",
    "\n",
    "To find the minimum, we look for the point in the curve where the gradient is zero. This can be found by taking the gradient of $E(m,c)$ with respect to the parameter. \n",
    "\n",
    "#### Update for Offset\n",
    "\n",
    "Let's consider the parameter $c$ first. The gradient goes nicely through the summation operator, and we obtain\n",
    "$$\n",
    "\\frac{\\text{d}E(m,c)}{\\text{d}c} = -\\sum_{i=1}^n 2(y_i-mx_i-c).\n",
    "$$\n",
    "Now we want the point that is a minimum. A minimum is an example of a [*stationary point*](http://en.wikipedia.org/wiki/Stationary_point), the stationary points are those points of the function where the gradient is zero. They are found by solving the equation for $\\frac{\\text{d}E(m,c)}{\\text{d}c} = 0$. Substituting in to our gradient, we can obtain the following equation, \n",
    "$$\n",
    "0 = -\\sum_{i=1}^n 2(y_i-mx_i-c)\n",
    "$$\n",
    "which can be reorganised as follows,\n",
    "$$\n",
    "c^* = \\frac{\\sum_{i=1}^n(y_i-m^*x_i)}{n}.\n",
    "$$\n",
    "The fact that the stationary point is easily extracted in this manner implies that the solution is *unique*. There is only one stationary point for this system. Traditionally when trying to determine the type of stationary point we have encountered we now compute the *second derivative*,\n",
    "$$\n",
    "\\frac{\\text{d}^2E(m,c)}{\\text{d}c^2} = 2n.\n",
    "$$\n",
    "The second derivative is positive, which in turn implies that we have found a minimum of the function. This means that setting $c$ in this way will take us to the lowest point along that axes."
   ]
  },
  {
   "cell_type": "code",
   "execution_count": 8,
   "metadata": {
    "colab": {
     "base_uri": "https://localhost:8080/",
     "height": 34
    },
    "colab_type": "code",
    "executionInfo": {
     "elapsed": 500,
     "status": "ok",
     "timestamp": 1571138254924,
     "user": {
      "displayName": "Ming Liu",
      "photoUrl": "https://lh3.googleusercontent.com/a-/AAuE7mD4AkcM4sv1rI1zSX3xC_6PkLOatOKjqPP4Ack=s64",
      "userId": "11875485666463178947"
     },
     "user_tz": -60
    },
    "id": "nbvcCONWIhWu",
    "outputId": "a15dd773-973d-4e99-b014-4a0a34dd5d02"
   },
   "outputs": [
    {
     "name": "stdout",
     "output_type": "stream",
     "text": [
      "786.0197711453593\n"
     ]
    }
   ],
   "source": [
    "# set c to the minimum\n",
    "c = (y - m*x).mean()\n",
    "print(c)"
   ]
  },
  {
   "cell_type": "markdown",
   "metadata": {
    "colab_type": "text",
    "id": "rCh0d93qIhWx"
   },
   "source": [
    "#### Update for Slope\n",
    "\n",
    "Now we have the offset set to the minimum value, in coordinate descent, the next step is to optimise another parameter. Only one further parameter remains. That is the slope of the system. \n",
    "\n",
    "Now we can turn our attention to the slope. We once again peform the same set of computations to find the minima. We end up with an update equation of the following form.\n",
    "\n",
    "$$m^* = \\frac{\\sum_{i=1}^n (y_i - c)x_i}{\\sum_{i=1}^n x_i^2}$$\n",
    "\n",
    "Communication of mathematics in data science is an essential skill, in a moment, you will be asked to rederive the equation above. Before we do that, however, we will briefly review how to write mathematics in the notebook.\n",
    "\n",
    "### $\\LaTeX$ for Maths\n",
    "\n",
    "These cells use [Markdown format](http://en.wikipedia.org/wiki/Markdown). You can include maths in your markdown using [$\\LaTeX$ syntax](http://en.wikipedia.org/wiki/LaTeX), all you have to do is write your answer inside dollar signs, as follows:\n",
    "\n",
    "To write a fraction, we write `$\\frac{a}{b}$`, and it will display like this $\\frac{a}{b}$. To write a subscript we write `$a_b$` which will appear as $a_b$. To write a superscript (for example in a polynomial) we write `$a^b$` which will appear as $a^b$. There are lots of other macros as well, for example we can do greek letters such as `$\\alpha, \\beta, \\gamma$` rendering as $\\alpha, \\beta, \\gamma$. And we can do sum and integral signs as `$\\sum \\int \\int$`.\n",
    "\n",
    "You can combine many of these operations together for composing expressions."
   ]
  },
  {
   "cell_type": "markdown",
   "metadata": {
    "colab_type": "text",
    "id": "4DO4mT8JIhWy"
   },
   "source": [
    "### Question 1 \n",
    "\n",
    "Convert the following python code expressions into $\\LaTeX$j, writing your answers below. In each case write your answer as a single equality (i.e. your maths should only contain one expression, not several lines of expressions). For the purposes of your $\\LaTeX$ please assume that `x` and `w` are $n$ dimensional vectors. \n",
    "\n",
    "(a) \n",
    "``` python\n",
    "f = x.sum()\n",
    "```\n",
    "(b) \n",
    "``` python \n",
    "m = x.mean()\n",
    "```\n",
    "(c) \n",
    "``` python\n",
    "g = (x*w).sum()\n",
    "```"
   ]
  },
  {
   "cell_type": "markdown",
   "metadata": {
    "colab_type": "text",
    "id": "LpH8AgeBIhWy"
   },
   "source": [
    "#### Question 1 Answer\n",
    "\n",
    "Write your answer to the question in this box.\n",
    "\n",
    "\n",
    "(a) \n",
    "``` python\n",
    "f = x.sum()\n",
    "```\n",
    "$$ \n",
    "    f(x) = \\sum_{i=1}^n\\sum_{j=1}^m x_{i,j}\n",
    "$$\n",
    "(b) \n",
    "``` python \n",
    "m = x.mean()\n",
    "```\n",
    "$$\n",
    "    m(x) = \\frac{\\sum_{i=1}^n\\sum_{j=1}^m x_{i,j}}{n*m}\n",
    "$$\n",
    "(c) \n",
    "``` python\n",
    "g = (x*w).sum()\n",
    "```\n",
    "$$\n",
    "    g(x, w) = \\sum_{i=1}^n(x^Tw)_{i,j}\n",
    "$$\n",
    "\n",
    "**(a) `f=x.sum()`**\n",
    "\n",
    "$f=\\sum_{i=1}^n x_i$  or $\\mathbf{x}^ \\top \\mathbf{1}$ or $\\mathbf{x} \\cdot \\mathbf{1}$, where $\\mathbf{1}$ is a n dimensional vector\n",
    "\n",
    "\n",
    "**(b) `m = x.mean()`**\n",
    "\n",
    "$m=\\frac{1}{n} \\sum_{i=1}^n x_i$\n",
    "\n",
    "\n",
    "\n",
    "**(c) `m = (x*w).sum()`**\n",
    "\n",
    "$\\sum_{i=1}^n w_i x_i$ or $\\mathbf{w}^\\top \\mathbf{x}$ or $\\mathbf{w}\\cdot\\mathbf{x}$"
   ]
  },
  {
   "cell_type": "markdown",
   "metadata": {
    "colab_type": "text",
    "id": "-yElOPVuIhWz"
   },
   "source": [
    "### Gradient With Respect to the Slope\n",
    "Now that you've had a little training in writing maths with $\\LaTeX$, we will be able to use it to answer questions. The next thing we are going to do is a little differentiation practice. "
   ]
  },
  {
   "cell_type": "markdown",
   "metadata": {
    "colab_type": "text",
    "id": "EOXsCW6PIhW2"
   },
   "source": [
    "### Question 2\n",
    "\n",
    "Derive the the gradient of the objective function with respect to the slope, $m$. Rearrange it to show that the update equation written above does find the stationary points of the objective function. By computing its derivative show that it's a minimum."
   ]
  },
  {
   "cell_type": "markdown",
   "metadata": {
    "colab_type": "text",
    "id": "F5leVSV5IhW3"
   },
   "source": [
    "#### Question 2 Answer\n",
    "\n",
    "Write your answer to the question in this box."
   ]
  },
  {
   "cell_type": "code",
   "execution_count": 9,
   "metadata": {
    "colab": {},
    "colab_type": "code",
    "id": "oD4PxWD5IhW4"
   },
   "outputs": [
    {
     "name": "stdout",
     "output_type": "stream",
     "text": [
      "-0.3998724072997095\n"
     ]
    }
   ],
   "source": [
    "m = ((y - c)*x).sum()/(x**2).sum()\n",
    "print(m)"
   ]
  },
  {
   "cell_type": "markdown",
   "metadata": {
    "colab_type": "text",
    "id": "rMscpDK_IhW6"
   },
   "source": [
    "We can have a look at how good our fit is by computing the prediction across the input space. First create a vector of 'test points',"
   ]
  },
  {
   "cell_type": "code",
   "execution_count": 10,
   "metadata": {
    "colab": {},
    "colab_type": "code",
    "id": "PkfgzfxjIhW6"
   },
   "outputs": [],
   "source": [
    "import numpy as np\n",
    "x_test = np.linspace(1890, 2020, 130)[:, None]"
   ]
  },
  {
   "cell_type": "code",
   "execution_count": 11,
   "metadata": {},
   "outputs": [
    {
     "data": {
      "text/plain": [
       "array([[1890.        ],\n",
       "       [1891.00775194],\n",
       "       [1892.01550388],\n",
       "       [1893.02325581],\n",
       "       [1894.03100775],\n",
       "       [1895.03875969],\n",
       "       [1896.04651163],\n",
       "       [1897.05426357],\n",
       "       [1898.0620155 ],\n",
       "       [1899.06976744],\n",
       "       [1900.07751938],\n",
       "       [1901.08527132],\n",
       "       [1902.09302326],\n",
       "       [1903.10077519],\n",
       "       [1904.10852713],\n",
       "       [1905.11627907],\n",
       "       [1906.12403101],\n",
       "       [1907.13178295],\n",
       "       [1908.13953488],\n",
       "       [1909.14728682],\n",
       "       [1910.15503876],\n",
       "       [1911.1627907 ],\n",
       "       [1912.17054264],\n",
       "       [1913.17829457],\n",
       "       [1914.18604651],\n",
       "       [1915.19379845],\n",
       "       [1916.20155039],\n",
       "       [1917.20930233],\n",
       "       [1918.21705426],\n",
       "       [1919.2248062 ],\n",
       "       [1920.23255814],\n",
       "       [1921.24031008],\n",
       "       [1922.24806202],\n",
       "       [1923.25581395],\n",
       "       [1924.26356589],\n",
       "       [1925.27131783],\n",
       "       [1926.27906977],\n",
       "       [1927.28682171],\n",
       "       [1928.29457364],\n",
       "       [1929.30232558],\n",
       "       [1930.31007752],\n",
       "       [1931.31782946],\n",
       "       [1932.3255814 ],\n",
       "       [1933.33333333],\n",
       "       [1934.34108527],\n",
       "       [1935.34883721],\n",
       "       [1936.35658915],\n",
       "       [1937.36434109],\n",
       "       [1938.37209302],\n",
       "       [1939.37984496],\n",
       "       [1940.3875969 ],\n",
       "       [1941.39534884],\n",
       "       [1942.40310078],\n",
       "       [1943.41085271],\n",
       "       [1944.41860465],\n",
       "       [1945.42635659],\n",
       "       [1946.43410853],\n",
       "       [1947.44186047],\n",
       "       [1948.4496124 ],\n",
       "       [1949.45736434],\n",
       "       [1950.46511628],\n",
       "       [1951.47286822],\n",
       "       [1952.48062016],\n",
       "       [1953.48837209],\n",
       "       [1954.49612403],\n",
       "       [1955.50387597],\n",
       "       [1956.51162791],\n",
       "       [1957.51937984],\n",
       "       [1958.52713178],\n",
       "       [1959.53488372],\n",
       "       [1960.54263566],\n",
       "       [1961.5503876 ],\n",
       "       [1962.55813953],\n",
       "       [1963.56589147],\n",
       "       [1964.57364341],\n",
       "       [1965.58139535],\n",
       "       [1966.58914729],\n",
       "       [1967.59689922],\n",
       "       [1968.60465116],\n",
       "       [1969.6124031 ],\n",
       "       [1970.62015504],\n",
       "       [1971.62790698],\n",
       "       [1972.63565891],\n",
       "       [1973.64341085],\n",
       "       [1974.65116279],\n",
       "       [1975.65891473],\n",
       "       [1976.66666667],\n",
       "       [1977.6744186 ],\n",
       "       [1978.68217054],\n",
       "       [1979.68992248],\n",
       "       [1980.69767442],\n",
       "       [1981.70542636],\n",
       "       [1982.71317829],\n",
       "       [1983.72093023],\n",
       "       [1984.72868217],\n",
       "       [1985.73643411],\n",
       "       [1986.74418605],\n",
       "       [1987.75193798],\n",
       "       [1988.75968992],\n",
       "       [1989.76744186],\n",
       "       [1990.7751938 ],\n",
       "       [1991.78294574],\n",
       "       [1992.79069767],\n",
       "       [1993.79844961],\n",
       "       [1994.80620155],\n",
       "       [1995.81395349],\n",
       "       [1996.82170543],\n",
       "       [1997.82945736],\n",
       "       [1998.8372093 ],\n",
       "       [1999.84496124],\n",
       "       [2000.85271318],\n",
       "       [2001.86046512],\n",
       "       [2002.86821705],\n",
       "       [2003.87596899],\n",
       "       [2004.88372093],\n",
       "       [2005.89147287],\n",
       "       [2006.89922481],\n",
       "       [2007.90697674],\n",
       "       [2008.91472868],\n",
       "       [2009.92248062],\n",
       "       [2010.93023256],\n",
       "       [2011.9379845 ],\n",
       "       [2012.94573643],\n",
       "       [2013.95348837],\n",
       "       [2014.96124031],\n",
       "       [2015.96899225],\n",
       "       [2016.97674419],\n",
       "       [2017.98449612],\n",
       "       [2018.99224806],\n",
       "       [2020.        ]])"
      ]
     },
     "execution_count": 11,
     "metadata": {},
     "output_type": "execute_result"
    }
   ],
   "source": [
    "x_test"
   ]
  },
  {
   "cell_type": "markdown",
   "metadata": {
    "colab_type": "text",
    "id": "HYK5owa8IhW8"
   },
   "source": [
    "Now use this vector to compute some test predictions,"
   ]
  },
  {
   "cell_type": "code",
   "execution_count": 12,
   "metadata": {
    "colab": {},
    "colab_type": "code",
    "id": "PVEYCpkQIhW9"
   },
   "outputs": [],
   "source": [
    "f_test = m*x_test + c"
   ]
  },
  {
   "cell_type": "markdown",
   "metadata": {
    "colab_type": "text",
    "id": "NBh8AYVTIhW_"
   },
   "source": [
    "Now plot those test predictions with a blue line on the same plot as the data,"
   ]
  },
  {
   "cell_type": "code",
   "execution_count": 13,
   "metadata": {
    "colab": {},
    "colab_type": "code",
    "id": "2iNOv5AWIhXA"
   },
   "outputs": [
    {
     "data": {
      "text/plain": [
       "[<matplotlib.lines.Line2D at 0x1dd90248d30>]"
      ]
     },
     "execution_count": 13,
     "metadata": {},
     "output_type": "execute_result"
    },
    {
     "data": {
      "image/png": "[encoded data removed]",
      "text/plain": [
       "<Figure size 432x288 with 1 Axes>"
      ]
     },
     "metadata": {
      "needs_background": "light"
     },
     "output_type": "display_data"
    }
   ],
   "source": [
    "plt.plot(x_test, f_test, 'b-')\n",
    "plt.plot(x, y, 'rx')"
   ]
  },
  {
   "cell_type": "markdown",
   "metadata": {
    "colab_type": "text",
    "id": "LmPj-xIKIhXD"
   },
   "source": [
    "The fit isn't very good, we need to iterate between these parameter updates in a loop to improve the fit, we have to do this several times,"
   ]
  },
  {
   "cell_type": "code",
   "execution_count": 14,
   "metadata": {
    "colab": {},
    "colab_type": "code",
    "id": "UV1Ua78AIhXD"
   },
   "outputs": [
    {
     "name": "stdout",
     "output_type": "stream",
     "text": [
      "-0.3987259642505432\n",
      "783.5273797273478\n"
     ]
    }
   ],
   "source": [
    "for i in np.arange(10):\n",
    "    m = ((y - c)*x).sum()/(x*x).sum()\n",
    "    c = (y-m*x).sum()/y.shape[0]\n",
    "print(m)\n",
    "print(c)"
   ]
  },
  {
   "cell_type": "markdown",
   "metadata": {
    "colab_type": "text",
    "id": "fsvVfKv4IhXF"
   },
   "source": [
    "And let's try plotting the result again"
   ]
  },
  {
   "cell_type": "code",
   "execution_count": 13,
   "metadata": {
    "colab": {},
    "colab_type": "code",
    "id": "5gMzQvBUIhXG"
   },
   "outputs": [
    {
     "data": {
      "text/plain": [
       "[<matplotlib.lines.Line2D at 0x19a35a4d248>]"
      ]
     },
     "execution_count": 13,
     "metadata": {},
     "output_type": "execute_result"
    },
    {
     "data": {
      "image/png": "[encoded data removed]",
      "text/plain": [
       "<Figure size 432x288 with 1 Axes>"
      ]
     },
     "metadata": {
      "needs_background": "light"
     },
     "output_type": "display_data"
    }
   ],
   "source": [
    "f_test = m*x_test + c\n",
    "plt.plot(x_test, f_test, 'b-')\n",
    "plt.plot(x, y, 'rx')"
   ]
  },
  {
   "cell_type": "markdown",
   "metadata": {
    "colab_type": "text",
    "id": "o8AotjrrIhXI"
   },
   "source": [
    "Clearly we need more iterations than 10! In the next question you will add more iterations and report on the error as optimisation proceeds. "
   ]
  },
  {
   "cell_type": "markdown",
   "metadata": {
    "colab_type": "text",
    "id": "V_m1-GUmIhXJ"
   },
   "source": [
    "### Question 3\n",
    "\n",
    "There is a problem here, we seem to need many interations to get to a good solution. Let's explore what's going on. Write code which alternates between updates of `c` and `m`. Include the following features in your code.\n",
    "\n",
    "(a) Initialise with `m=-0.4` and `c=80`.\n",
    "(b) Every 10 iterations compute the value of the objective function for the training data and print it to the screen (you'll find hints on this in the lab from last week.\n",
    "(c) Cause the code to stop running when the error change over less than 10 iterations is smaller than $1\\times10^{-4}$. This is known as a stopping criterion.\n",
    "\n",
    "Why do we need so many iterations to get to the solution?"
   ]
  },
  {
   "cell_type": "markdown",
   "metadata": {
    "colab_type": "text",
    "id": "9ghbBLDaIhXN"
   },
   "source": [
    "#### Question 3 Answer Here\n",
    "\n",
    "Write your answer to the question in this box."
   ]
  },
  {
   "cell_type": "code",
   "execution_count": 27,
   "metadata": {
    "colab": {},
    "colab_type": "code",
    "id": "2S-_ut-5IhXK"
   },
   "outputs": [
    {
     "name": "stdout",
     "output_type": "stream",
     "text": [
      "Iteration 0 Objective: 25.21999415234144\n",
      "Iteration 10 Objective: 25.0672376075625\n",
      "Iteration 20 Objective: 24.91548513126652\n",
      "Iteration 30 Objective: 24.76473012371349\n",
      "Iteration 40 Objective: 24.614966028543098\n",
      "Iteration 50 Objective: 24.466186332490057\n",
      "Iteration 60 Objective: 24.318384565100885\n",
      "Iteration 70 Objective: 24.171554298452218\n",
      "Iteration 80 Objective: 24.025689146871766\n",
      "Iteration 90 Objective: 23.880782766659685\n",
      "Iteration 100 Objective: 23.736828855813705\n",
      "Iteration 110 Objective: 23.593821153754494\n",
      "Iteration 120 Objective: 23.45175344105341\n",
      "Iteration 130 Objective: 23.31061953916212\n",
      "Iteration 140 Objective: 23.170413310144014\n",
      "Iteration 150 Objective: 23.03112865640701\n",
      "Iteration 160 Objective: 22.892759520438442\n",
      "Iteration 170 Objective: 22.755299884541717\n",
      "Iteration 180 Objective: 22.61874377057469\n",
      "Iteration 190 Objective: 22.48308523968915\n",
      "Iteration 200 Objective: 22.348318392073637\n",
      "Iteration 210 Objective: 22.214437366695215\n",
      "Iteration 220 Objective: 22.081436341046434\n",
      "Iteration 230 Objective: 21.949309530890197\n",
      "Iteration 240 Objective: 21.818051190010053\n",
      "Iteration 250 Objective: 21.687655609959034\n",
      "Iteration 260 Objective: 21.558117119811712\n",
      "Iteration 270 Objective: 21.4294300859179\n",
      "Iteration 280 Objective: 21.30158891165712\n",
      "Iteration 290 Objective: 21.174588037195562\n",
      "Iteration 300 Objective: 21.048421939244456\n",
      "Iteration 310 Objective: 20.923085130819032\n",
      "Iteration 320 Objective: 20.798572161000987\n",
      "Iteration 330 Objective: 20.674877614700637\n",
      "Iteration 340 Objective: 20.55199611242176\n",
      "Iteration 350 Objective: 20.429922310027532\n",
      "Iteration 360 Objective: 20.308650898508034\n",
      "Iteration 370 Objective: 20.188176603749646\n",
      "Iteration 380 Objective: 20.068494186305344\n",
      "Iteration 390 Objective: 19.949598441167026\n",
      "Iteration 400 Objective: 19.831484197539137\n",
      "Iteration 410 Objective: 19.71414631861368\n",
      "Iteration 420 Objective: 19.5975797013469\n",
      "Iteration 430 Objective: 19.481779276237333\n",
      "Iteration 440 Objective: 19.36674000710547\n",
      "Iteration 450 Objective: 19.25245689087441\n",
      "Iteration 460 Objective: 19.13892495735262\n",
      "Iteration 470 Objective: 19.026139269017413\n",
      "Iteration 480 Objective: 18.91409492080069\n",
      "Iteration 490 Objective: 18.80278703987518\n",
      "Iteration 500 Objective: 18.692210785442853\n",
      "Iteration 510 Objective: 18.582361348524014\n",
      "Iteration 520 Objective: 18.47323395174865\n",
      "Iteration 530 Objective: 18.364823849148053\n",
      "Iteration 540 Objective: 18.257126325949148\n",
      "Iteration 550 Objective: 18.150136698368726\n",
      "Iteration 560 Objective: 18.043850313410253\n",
      "Iteration 570 Objective: 17.938262548661406\n",
      "Iteration 580 Objective: 17.833368812092694\n",
      "Iteration 590 Objective: 17.72916454185827\n",
      "Iteration 600 Objective: 17.625645206097037\n",
      "Iteration 610 Objective: 17.522806302736214\n",
      "Iteration 620 Objective: 17.420643359294846\n",
      "Iteration 630 Objective: 17.319151932689593\n",
      "Iteration 640 Objective: 17.218327609041573\n",
      "Iteration 650 Objective: 17.118166003484237\n",
      "Iteration 660 Objective: 17.01866275997304\n",
      "Iteration 670 Objective: 16.919813551095146\n",
      "Iteration 680 Objective: 16.82161407788241\n",
      "Iteration 690 Objective: 16.72406006962332\n",
      "Iteration 700 Objective: 16.627147283678095\n",
      "Iteration 710 Objective: 16.530871505293657\n",
      "Iteration 720 Objective: 16.435228547420362\n",
      "Iteration 730 Objective: 16.340214250530373\n",
      "Iteration 740 Objective: 16.24582448243609\n",
      "Iteration 750 Objective: 16.152055138110896\n",
      "Iteration 760 Objective: 16.058902139510522\n",
      "Iteration 770 Objective: 15.9663614353957\n",
      "Iteration 780 Objective: 15.87442900115597\n",
      "Iteration 790 Objective: 15.78310083863451\n",
      "Iteration 800 Objective: 15.692372975954488\n",
      "Iteration 810 Objective: 15.602241467346145\n",
      "Iteration 820 Objective: 15.5127023929753\n",
      "Iteration 830 Objective: 15.423751858772842\n",
      "Iteration 840 Objective: 15.33538599626528\n",
      "Iteration 850 Objective: 15.247600962406683\n",
      "Iteration 860 Objective: 15.160392939411413\n",
      "Iteration 870 Objective: 15.073758134588195\n",
      "Iteration 880 Objective: 14.987692780175065\n",
      "Iteration 890 Objective: 14.902193133175347\n",
      "Iteration 900 Objective: 14.817255475195546\n",
      "Iteration 910 Objective: 14.732876112282769\n",
      "Iteration 920 Objective: 14.649051374764603\n",
      "Iteration 930 Objective: 14.565777617089344\n",
      "Iteration 940 Objective: 14.483051217667496\n",
      "Iteration 950 Objective: 14.400868578714332\n",
      "Iteration 960 Objective: 14.319226126093232\n",
      "Iteration 970 Objective: 14.238120309160497\n",
      "Iteration 980 Objective: 14.157547600610808\n",
      "Iteration 990 Objective: 14.07750449632365\n",
      "Iteration 1000 Objective: 13.997987515211214\n",
      "Iteration 1010 Objective: 13.918993199066941\n",
      "Iteration 1020 Objective: 13.840518112414909\n",
      "Iteration 1030 Objective: 13.762558842360663\n",
      "Iteration 1040 Objective: 13.685111998442633\n",
      "Iteration 1050 Objective: 13.60817421248484\n",
      "Iteration 1060 Objective: 13.531742138450246\n",
      "Iteration 1070 Objective: 13.45581245229525\n",
      "Iteration 1080 Objective: 13.380381851825375\n",
      "Iteration 1090 Objective: 13.305447056551325\n",
      "Iteration 1100 Objective: 13.231004807546379\n",
      "Iteration 1110 Objective: 13.15705186730494\n",
      "Iteration 1120 Objective: 13.083585019601346\n",
      "Iteration 1130 Objective: 13.010601069350274\n",
      "Iteration 1140 Objective: 12.93809684246775\n",
      "Iteration 1150 Objective: 12.866069185732858\n",
      "Iteration 1160 Objective: 12.794514966650977\n",
      "Iteration 1170 Objective: 12.723431073317213\n",
      "Iteration 1180 Objective: 12.652814414281405\n",
      "Iteration 1190 Objective: 12.58266191841339\n",
      "Iteration 1200 Objective: 12.512970534769435\n",
      "Iteration 1210 Objective: 12.44373723245986\n",
      "Iteration 1220 Objective: 12.374959000516796\n",
      "Iteration 1230 Objective: 12.306632847763668\n",
      "Iteration 1240 Objective: 12.238755802684805\n",
      "Iteration 1250 Objective: 12.17132491329625\n",
      "Iteration 1260 Objective: 12.104337247017536\n",
      "Iteration 1270 Objective: 12.037789890543976\n",
      "Iteration 1280 Objective: 11.971679949720059\n",
      "Iteration 1290 Objective: 11.906004549413517\n",
      "Iteration 1300 Objective: 11.840760833390286\n",
      "Iteration 1310 Objective: 11.775945964190441\n",
      "Iteration 1320 Objective: 11.711557123004592\n",
      "Iteration 1330 Objective: 11.647591509551445\n",
      "Iteration 1340 Objective: 11.584046341955872\n",
      "Iteration 1350 Objective: 11.520918856628061\n",
      "Iteration 1360 Objective: 11.458206308143204\n",
      "Iteration 1370 Objective: 11.395905969122206\n",
      "Iteration 1380 Objective: 11.334015130113112\n",
      "Iteration 1390 Objective: 11.272531099473\n",
      "Iteration 1400 Objective: 11.211451203251322\n",
      "Iteration 1410 Objective: 11.150772785073256\n",
      "Iteration 1420 Objective: 11.090493206024323\n",
      "Iteration 1430 Objective: 11.030609844535771\n",
      "Iteration 1440 Objective: 10.971120096270266\n",
      "Iteration 1450 Objective: 10.912021374008807\n",
      "Iteration 1460 Objective: 10.853311107538248\n",
      "Iteration 1470 Objective: 10.79498674353941\n",
      "Iteration 1480 Objective: 10.737045745476005\n",
      "Iteration 1490 Objective: 10.679485593484532\n",
      "Iteration 1500 Objective: 10.622303784264378\n",
      "Iteration 1510 Objective: 10.565497830969306\n",
      "Iteration 1520 Objective: 10.509065263098947\n",
      "Iteration 1530 Objective: 10.453003626391665\n",
      "Iteration 1540 Objective: 10.397310482717607\n",
      "Iteration 1550 Objective: 10.341983409972674\n",
      "Iteration 1560 Objective: 10.28702000197346\n",
      "Iteration 1570 Objective: 10.232417868352188\n",
      "Iteration 1580 Objective: 10.178174634453068\n",
      "Iteration 1590 Objective: 10.124287941228948\n",
      "Iteration 1600 Objective: 10.07075544513857\n",
      "Iteration 1610 Objective: 10.017574818044856\n",
      "Iteration 1620 Objective: 9.964743747113474\n",
      "Iteration 1630 Objective: 9.912259934712653\n",
      "Iteration 1640 Objective: 9.8601210983125\n",
      "Iteration 1650 Objective: 9.808324970386472\n",
      "Iteration 1660 Objective: 9.756869298312402\n",
      "Iteration 1670 Objective: 9.70575184427466\n",
      "Iteration 1680 Objective: 9.654970385166648\n",
      "Iteration 1690 Objective: 9.604522712494425\n",
      "Iteration 1700 Objective: 9.554406632280287\n",
      "Iteration 1710 Objective: 9.50461996496769\n",
      "Iteration 1720 Objective: 9.455160545326116\n",
      "Iteration 1730 Objective: 9.406026222357392\n",
      "Iteration 1740 Objective: 9.357214859201608\n",
      "Iteration 1750 Objective: 9.308724333044577\n",
      "Iteration 1760 Objective: 9.260552535025278\n",
      "Iteration 1770 Objective: 9.212697370144237\n",
      "Iteration 1780 Objective: 9.16515675717243\n",
      "Iteration 1790 Objective: 9.11792862856077\n",
      "Iteration 1800 Objective: 9.071010930350138\n",
      "Iteration 1810 Objective: 9.024401622082056\n",
      "Iteration 1820 Objective: 8.978098676710053\n",
      "Iteration 1830 Objective: 8.932100080511406\n",
      "Iteration 1840 Objective: 8.886403832999482\n",
      "Iteration 1850 Objective: 8.841007946837003\n",
      "Iteration 1860 Objective: 8.795910447749343\n",
      "Iteration 1870 Objective: 8.751109374438837\n",
      "Iteration 1880 Objective: 8.706602778499313\n",
      "Iteration 1890 Objective: 8.662388724331764\n",
      "Iteration 1900 Objective: 8.618465289059525\n",
      "Iteration 1910 Objective: 8.574830562445175\n",
      "Iteration 1920 Objective: 8.531482646807268\n",
      "Iteration 1930 Objective: 8.488419656937676\n",
      "Iteration 1940 Objective: 8.44563972002001\n",
      "Iteration 1950 Objective: 8.403140975547675\n",
      "Iteration 1960 Objective: 8.360921575243221\n",
      "Iteration 1970 Objective: 8.318979682978057\n",
      "Iteration 1980 Objective: 8.277313474692267\n",
      "Iteration 1990 Objective: 8.235921138315652\n",
      "Iteration 2000 Objective: 8.194800873688553\n",
      "Iteration 2010 Objective: 8.15395089248397\n",
      "Iteration 2020 Objective: 8.113369418129412\n",
      "Iteration 2030 Objective: 8.07305468572985\n",
      "Iteration 2040 Objective: 8.033004941990967\n",
      "Iteration 2050 Objective: 7.993218445142782\n",
      "Iteration 2060 Objective: 7.953693464863974\n",
      "Iteration 2070 Objective: 7.914428282206578\n",
      "Iteration 2080 Objective: 7.875421189521356\n",
      "Iteration 2090 Objective: 7.8366704903833755\n",
      "Iteration 2100 Objective: 7.79817449951834\n",
      "Iteration 2110 Objective: 7.759931542729248\n",
      "Iteration 2120 Objective: 7.721939956823623\n",
      "Iteration 2130 Objective: 7.684198089541083\n",
      "Iteration 2140 Objective: 7.646704299481551\n",
      "Iteration 2150 Objective: 7.609456956033998\n",
      "Iteration 2160 Objective: 7.5724544393052255\n",
      "Iteration 2170 Objective: 7.535695140049703\n",
      "Iteration 2180 Objective: 7.499177459599426\n",
      "Iteration 2190 Objective: 7.46289980979444\n",
      "Iteration 2200 Objective: 7.426860612913754\n",
      "Iteration 2210 Objective: 7.3910583016067575\n",
      "Iteration 2220 Objective: 7.355491318825012\n",
      "Iteration 2230 Objective: 7.320158117754547\n",
      "Iteration 2240 Objective: 7.2850571617486635\n",
      "Iteration 2250 Objective: 7.250186924260948\n",
      "Iteration 2260 Objective: 7.215545888779003\n",
      "Iteration 2270 Objective: 7.181132548758491\n",
      "Iteration 2280 Objective: 7.146945407557551\n",
      "Iteration 2290 Objective: 7.112982978371799\n",
      "Iteration 2300 Objective: 7.079243784169537\n",
      "Iteration 2310 Objective: 7.045726357627639\n",
      "Iteration 2320 Objective: 7.012429241067748\n",
      "Iteration 2330 Objective: 6.979350986392705\n",
      "Iteration 2340 Objective: 6.946490155023765\n",
      "Iteration 2350 Objective: 6.913845317837939\n",
      "Iteration 2360 Objective: 6.8814150551058635\n",
      "Iteration 2370 Objective: 6.849197956430088\n",
      "Iteration 2380 Objective: 6.817192620683634\n",
      "Iteration 2390 Objective: 6.7853976559491676\n",
      "Iteration 2400 Objective: 6.753811679458453\n",
      "Iteration 2410 Objective: 6.7224333175320945\n",
      "Iteration 2420 Objective: 6.691261205520031\n",
      "Iteration 2430 Objective: 6.6602939877418414\n",
      "Iteration 2440 Objective: 6.6295303174281965\n",
      "Iteration 2450 Objective: 6.59896885666201\n",
      "Iteration 2460 Objective: 6.5686082763202664\n",
      "Iteration 2470 Objective: 6.538447256016327\n",
      "Iteration 2480 Objective: 6.5084844840424\n",
      "Iteration 2490 Objective: 6.478718657312641\n",
      "Iteration 2500 Objective: 6.449148481306278\n",
      "Iteration 2510 Objective: 6.419772670011492\n",
      "Iteration 2520 Objective: 6.390589945869411\n",
      "Iteration 2530 Objective: 6.361599039718511\n",
      "Iteration 2540 Objective: 6.33279869073953\n",
      "Iteration 2550 Objective: 6.304187646400482\n",
      "Iteration 2560 Objective: 6.27576466240239\n",
      "Iteration 2570 Objective: 6.247528502624952\n",
      "Iteration 2580 Objective: 6.2194779390729105\n",
      "Iteration 2590 Objective: 6.191611751822607\n",
      "Iteration 2600 Objective: 6.163928728969002\n",
      "Iteration 2610 Objective: 6.13642766657283\n",
      "Iteration 2620 Objective: 6.109107368608348\n",
      "Iteration 2630 Objective: 6.081966646911288\n",
      "Iteration 2640 Objective: 6.055004321127149\n",
      "Iteration 2650 Objective: 6.028219218659954\n",
      "Iteration 2660 Objective: 6.00161017462119\n",
      "Iteration 2670 Objective: 5.975176031779139\n",
      "Iteration 2680 Objective: 5.948915640508519\n",
      "Iteration 2690 Objective: 5.922827858740602\n",
      "Iteration 2700 Objective: 5.896911551913463\n",
      "Iteration 2710 Objective: 5.871165592922598\n",
      "Iteration 2720 Objective: 5.845588862072043\n",
      "Iteration 2730 Objective: 5.820180247025497\n",
      "Iteration 2740 Objective: 5.794938642758144\n",
      "Iteration 2750 Objective: 5.769862951508422\n",
      "Iteration 2760 Objective: 5.744952082730385\n",
      "Iteration 2770 Objective: 5.720204953046232\n",
      "Iteration 2780 Objective: 5.695620486199205\n",
      "Iteration 2790 Objective: 5.671197613006773\n",
      "Iteration 2800 Objective: 5.64693527131413\n",
      "Iteration 2810 Objective: 5.622832405948062\n",
      "Iteration 2820 Objective: 5.598887968670985\n",
      "Iteration 2830 Objective: 5.575100918135328\n",
      "Iteration 2840 Objective: 5.5514702198383254\n",
      "Iteration 2850 Objective: 5.527994846077034\n",
      "Iteration 2860 Objective: 5.504673775903585\n",
      "Iteration 2870 Objective: 5.481505995080776\n",
      "Iteration 2880 Objective: 5.4584904960379435\n",
      "Iteration 2890 Objective: 5.4356262778272555\n",
      "Iteration 2900 Objective: 5.412912346080127\n",
      "Iteration 2910 Objective: 5.390347712963873\n",
      "Iteration 2920 Objective: 5.367931397138883\n",
      "Iteration 2930 Objective: 5.345662423715874\n",
      "Iteration 2940 Objective: 5.323539824213534\n",
      "Iteration 2950 Objective: 5.301562636516326\n",
      "Iteration 2960 Objective: 5.279729904832758\n",
      "Iteration 2970 Objective: 5.2580406796537\n",
      "Iteration 2980 Objective: 5.23649401771117\n",
      "Iteration 2990 Objective: 5.215088981937315\n",
      "Iteration 3000 Objective: 5.1938246414235625\n",
      "Iteration 3010 Objective: 5.172700071380201\n",
      "Iteration 3020 Objective: 5.151714353096239\n",
      "Iteration 3030 Objective: 5.130866573899298\n",
      "Iteration 3040 Objective: 5.110155827116023\n",
      "Iteration 3050 Objective: 5.089581212032583\n",
      "Iteration 3060 Objective: 5.069141833855638\n",
      "Iteration 3070 Objective: 5.048836803673224\n",
      "Iteration 3080 Objective: 5.028665238416206\n",
      "Iteration 3090 Objective: 5.0086262608198755\n",
      "Iteration 3100 Objective: 4.988718999385806\n",
      "Iteration 3110 Objective: 4.968942588343914\n",
      "Iteration 3120 Objective: 4.94929616761484\n",
      "Iteration 3130 Objective: 4.929778882772436\n",
      "Iteration 3140 Objective: 4.910389885006796\n",
      "Iteration 3150 Objective: 4.891128331087207\n",
      "Iteration 3160 Objective: 4.871993383325481\n",
      "Iteration 3170 Objective: 4.852984209539621\n",
      "Iteration 3180 Objective: 4.8340999830174765\n",
      "Iteration 3190 Objective: 4.81533988248095\n",
      "Iteration 3200 Objective: 4.796703092050167\n",
      "Iteration 3210 Objective: 4.778188801208019\n",
      "Iteration 3220 Objective: 4.759796204764945\n",
      "Iteration 3230 Objective: 4.741524502823903\n",
      "Iteration 3240 Objective: 4.723372900745518\n",
      "Iteration 3250 Objective: 4.705340609113663\n",
      "Iteration 3260 Objective: 4.687426843700957\n",
      "Iteration 3270 Objective: 4.669630825434804\n",
      "Iteration 3280 Objective: 4.651951780363442\n",
      "Iteration 3290 Objective: 4.63438893962225\n",
      "Iteration 3300 Objective: 4.616941539400396\n",
      "Iteration 3310 Objective: 4.59960882090755\n",
      "Iteration 3320 Objective: 4.5823900303409495\n",
      "Iteration 3330 Objective: 4.565284418852545\n",
      "Iteration 3340 Objective: 4.548291242516436\n",
      "Iteration 3350 Objective: 4.531409762296619\n",
      "Iteration 3360 Objective: 4.514639244014714\n",
      "Iteration 3370 Objective: 4.497978958318089\n",
      "Iteration 3380 Objective: 4.481428180648184\n",
      "Iteration 3390 Objective: 4.464986191208963\n",
      "Iteration 3400 Objective: 4.448652274935534\n",
      "Iteration 3410 Objective: 4.432425721463238\n",
      "Iteration 3420 Objective: 4.416305825096563\n",
      "Iteration 3430 Objective: 4.400291884778554\n",
      "Iteration 3440 Objective: 4.384383204060296\n",
      "Iteration 3450 Objective: 4.368579091070622\n",
      "Iteration 3460 Objective: 4.352878858486091\n",
      "Iteration 3470 Objective: 4.337281823500976\n",
      "Iteration 3480 Objective: 4.321787307797648\n",
      "Iteration 3490 Objective: 4.306394637517057\n",
      "Iteration 3500 Objective: 4.291103143229412\n",
      "Iteration 3510 Objective: 4.275912159905141\n",
      "Iteration 3520 Objective: 4.260821026885829\n",
      "Iteration 3530 Objective: 4.245829087855613\n",
      "Iteration 3540 Objective: 4.230935690812592\n",
      "Iteration 3550 Objective: 4.216140188040514\n",
      "Iteration 3560 Objective: 4.20144193608046\n",
      "Iteration 3570 Objective: 4.186840295703042\n",
      "Iteration 3580 Objective: 4.172334631880521\n",
      "Iteration 3590 Objective: 4.157924313759163\n",
      "Iteration 3600 Objective: 4.143608714631862\n",
      "Iteration 3610 Objective: 4.129387211910855\n",
      "Iteration 3620 Objective: 4.115259187100624\n",
      "Iteration 3630 Objective: 4.101224025771035\n",
      "Iteration 3640 Objective: 4.087281117530622\n",
      "Iteration 3650 Objective: 4.0734298559999775\n",
      "Iteration 3660 Objective: 4.059669638785488\n",
      "Iteration 3670 Objective: 4.045999867453\n",
      "Iteration 3680 Objective: 4.032419947501918\n",
      "Iteration 3690 Objective: 4.018929288339277\n",
      "Iteration 3700 Objective: 4.005527303254058\n",
      "Iteration 3710 Objective: 3.992213409391746\n",
      "Iteration 3720 Objective: 3.978987027728875\n",
      "Iteration 3730 Objective: 3.96584758304795\n",
      "Iteration 3740 Objective: 3.95279450391232\n",
      "Iteration 3750 Objective: 3.939827222641435\n",
      "Iteration 3760 Objective: 3.926945175286126\n",
      "Iteration 3770 Objective: 3.9141478016039493\n",
      "Iteration 3780 Objective: 3.901434545035067\n",
      "Iteration 3790 Objective: 3.8888048526778243\n",
      "Iteration 3800 Objective: 3.8762581752647933\n",
      "Iteration 3810 Objective: 3.8637939671389767\n",
      "Iteration 3820 Objective: 3.851411686229832\n",
      "Iteration 3830 Objective: 3.8391107940299336\n",
      "Iteration 3840 Objective: 3.8268907555714673\n",
      "Iteration 3850 Objective: 3.8147510394029123\n",
      "Iteration 3860 Objective: 3.8026911175660483\n",
      "Iteration 3870 Objective: 3.7907104655728734\n",
      "Iteration 3880 Objective: 3.7788085623827903\n",
      "Iteration 3890 Objective: 3.7669848903801384\n",
      "Iteration 3900 Objective: 3.7552389353514455\n",
      "Iteration 3910 Objective: 3.7435701864631845\n",
      "Iteration 3920 Objective: 3.7319781362395488\n",
      "Iteration 3930 Objective: 3.7204622805403256\n",
      "Iteration 3940 Objective: 3.7090221185390737\n",
      "Iteration 3950 Objective: 3.6976571527012725\n",
      "Iteration 3960 Objective: 3.6863668887626773\n",
      "Iteration 3970 Objective: 3.675150835707832\n",
      "Iteration 3980 Objective: 3.6640085057487077\n",
      "Iteration 3990 Objective: 3.6529394143035927\n",
      "Iteration 4000 Objective: 3.6419430799758277\n",
      "Iteration 4010 Objective: 3.631019024533016\n",
      "Iteration 4020 Objective: 3.6201667728862117\n",
      "Iteration 4030 Objective: 3.60938585306919\n",
      "Iteration 4040 Objective: 3.59867579621795\n",
      "Iteration 4050 Objective: 3.5880361365503486\n",
      "Iteration 4060 Objective: 3.57746641134586\n",
      "Iteration 4070 Objective: 3.5669661609253516\n",
      "Iteration 4080 Objective: 3.556534928631229\n",
      "Iteration 4090 Objective: 3.5461722608074537\n",
      "Iteration 4100 Objective: 3.535877706779912\n",
      "Iteration 4110 Objective: 3.5256508188367364\n",
      "Iteration 4120 Objective: 3.5154911522088805\n",
      "Iteration 4130 Objective: 3.5053982650507503\n",
      "Iteration 4140 Objective: 3.4953717184210418\n",
      "Iteration 4150 Objective: 3.4854110762635817\n",
      "Iteration 4160 Objective: 3.475515905388389\n",
      "Iteration 4170 Objective: 3.4656857754528447\n",
      "Iteration 4180 Objective: 3.4559202589429603\n",
      "Iteration 4190 Objective: 3.44621893115484\n",
      "Iteration 4200 Objective: 3.4365813701761425\n",
      "Iteration 4210 Objective: 3.4270071568677096\n",
      "Iteration 4220 Objective: 3.4174958748454682\n",
      "Iteration 4230 Objective: 3.408047110462147\n",
      "Iteration 4240 Objective: 3.3986604527894464\n",
      "Iteration 4250 Objective: 3.3893354936000657\n",
      "Iteration 4260 Objective: 3.380071827350005\n",
      "Iteration 4270 Objective: 3.3708690511608794\n",
      "Iteration 4280 Objective: 3.3617267648024276\n",
      "Iteration 4290 Objective: 3.352644570675112\n",
      "Iteration 4300 Objective: 3.343622073792798\n",
      "Iteration 4310 Objective: 3.3346588817656286\n",
      "Iteration 4320 Objective: 3.3257546047828748\n",
      "Iteration 4330 Objective: 3.3169088555960835\n",
      "Iteration 4340 Objective: 3.3081212495021397\n",
      "Iteration 4350 Objective: 3.299391404326602\n",
      "Iteration 4360 Objective: 3.290718940407114\n",
      "Iteration 4370 Objective: 3.2821034805767106\n",
      "Iteration 4380 Objective: 3.2735446501476577\n",
      "Iteration 4390 Objective: 3.2650420768950346\n",
      "Iteration 4400 Objective: 3.256595391040467\n",
      "Iteration 4410 Objective: 3.2482042252362344\n",
      "Iteration 4420 Objective: 3.2398682145491526\n",
      "Iteration 4430 Objective: 3.231586996444701\n",
      "Iteration 4440 Objective: 3.22336021077137\n",
      "Iteration 4450 Objective: 3.2151874997448657\n",
      "Iteration 4460 Objective: 3.2070685079326733\n",
      "Iteration 4470 Objective: 3.199002882238456\n",
      "Iteration 4480 Objective: 3.190990271886859\n",
      "Iteration 4490 Objective: 3.1830303284080887\n",
      "Iteration 4500 Objective: 3.175122705622945\n",
      "Iteration 4510 Objective: 3.167267059627568\n",
      "Iteration 4520 Objective: 3.1594630487786275\n",
      "Iteration 4530 Objective: 3.151710333678389\n",
      "Iteration 4540 Objective: 3.144008577160015\n",
      "Iteration 4550 Objective: 3.136357444272808\n",
      "Iteration 4560 Objective: 3.128756602267784\n",
      "Iteration 4570 Objective: 3.1212057205830193\n",
      "Iteration 4580 Objective: 3.113704470829447\n",
      "Iteration 4590 Objective: 3.1062525267764864\n",
      "Iteration 4600 Objective: 3.098849564337833\n",
      "Iteration 4610 Objective: 3.0914952615574625\n",
      "Iteration 4620 Objective: 3.0841892985955015\n",
      "Iteration 4630 Objective: 3.0769313577144124\n",
      "Iteration 4640 Objective: 3.069721123265171\n",
      "Iteration 4650 Objective: 3.062558281673466\n",
      "Iteration 4660 Objective: 3.0554425214261474\n",
      "Iteration 4670 Objective: 3.04837353305762\n",
      "Iteration 4680 Objective: 3.041351009136436\n",
      "Iteration 4690 Objective: 3.0343746442518262\n",
      "Iteration 4700 Objective: 3.0274441350005716\n",
      "Iteration 4710 Objective: 3.020559179973655\n",
      "Iteration 4720 Objective: 3.013719479743268\n",
      "Iteration 4730 Objective: 3.006924736849666\n",
      "Iteration 4740 Objective: 3.0001746557883924\n",
      "Iteration 4750 Objective: 2.993468942997349\n",
      "Iteration 4760 Objective: 2.986807306843924\n",
      "Iteration 4770 Objective: 2.980189457612448\n",
      "Iteration 4780 Objective: 2.973615107491617\n",
      "Iteration 4790 Objective: 2.9670839705618257\n",
      "Iteration 4800 Objective: 2.960595762782869\n",
      "Iteration 4810 Objective: 2.9541502019814994\n",
      "Iteration 4820 Objective: 2.947747007839217\n",
      "Iteration 4830 Objective: 2.9413859018800594\n",
      "Iteration 4840 Objective: 2.9350666074584706\n",
      "Iteration 4850 Objective: 2.928788849747275\n",
      "Iteration 4860 Objective: 2.922552355725794\n",
      "Iteration 4870 Objective: 2.9163568541678524\n",
      "Iteration 4880 Objective: 2.910202075630057\n",
      "Iteration 4890 Objective: 2.9040877524400637\n",
      "Iteration 4900 Objective: 2.8980136186849954\n",
      "Iteration 4910 Objective: 2.8919794101997054\n",
      "Iteration 4920 Objective: 2.8859848645555237\n",
      "Iteration 4930 Objective: 2.8800297210486177\n",
      "Iteration 4940 Objective: 2.8741137206888743\n",
      "Iteration 4950 Objective: 2.868236606188416\n",
      "Iteration 4960 Objective: 2.862398121950578\n",
      "Iteration 4970 Objective: 2.8565980140587266\n",
      "Iteration 4980 Objective: 2.8508360302651754\n",
      "Iteration 4990 Objective: 2.845111919980342\n",
      "Iteration 5000 Objective: 2.839425434261692\n",
      "Iteration 5010 Objective: 2.833776325803034\n",
      "Iteration 5020 Objective: 2.828164348923717\n",
      "Iteration 5030 Objective: 2.8225892595579065\n",
      "Iteration 5040 Objective: 2.8170508152440874\n",
      "Iteration 5050 Objective: 2.8115487751143893\n",
      "Iteration 5060 Objective: 2.806082899884158\n",
      "Iteration 5070 Objective: 2.800652951841603\n",
      "Iteration 5080 Objective: 2.795258694837379\n",
      "Iteration 5090 Objective: 2.7898998942743294\n",
      "Iteration 5100 Objective: 2.784576317097376\n",
      "Iteration 5110 Objective: 2.779287731783254\n",
      "Iteration 5120 Objective: 2.77403390833049\n",
      "Iteration 5130 Objective: 2.768814618249467\n",
      "Iteration 5140 Objective: 2.7636296345523723\n",
      "Iteration 5150 Objective: 2.758478731743421\n",
      "Iteration 5160 Objective: 2.753361685809022\n",
      "Iteration 5170 Objective: 2.7482782742079355\n",
      "Iteration 5180 Objective: 2.7432282758618385\n",
      "Iteration 5190 Objective: 2.7382114711453918\n",
      "Iteration 5200 Objective: 2.733227641876965\n",
      "Iteration 5210 Objective: 2.728276571309028\n",
      "Iteration 5220 Objective: 2.7233580441186316\n",
      "Iteration 5230 Objective: 2.7184718463982795\n",
      "Iteration 5240 Objective: 2.7136177656464184\n",
      "Iteration 5250 Objective: 2.708795590758232\n",
      "Iteration 5260 Objective: 2.704005112016571\n",
      "Iteration 5270 Objective: 2.69924612108273\n",
      "Iteration 5280 Objective: 2.6945184109873974\n",
      "Iteration 5290 Objective: 2.6898217761216525\n",
      "Iteration 5300 Objective: 2.6851560122281093\n",
      "Iteration 5310 Objective: 2.6805209163919166\n",
      "Iteration 5320 Objective: 2.67591628703199\n",
      "Iteration 5330 Objective: 2.671341923892212\n",
      "Iteration 5340 Objective: 2.6667976280328096\n",
      "Iteration 5350 Objective: 2.6622832018216025\n",
      "Iteration 5360 Objective: 2.6577984489254196\n",
      "Iteration 5370 Objective: 2.653343174301646\n",
      "Iteration 5380 Objective: 2.6489171841896315\n",
      "Iteration 5390 Objective: 2.6445202861023316\n",
      "Iteration 5400 Objective: 2.6401522888179687\n",
      "Iteration 5410 Objective: 2.635813002371562\n",
      "Iteration 5420 Objective: 2.631502238046862\n",
      "Iteration 5430 Objective: 2.6272198083679945\n",
      "Iteration 5440 Objective: 2.622965527091397\n",
      "Iteration 5450 Objective: 2.6187392091976736\n",
      "Iteration 5460 Objective: 2.614540670883566\n",
      "Iteration 5470 Objective: 2.6103697295539368\n",
      "Iteration 5480 Objective: 2.6062262038138595\n",
      "Iteration 5490 Objective: 2.602109913460748\n",
      "Iteration 5500 Objective: 2.5980206794764014\n",
      "Iteration 5510 Objective: 2.593958324019389\n",
      "Iteration 5520 Objective: 2.5899226704171907\n",
      "Iteration 5530 Objective: 2.585913543158592\n",
      "Iteration 5540 Objective: 2.58193076788596\n",
      "Iteration 5550 Objective: 2.5779741713877233\n",
      "Iteration 5560 Objective: 2.5740435815909013\n",
      "Iteration 5570 Objective: 2.5701388275534436\n",
      "Iteration 5580 Objective: 2.5662597394569717\n",
      "Iteration 5590 Objective: 2.5624061485992975\n",
      "Iteration 5600 Objective: 2.5585778873871314\n",
      "Iteration 5610 Objective: 2.5547747893287496\n",
      "Iteration 5620 Objective: 2.5509966890267832\n",
      "Iteration 5630 Objective: 2.547243422171047\n",
      "Iteration 5640 Objective: 2.5435148255313265\n",
      "Iteration 5650 Objective: 2.539810736950335\n",
      "Iteration 5660 Objective: 2.536130995336666\n",
      "Iteration 5670 Objective: 2.532475440657749\n",
      "Iteration 5680 Objective: 2.5288439139328944\n",
      "Iteration 5690 Objective: 2.525236257226399\n",
      "Iteration 5700 Objective: 2.5216523136407063\n",
      "Iteration 5710 Objective: 2.5180919273094813\n",
      "Iteration 5720 Objective: 2.5145549433909484\n",
      "Iteration 5730 Objective: 2.5110412080610978\n"
     ]
    },
    {
     "name": "stdout",
     "output_type": "stream",
     "text": [
      "Iteration 5740 Objective: 2.5075505685070207\n",
      "Iteration 5750 Objective: 2.5040828729201676\n",
      "Iteration 5760 Objective: 2.500637970489938\n",
      "Iteration 5770 Objective: 2.4972157113969433\n",
      "Iteration 5780 Objective: 2.4938159468065573\n",
      "Iteration 5790 Objective: 2.490438528862462\n",
      "Iteration 5800 Objective: 2.4870833106802124\n",
      "Iteration 5810 Objective: 2.4837501463407747\n",
      "Iteration 5820 Objective: 2.480438890884329\n",
      "Iteration 5830 Objective: 2.4771494003037975\n",
      "Iteration 5840 Objective: 2.4738815315387\n",
      "Iteration 5850 Objective: 2.4706351424688795\n",
      "Iteration 5860 Objective: 2.4674100919083557\n",
      "Iteration 5870 Objective: 2.464206239599106\n",
      "Iteration 5880 Objective: 2.461023446205116\n",
      "Iteration 5890 Objective: 2.4578615733061313\n",
      "Iteration 5900 Objective: 2.454720483391814\n",
      "Iteration 5910 Objective: 2.4516000398556255\n",
      "Iteration 5920 Objective: 2.44850010698896\n",
      "Iteration 5930 Objective: 2.4454205499752293\n",
      "Iteration 5940 Objective: 2.4423612348839896\n",
      "Iteration 5950 Objective: 2.4393220286650927\n",
      "Iteration 5960 Objective: 2.4363027991430344\n",
      "Iteration 5970 Objective: 2.43330341501096\n",
      "Iteration 5980 Objective: 2.4303237458251727\n",
      "Iteration 5990 Objective: 2.4273636619993813\n",
      "Iteration 6000 Objective: 2.4244230347990277\n",
      "Iteration 6010 Objective: 2.4215017363357547\n",
      "Iteration 6020 Objective: 2.4185996395618288\n",
      "Iteration 6030 Objective: 2.4157166182645686\n",
      "Iteration 6040 Objective: 2.412852547060898\n",
      "Iteration 6050 Objective: 2.410007301391896\n",
      "Iteration 6060 Objective: 2.407180757517343\n",
      "Iteration 6070 Objective: 2.404372792510408\n",
      "Iteration 6080 Objective: 2.4015832842521947\n",
      "Iteration 6090 Objective: 2.3988121114265626\n",
      "Iteration 6100 Objective: 2.396059153514716\n",
      "Iteration 6110 Objective: 2.393324290790075\n",
      "Iteration 6120 Objective: 2.3906074043130086\n",
      "Iteration 6130 Objective: 2.38790837592568\n",
      "Iteration 6140 Objective: 2.3852270882468853\n",
      "Iteration 6150 Objective: 2.38256342466698\n",
      "Iteration 6160 Objective: 2.3799172693428274\n",
      "Iteration 6170 Objective: 2.3772885071926586\n",
      "Iteration 6180 Objective: 2.3746770238911825\n",
      "Iteration 6190 Objective: 2.3720827058645644\n",
      "Iteration 6200 Objective: 2.36950544028549\n",
      "Iteration 6210 Objective: 2.36694511506823\n",
      "Iteration 6220 Objective: 2.3644016188638504\n",
      "Iteration 6230 Objective: 2.3618748410552577\n",
      "Iteration 6240 Objective: 2.359364671752476\n",
      "Iteration 6250 Objective: 2.356871001787829\n",
      "Iteration 6260 Objective: 2.3543937227111864\n",
      "Iteration 6270 Objective: 2.3519327267852836\n",
      "Iteration 6280 Objective: 2.349487906980992\n",
      "Iteration 6290 Objective: 2.347059156972711\n",
      "Iteration 6300 Objective: 2.3446463711336807\n",
      "Iteration 6310 Objective: 2.342249444531474\n",
      "Iteration 6320 Objective: 2.339868272923323\n",
      "Iteration 6330 Objective: 2.3375027527517096\n",
      "Iteration 6340 Objective: 2.3351527811397594\n",
      "Iteration 6350 Objective: 2.33281825588681\n",
      "Iteration 6360 Objective: 2.3304990754639894\n",
      "Iteration 6370 Objective: 2.328195139009751\n",
      "Iteration 6380 Objective: 2.325906346325511\n",
      "Iteration 6390 Objective: 2.323632597871307\n",
      "Iteration 6400 Objective: 2.3213737947614264\n",
      "Iteration 6410 Objective: 2.319129838760183\n",
      "Iteration 6420 Objective: 2.3169006322775285\n",
      "Iteration 6430 Objective: 2.3146860783649097\n",
      "Iteration 6440 Objective: 2.312486080711023\n",
      "Iteration 6450 Objective: 2.310300543637601\n",
      "Iteration 6460 Objective: 2.30812937209527\n",
      "Iteration 6470 Objective: 2.305972471659421\n",
      "Iteration 6480 Objective: 2.303829748526112\n",
      "Iteration 6490 Objective: 2.3017011095079405\n",
      "Iteration 6500 Objective: 2.299586462030064\n",
      "Iteration 6510 Objective: 2.2974857141260987\n",
      "Iteration 6520 Objective: 2.2953987744341724\n",
      "Iteration 6530 Objective: 2.2933255521929445\n",
      "Iteration 6540 Objective: 2.2912659572376315\n",
      "Iteration 6550 Objective: 2.2892198999961053\n",
      "Iteration 6560 Objective: 2.2871872914849964\n",
      "Iteration 6570 Objective: 2.285168043305832\n",
      "Iteration 6580 Objective: 2.2831620676411752\n",
      "Iteration 6590 Objective: 2.281169277250806\n",
      "Iteration 6600 Objective: 2.279189585467953\n",
      "Iteration 6610 Objective: 2.277222906195479\n",
      "Iteration 6620 Objective: 2.275269153902179\n",
      "Iteration 6630 Objective: 2.273328243619046\n",
      "Iteration 6640 Objective: 2.271400090935581\n",
      "Iteration 6650 Objective: 2.2694846119960994\n",
      "Iteration 6660 Objective: 2.2675817234961033\n",
      "Iteration 6670 Objective: 2.265691342678659\n",
      "Iteration 6680 Objective: 2.263813387330785\n",
      "Iteration 6690 Objective: 2.2619477757799076\n",
      "Iteration 6700 Objective: 2.2600944268902605\n",
      "Iteration 6710 Objective: 2.258253260059397\n",
      "Iteration 6720 Objective: 2.256424195214673\n",
      "Iteration 6730 Objective: 2.254607152809751\n",
      "Iteration 6740 Objective: 2.252802053821158\n",
      "Iteration 6750 Objective: 2.2510088197448415\n",
      "Iteration 6760 Objective: 2.2492273725927485\n",
      "Iteration 6770 Objective: 2.24745763488946\n",
      "Iteration 6780 Objective: 2.245699529668791\n",
      "Iteration 6790 Objective: 2.2439529804704312\n",
      "Iteration 6800 Objective: 2.2422179113366987\n",
      "Iteration 6810 Objective: 2.240494246809137\n",
      "Iteration 6820 Objective: 2.2387819119252805\n",
      "Iteration 6830 Objective: 2.2370808322154216\n",
      "Iteration 6840 Objective: 2.2353909336993043\n",
      "Iteration 6850 Objective: 2.2337121428829922\n",
      "Iteration 6860 Objective: 2.232044386755557\n",
      "Iteration 6870 Objective: 2.230387592786032\n",
      "Iteration 6880 Objective: 2.2287416889201683\n",
      "Iteration 6890 Objective: 2.2271066035773392\n",
      "Iteration 6900 Objective: 2.225482265647404\n",
      "Iteration 6910 Objective: 2.2238686044876586\n",
      "Iteration 6920 Objective: 2.222265549919687\n",
      "Iteration 6930 Objective: 2.2206730322263923\n",
      "Iteration 6940 Objective: 2.219090982148923\n",
      "Iteration 6950 Objective: 2.217519330883646\n",
      "Iteration 6960 Objective: 2.215958010079204\n",
      "Iteration 6970 Objective: 2.214406951833478\n",
      "Iteration 6980 Objective: 2.2128660886907086\n",
      "Iteration 6990 Objective: 2.21133535363849\n",
      "Iteration 7000 Objective: 2.2098146801049037\n",
      "Iteration 7010 Objective: 2.2083040019556135\n",
      "Iteration 7020 Objective: 2.2068032534909747\n",
      "Iteration 7030 Objective: 2.2053123694431847\n",
      "Iteration 7040 Objective: 2.203831284973452\n",
      "Iteration 7050 Objective: 2.2023599356691657\n",
      "Iteration 7060 Objective: 2.200898257541105\n",
      "Iteration 7070 Objective: 2.1994461870206523\n",
      "Iteration 7080 Objective: 2.1980036609570064\n",
      "Iteration 7090 Objective: 2.1965706166144794\n",
      "Iteration 7100 Objective: 2.1951469916697413\n",
      "Iteration 7110 Objective: 2.1937327242090965\n",
      "Iteration 7120 Objective: 2.192327752725821\n",
      "Iteration 7130 Objective: 2.190932016117486\n",
      "Iteration 7140 Objective: 2.189545453683265\n",
      "Iteration 7150 Objective: 2.1881680051213275\n",
      "Iteration 7160 Objective: 2.1867996105262186\n",
      "Iteration 7170 Objective: 2.1854402103862163\n",
      "Iteration 7180 Objective: 2.1840897455807897\n",
      "Iteration 7190 Objective: 2.182748157378004\n",
      "Iteration 7200 Objective: 2.1814153874319735\n",
      "Iteration 7210 Objective: 2.180091377780303\n",
      "Iteration 7220 Objective: 2.1787760708415953\n",
      "Iteration 7230 Objective: 2.1774694094129297\n",
      "Iteration 7240 Objective: 2.1761713366673896\n",
      "Iteration 7250 Objective: 2.174881796151582\n",
      "Iteration 7260 Objective: 2.173600731783177\n",
      "Iteration 7270 Objective: 2.1723280878484648\n",
      "Iteration 7280 Objective: 2.171063808999951\n",
      "Iteration 7290 Objective: 2.1698078402539576\n",
      "Iteration 7300 Objective: 2.1685601269881674\n",
      "Iteration 7310 Objective: 2.167320614939339\n",
      "Iteration 7320 Objective: 2.1660892502008906\n",
      "Iteration 7330 Objective: 2.1648659792205724\n",
      "Iteration 7340 Objective: 2.1636507487981187\n",
      "Iteration 7350 Objective: 2.1624435060829574\n",
      "Iteration 7360 Objective: 2.161244198571899\n",
      "Iteration 7370 Objective: 2.1600527741068696\n",
      "Iteration 7380 Objective: 2.1588691808726233\n",
      "Iteration 7390 Objective: 2.157693367394489\n",
      "Iteration 7400 Objective: 2.156525282536147\n",
      "Iteration 7410 Objective: 2.1553648754974\n",
      "Iteration 7420 Objective: 2.1542120958119426\n",
      "Iteration 7430 Objective: 2.1530668933452035\n",
      "Iteration 7440 Objective: 2.1519292182921337\n",
      "Iteration 7450 Objective: 2.150799021175055\n",
      "Iteration 7460 Objective: 2.149676252841523\n",
      "Iteration 7470 Objective: 2.148560864462139\n",
      "Iteration 7480 Objective: 2.1474528075284947\n",
      "Iteration 7490 Objective: 2.146352033850999\n",
      "Iteration 7500 Objective: 2.1452584955568246\n",
      "Iteration 7510 Objective: 2.144172145087819\n",
      "Iteration 7520 Objective: 2.143092935198403\n",
      "Iteration 7530 Objective: 2.142020818953578\n",
      "Iteration 7540 Objective: 2.140955749726825\n",
      "Iteration 7550 Objective: 2.139897681198109\n",
      "Iteration 7560 Objective: 2.13884656735185\n",
      "Iteration 7570 Objective: 2.137802362474932\n",
      "Iteration 7580 Objective: 2.136765021154725\n",
      "Iteration 7590 Objective: 2.135734498277073\n",
      "Iteration 7600 Objective: 2.134710749024368\n",
      "Iteration 7610 Objective: 2.133693728873588\n",
      "Iteration 7620 Objective: 2.1326833935943497\n",
      "Iteration 7630 Objective: 2.1316796992470124\n",
      "Iteration 7640 Objective: 2.1306826021807526\n",
      "Iteration 7650 Objective: 2.1296920590316457\n",
      "Iteration 7660 Objective: 2.1287080267207883\n",
      "Iteration 7670 Objective: 2.1277304624524844\n",
      "Iteration 7680 Objective: 2.12675932371228\n",
      "Iteration 7690 Objective: 2.125794568265207\n",
      "Iteration 7700 Objective: 2.1248361541538694\n",
      "Iteration 7710 Objective: 2.1238840396966974\n",
      "Iteration 7720 Objective: 2.1229381834860743\n",
      "Iteration 7730 Objective: 2.121998544386559\n",
      "Iteration 7740 Objective: 2.1210650815330743\n",
      "Iteration 7750 Objective: 2.120137754329189\n",
      "Iteration 7760 Objective: 2.119216522445274\n",
      "Iteration 7770 Objective: 2.1183013458168096\n",
      "Iteration 7780 Objective: 2.1173921846426236\n",
      "Iteration 7790 Objective: 2.1164889993831277\n",
      "Iteration 7800 Objective: 2.1155917507586492\n",
      "Iteration 7810 Objective: 2.1147003997477\n",
      "Iteration 7820 Objective: 2.113814907585283\n",
      "Iteration 7830 Objective: 2.112935235761192\n",
      "Iteration 7840 Objective: 2.1120613460183577\n",
      "Iteration 7850 Objective: 2.111193200351165\n",
      "Iteration 7860 Objective: 2.1103307610038233\n",
      "Iteration 7870 Objective: 2.1094739904686963\n",
      "Iteration 7880 Objective: 2.10862285148469\n",
      "Iteration 7890 Objective: 2.1077773070356383\n",
      "Iteration 7900 Objective: 2.106937320348672\n",
      "Iteration 7910 Objective: 2.106102854892621\n",
      "Iteration 7920 Objective: 2.105273874376457\n",
      "Iteration 7930 Objective: 2.1044503427476684\n",
      "Iteration 7940 Objective: 2.103632224190737\n",
      "Iteration 7950 Objective: 2.102819483125553\n",
      "Iteration 7960 Objective: 2.102012084205872\n",
      "Iteration 7970 Objective: 2.1012099923177767\n",
      "Iteration 7980 Objective: 2.1004131725781625\n",
      "Iteration 7990 Objective: 2.099621590333199\n",
      "Iteration 8000 Objective: 2.0988352111568593\n",
      "Iteration 8010 Objective: 2.0980540008493747\n",
      "Iteration 8020 Objective: 2.097277925435774\n",
      "Iteration 8030 Objective: 2.096506951164424\n",
      "Iteration 8040 Objective: 2.0957410445055142\n",
      "Iteration 8050 Objective: 2.0949801721496395\n",
      "Iteration 8060 Objective: 2.0942243010063293\n",
      "Iteration 8070 Objective: 2.0934733982026397\n",
      "Iteration 8080 Objective: 2.092727431081675\n",
      "Iteration 8090 Objective: 2.091986367201194\n",
      "Iteration 8100 Objective: 2.0912501743322225\n",
      "Iteration 8110 Objective: 2.090518820457589\n",
      "Iteration 8120 Objective: 2.0897922737706196\n",
      "Iteration 8130 Objective: 2.0890705026736565\n",
      "Iteration 8140 Objective: 2.0883534757767586\n",
      "Iteration 8150 Objective: 2.0876411618963173\n",
      "Iteration 8160 Objective: 2.086933530053692\n",
      "Iteration 8170 Objective: 2.086230549473822\n",
      "Iteration 8180 Objective: 2.0855321895840127\n",
      "Iteration 8190 Objective: 2.0848384200124346\n",
      "Iteration 8200 Objective: 2.084149210586957\n",
      "Iteration 8210 Objective: 2.083464531333756\n",
      "Iteration 8220 Objective: 2.082784352475984\n",
      "Iteration 8230 Objective: 2.082108644432588\n",
      "Iteration 8240 Objective: 2.0814373778168873\n",
      "Iteration 8250 Objective: 2.080770523435399\n",
      "Iteration 8260 Objective: 2.080108052286522\n",
      "Iteration 8270 Objective: 2.079449935559253\n",
      "Iteration 8280 Objective: 2.0787961446320113\n",
      "Iteration 8290 Objective: 2.0781466510713145\n",
      "Iteration 8300 Objective: 2.077501426630572\n",
      "Iteration 8310 Objective: 2.076860443248871\n",
      "Iteration 8320 Objective: 2.076223673049736\n",
      "Iteration 8330 Objective: 2.0755910883399316\n",
      "Iteration 8340 Objective: 2.0749626616082484\n",
      "Iteration 8350 Objective: 2.0743383655242833\n",
      "Iteration 8360 Objective: 2.073718172937321\n",
      "Iteration 8370 Objective: 2.073102056875066\n",
      "Iteration 8380 Objective: 2.0724899905425396\n",
      "Iteration 8390 Objective: 2.0718819473208727\n",
      "Iteration 8400 Objective: 2.071277900766164\n",
      "Iteration 8410 Objective: 2.070677824608329\n",
      "Iteration 8420 Objective: 2.070081692749958\n",
      "Iteration 8430 Objective: 2.0694894792651772\n",
      "Iteration 8440 Objective: 2.068901158398519\n",
      "Iteration 8450 Objective: 2.0683167045638218\n",
      "Iteration 8460 Objective: 2.067736092343083\n",
      "Iteration 8470 Objective: 2.06715929648539\n",
      "Iteration 8480 Objective: 2.0665862919057854\n",
      "Iteration 8490 Objective: 2.066017053684218\n",
      "Iteration 8500 Objective: 2.0654515570644016\n",
      "Iteration 8510 Objective: 2.0648897774528314\n",
      "Iteration 8520 Objective: 2.0643316904175775\n",
      "Iteration 8530 Objective: 2.0637772716873743\n",
      "Iteration 8540 Objective: 2.0632264971504464\n",
      "Iteration 8550 Objective: 2.0626793428535146\n",
      "Iteration 8560 Objective: 2.0621357850007542\n",
      "Iteration 8570 Objective: 2.061595799952743\n",
      "Iteration 8580 Objective: 2.0610593642254456\n",
      "Iteration 8590 Objective: 2.0605264544891835\n",
      "Iteration 8600 Objective: 2.0599970475676104\n",
      "Iteration 8610 Objective: 2.059471120436747\n",
      "Iteration 8620 Objective: 2.0589486502239347\n",
      "Iteration 8630 Objective: 2.0584296142068514\n",
      "Iteration 8640 Objective: 2.0579139898125343\n",
      "Iteration 8650 Objective: 2.0574017546164063\n",
      "Iteration 8660 Objective: 2.056892886341257\n",
      "Iteration 8670 Objective: 2.0563873628563227\n",
      "Iteration 8680 Objective: 2.0558851621763203\n",
      "Iteration 8690 Objective: 2.0553862624604418\n",
      "Iteration 8700 Objective: 2.054890642011465\n",
      "Iteration 8710 Objective: 2.0543982792747664\n",
      "Iteration 8720 Objective: 2.053909152837425\n",
      "Iteration 8730 Objective: 2.0534232414272355\n",
      "Iteration 8740 Objective: 2.052940523911836\n",
      "Iteration 8750 Objective: 2.052460979297764\n",
      "Iteration 8760 Objective: 2.051984586729546\n",
      "Iteration 8770 Objective: 2.051511325488785\n",
      "Iteration 8780 Objective: 2.0510411749932653\n",
      "Iteration 8790 Objective: 2.050574114796084\n",
      "Iteration 8800 Objective: 2.050110124584703\n",
      "Iteration 8810 Objective: 2.0496491841801108\n",
      "Iteration 8820 Objective: 2.04919127353595\n",
      "Iteration 8830 Objective: 2.048736372737579\n",
      "Iteration 8840 Objective: 2.0482844620013116\n",
      "Iteration 8850 Objective: 2.0478355216734716\n",
      "Iteration 8860 Objective: 2.047389532229559\n",
      "Iteration 8870 Objective: 2.046946474273428\n",
      "Iteration 8880 Objective: 2.0465063285364185\n",
      "Iteration 8890 Objective: 2.046069075876515\n",
      "Iteration 8900 Objective: 2.045634697277523\n",
      "Iteration 8910 Objective: 2.04520317384825\n",
      "Iteration 8920 Objective: 2.0447744868216793\n",
      "Iteration 8930 Objective: 2.0443486175541237\n",
      "Iteration 8940 Objective: 2.0439255475244757\n",
      "Iteration 8950 Objective: 2.0435052583333313\n",
      "Iteration 8960 Objective: 2.04308773170226\n",
      "Iteration 8970 Objective: 2.0426729494729416\n",
      "Iteration 8980 Objective: 2.0422608936064583\n",
      "Iteration 8990 Objective: 2.041851546182407\n",
      "Iteration 9000 Objective: 2.041444889398202\n",
      "Iteration 9010 Objective: 2.04104090556829\n",
      "Iteration 9020 Objective: 2.040639577123329\n",
      "Iteration 9030 Objective: 2.0402408866094897\n",
      "Iteration 9040 Objective: 2.0398448166876544\n",
      "Iteration 9050 Objective: 2.039451350132664\n",
      "Iteration 9060 Objective: 2.03906046983261\n",
      "Iteration 9070 Objective: 2.038672158788042\n",
      "Iteration 9080 Objective: 2.038286400111234\n",
      "Iteration 9090 Objective: 2.0379031770254907\n",
      "Iteration 9100 Objective: 2.037522472864378\n",
      "Iteration 9110 Objective: 2.037144271070998\n",
      "Iteration 9120 Objective: 2.0367685551973027\n",
      "Iteration 9130 Objective: 2.0363953089033413\n",
      "Iteration 9140 Objective: 2.036024515956566\n",
      "Iteration 9150 Objective: 2.035656160231144\n",
      "Iteration 9160 Objective: 2.03529022570721\n",
      "Iteration 9170 Objective: 2.0349266964702233\n",
      "Iteration 9180 Objective: 2.0345655567102288\n",
      "Iteration 9190 Objective: 2.0342067907211954\n",
      "Iteration 9200 Objective: 2.0338503829003516\n",
      "Iteration 9210 Objective: 2.033496317747438\n",
      "Iteration 9220 Objective: 2.0331445798641097\n",
      "Iteration 9230 Objective: 2.0327951539532343\n",
      "Iteration 9240 Objective: 2.032448024818222\n",
      "Iteration 9250 Objective: 2.0321031773623557\n",
      "Iteration 9260 Objective: 2.0317605965881813\n",
      "Iteration 9270 Objective: 2.031420267596791\n",
      "Iteration 9280 Objective: 2.0310821755872253\n",
      "Iteration 9290 Objective: 2.0307463058557933\n",
      "Iteration 9300 Objective: 2.030412643795494\n",
      "Iteration 9310 Objective: 2.0300811748952827\n",
      "Iteration 9320 Objective: 2.029751884739542\n",
      "Iteration 9330 Objective: 2.0294247590073713\n",
      "Iteration 9340 Objective: 2.0290997834720286\n",
      "Iteration 9350 Objective: 2.0287769440002723\n",
      "Iteration 9360 Objective: 2.028456226551756\n",
      "Iteration 9370 Objective: 2.0281376171784413\n",
      "Iteration 9380 Objective: 2.0278211020239305\n",
      "Iteration 9390 Objective: 2.027506667322941\n",
      "Iteration 9400 Objective: 2.027194299400652\n",
      "Iteration 9410 Objective: 2.0268839846721347\n",
      "Iteration 9420 Objective: 2.026575709641745\n",
      "Iteration 9430 Objective: 2.0262694609025536\n",
      "Iteration 9440 Objective: 2.0259652251357485\n",
      "Iteration 9450 Objective: 2.0256629891100792\n",
      "Iteration 9460 Objective: 2.025362739681232\n",
      "Iteration 9470 Objective: 2.025064463791319\n",
      "Iteration 9480 Objective: 2.0247681484682767\n",
      "Iteration 9490 Objective: 2.024473780825294\n",
      "Iteration 9500 Objective: 2.024181348060285\n",
      "Iteration 9510 Objective: 2.0238908374552835\n",
      "Iteration 9520 Objective: 2.023602236375956\n",
      "Iteration 9530 Objective: 2.02331553227098\n",
      "Iteration 9540 Objective: 2.0230307126715434\n",
      "Iteration 9550 Objective: 2.022747765190805\n",
      "Iteration 9560 Objective: 2.0224666775233353\n",
      "Iteration 9570 Objective: 2.022187437444579\n",
      "Iteration 9580 Objective: 2.0219100328103226\n",
      "Iteration 9590 Objective: 2.021634451556211\n",
      "Iteration 9600 Objective: 2.021360681697185\n",
      "Iteration 9610 Objective: 2.021088711326911\n",
      "Iteration 9620 Objective: 2.020818528617381\n",
      "Iteration 9630 Objective: 2.0205501218182933\n",
      "Iteration 9640 Objective: 2.020283479256593\n",
      "Iteration 9650 Objective: 2.0200185893359524\n",
      "Iteration 9660 Objective: 2.019755440536265\n",
      "Iteration 9670 Objective: 2.0194940214131476\n",
      "Iteration 9680 Objective: 2.019234320597436\n",
      "Iteration 9690 Objective: 2.018976326794706\n",
      "Iteration 9700 Objective: 2.0187200287847493\n",
      "Iteration 9710 Objective: 2.0184654154211326\n",
      "Iteration 9720 Objective: 2.0182124756306887\n",
      "Iteration 9730 Objective: 2.017961198413012\n",
      "Iteration 9740 Objective: 2.0177115728400095\n",
      "Iteration 9750 Objective: 2.017463588055433\n",
      "Iteration 9760 Objective: 2.0172172332743936\n",
      "Iteration 9770 Objective: 2.0169724977828496\n",
      "Iteration 9780 Objective: 2.0167293709372425\n",
      "Iteration 9790 Objective: 2.016487842163941\n",
      "Iteration 9800 Objective: 2.0162479009588115\n",
      "Iteration 9810 Objective: 2.0160095368867736\n",
      "Iteration 9820 Objective: 2.0157727395813385\n",
      "Iteration 9830 Objective: 2.0155374987441395\n",
      "Iteration 9840 Objective: 2.0153038041445415\n",
      "Iteration 9850 Objective: 2.015071645619095\n",
      "Iteration 9860 Objective: 2.0148410130712002\n",
      "Iteration 9870 Objective: 2.014611896470617\n",
      "Iteration 9880 Objective: 2.014384285853017\n",
      "Iteration 9890 Objective: 2.0141581713195884\n",
      "Iteration 9900 Objective: 2.0139335430365617\n",
      "Iteration 9910 Objective: 2.013710391234815\n",
      "Iteration 9920 Objective: 2.013488706209456\n",
      "Iteration 9930 Objective: 2.013268478319341\n",
      "Iteration 9940 Objective: 2.0130496979867414\n",
      "Iteration 9950 Objective: 2.012832355696855\n",
      "Iteration 9960 Objective: 2.012616441997437\n",
      "Iteration 9970 Objective: 2.0124019474983594\n",
      "Iteration 9980 Objective: 2.012188862871223\n",
      "Iteration 9990 Objective: 2.0119771788489484\n",
      "Iteration 10000 Objective: 2.011766886225346\n",
      "Iteration 10010 Objective: 2.011557975854766\n",
      "Iteration 10020 Objective: 2.011350438651668\n",
      "Iteration 10030 Objective: 2.0111442655902168\n",
      "Iteration 10040 Objective: 2.0109394477039104\n",
      "Iteration 10050 Objective: 2.0107359760851846\n",
      "Iteration 10060 Objective: 2.0105338418850387\n",
      "Iteration 10070 Objective: 2.0103330363126046\n",
      "Iteration 10080 Objective: 2.010133550634821\n",
      "Iteration 10090 Objective: 2.009935376176028\n",
      "Iteration 10100 Objective: 2.0097385043175757\n",
      "Iteration 10110 Objective: 2.009542926497494\n",
      "Iteration 10120 Objective: 2.009348634210048\n",
      "Iteration 10130 Objective: 2.0091556190054374\n",
      "Iteration 10140 Objective: 2.008963872489415\n",
      "Iteration 10150 Objective: 2.008773386322885\n",
      "Iteration 10160 Objective: 2.0085841522215677\n",
      "Iteration 10170 Objective: 2.008396161955644\n",
      "Iteration 10180 Objective: 2.008209407349392\n",
      "Iteration 10190 Objective: 2.0080238802808044\n",
      "Iteration 10200 Objective: 2.0078395726813136\n",
      "Iteration 10210 Objective: 2.007656476535308\n",
      "Iteration 10220 Objective: 2.0074745838799477\n",
      "Iteration 10230 Objective: 2.007293886804652\n",
      "Iteration 10240 Objective: 2.0071143774509035\n",
      "Iteration 10250 Objective: 2.0069360480117964\n",
      "Iteration 10260 Objective: 2.006758890731761\n",
      "Iteration 10270 Objective: 2.006582897906201\n",
      "Iteration 10280 Objective: 2.006408061881143\n",
      "Iteration 10290 Objective: 2.006234375052969\n",
      "Iteration 10300 Objective: 2.0060618298679747\n",
      "Iteration 10310 Objective: 2.0058904188221622\n",
      "Iteration 10320 Objective: 2.0057201344608373\n",
      "Iteration 10330 Objective: 2.0055509693783007\n",
      "Iteration 10340 Objective: 2.0053829162175383\n",
      "Iteration 10350 Objective: 2.005215967669879\n",
      "Iteration 10360 Objective: 2.005050116474713\n",
      "Iteration 10370 Objective: 2.004885355419143\n",
      "Iteration 10380 Objective: 2.00472167733768\n",
      "Iteration 10390 Objective: 2.004559075111947\n",
      "Iteration 10400 Objective: 2.0043975416703375\n",
      "Iteration 10410 Objective: 2.0042370699877337\n",
      "Iteration 10420 Objective: 2.0040776530852105\n",
      "Iteration 10430 Objective: 2.0039192840296796\n",
      "Iteration 10440 Objective: 2.0037619559336513\n",
      "Iteration 10450 Objective: 2.0036056619549116\n",
      "Iteration 10460 Objective: 2.003450395296204\n",
      "Iteration 10470 Objective: 2.0032961492049455\n",
      "Iteration 10480 Objective: 2.003142916972959\n",
      "Iteration 10490 Objective: 2.0029906919361435\n",
      "Iteration 10500 Objective: 2.0028394674742187\n",
      "Iteration 10510 Objective: 2.0026892370103977\n",
      "Iteration 10520 Objective: 2.0025399940111326\n",
      "Iteration 10530 Objective: 2.002391731985821\n",
      "Iteration 10540 Objective: 2.002244444486522\n",
      "Iteration 10550 Objective: 2.002098125107687\n",
      "Iteration 10560 Objective: 2.0019527674858506\n",
      "Iteration 10570 Objective: 2.0018083652993908\n",
      "Iteration 10580 Objective: 2.0016649122682284\n",
      "Iteration 10590 Objective: 2.001522402153575\n",
      "Iteration 10600 Objective: 2.0013808287576462\n",
      "Iteration 10610 Objective: 2.001240185923377\n",
      "Iteration 10620 Objective: 2.001100467534196\n",
      "Iteration 10630 Objective: 2.0009616675137267\n",
      "Iteration 10640 Objective: 2.0008237798255375\n",
      "Iteration 10650 Objective: 2.000686798472849\n",
      "Iteration 10660 Objective: 2.000550717498343\n",
      "Iteration 10670 Objective: 2.000415530983836\n",
      "Iteration 10680 Objective: 2.000281233050021\n",
      "Iteration 10690 Objective: 2.000147817856284\n",
      "Iteration 10700 Objective: 2.0000152796003703\n",
      "Iteration 10710 Objective: 1.9998836125181558\n",
      "Iteration 10720 Objective: 1.999752810883432\n",
      "Iteration 10730 Objective: 1.9996228690076\n",
      "Iteration 10740 Objective: 1.9994937812394826\n",
      "Iteration 10750 Objective: 1.999365541965021\n",
      "Iteration 10760 Objective: 1.9992381456070767\n",
      "Iteration 10770 Objective: 1.9991115866251505\n",
      "Iteration 10780 Objective: 1.9989858595151693\n",
      "Iteration 10790 Objective: 1.998860958809251\n",
      "Iteration 10800 Objective: 1.9987368790754412\n"
     ]
    },
    {
     "name": "stdout",
     "output_type": "stream",
     "text": [
      "Iteration 10810 Objective: 1.9986136149174887\n",
      "Iteration 10820 Objective: 1.9984911609746148\n",
      "Iteration 10830 Objective: 1.9983695119212788\n",
      "Iteration 10840 Objective: 1.9982486624669422\n",
      "Iteration 10850 Objective: 1.9981286073558528\n",
      "Iteration 10860 Objective: 1.9980093413667661\n",
      "Iteration 10870 Objective: 1.997890859312819\n",
      "Iteration 10880 Objective: 1.9977731560411842\n",
      "Iteration 10890 Objective: 1.9976562264329305\n",
      "Iteration 10900 Objective: 1.997540065402773\n",
      "Iteration 10910 Objective: 1.997424667898853\n",
      "Iteration 10920 Objective: 1.997310028902509\n",
      "Iteration 10930 Objective: 1.9971961434280785\n",
      "Iteration 10940 Objective: 1.9970830065226493\n",
      "Iteration 10950 Objective: 1.9969706132658926\n",
      "Iteration 10960 Objective: 1.9968589587698016\n",
      "Iteration 10970 Objective: 1.9967480381785074\n",
      "Iteration 10980 Objective: 1.9966378466680503\n",
      "Iteration 10990 Objective: 1.9965283794461808\n",
      "Iteration 11000 Objective: 1.996419631752168\n",
      "Iteration 11010 Objective: 1.9963115988565323\n",
      "Iteration 11020 Objective: 1.996204276060919\n",
      "Iteration 11030 Objective: 1.9960976586978436\n",
      "Iteration 11040 Objective: 1.9959917421305033\n",
      "Iteration 11050 Objective: 1.9958865217525534\n",
      "Iteration 11060 Objective: 1.9957819929879483\n",
      "Iteration 11070 Objective: 1.9956781512907238\n",
      "Iteration 11080 Objective: 1.9955749921447818\n",
      "Iteration 11090 Objective: 1.9954725110637042\n",
      "Iteration 11100 Objective: 1.9953707035905852\n",
      "Iteration 11110 Objective: 1.995269565297803\n",
      "Iteration 11120 Objective: 1.9951690917868241\n",
      "Iteration 11130 Objective: 1.995069278688049\n",
      "-0.01364599030798869\n",
      "30.19685292565412\n"
     ]
    }
   ],
   "source": [
    "# Question 3 Answer Code\n",
    "# Write code for you answer to this question in this box\n",
    "m = -0.4\n",
    "c = 80\n",
    "criterion = 0.0001\n",
    "i = 0\n",
    "\n",
    "y_o = m*x + c\n",
    "diff_o = ((y - y_o)**2).sum()\n",
    "while True:\n",
    "    m = ((y - c)*x).sum()/(x*x).sum()\n",
    "    c = (y-m*x).sum()/y.shape[0]\n",
    "    y_p = m*x + c\n",
    "    \n",
    "    if not i % 10:\n",
    "        diff = ((y - y_p)**2).sum()\n",
    "        print (\"Iteration\", i, \"Objective:\", diff)\n",
    "        if abs(diff - diff_o) < criterion:\n",
    "            break\n",
    "    diff_o = diff\n",
    "    i += 1\n",
    "    \n",
    "    \n",
    "print(m)\n",
    "print(c)"
   ]
  },
  {
   "cell_type": "code",
   "execution_count": 28,
   "metadata": {},
   "outputs": [
    {
     "data": {
      "text/plain": [
       "[<matplotlib.lines.Line2D at 0x1dd902fb208>]"
      ]
     },
     "execution_count": 28,
     "metadata": {},
     "output_type": "execute_result"
    },
    {
     "data": {
      "image/png": "[encoded data removed]",
      "text/plain": [
       "<Figure size 432x288 with 1 Axes>"
      ]
     },
     "metadata": {
      "needs_background": "light"
     },
     "output_type": "display_data"
    }
   ],
   "source": [
    "f_test = m*x_test + c\n",
    "plt.plot(x_test, f_test, 'b-')\n",
    "plt.plot(x, y, 'rx')"
   ]
  },
  {
   "cell_type": "markdown",
   "metadata": {
    "colab_type": "text",
    "id": "OISgq-DIIhXO"
   },
   "source": [
    "## Multiple Input Solution with Linear Algebra\n",
    "\n",
    "You've now seen how slow it can be to perform a coordinate ascent on a system. Another approach to solving the system (which is not always possible, particularly in *non-linear* systems) is to go direct to the minimum. To do this we need to introduce *linear algebra*. We will represent all our errors and functions in the form of linear algebra. \n",
    "\n",
    "As we mentioned above, linear algebra is just a shorthand for performing lots of multiplications and additions simultaneously. What does it have to do with our system then? Well the first thing to note is that the linear function we were trying to fit has the following form:\n",
    "$$\n",
    "f(x) = mx + c\n",
    "$$\n",
    "the classical form for a straight line. From a linear algebraic perspective we are looking for multiplications and additions. We are also looking to separate our parameters from our data. The data is the *givens* remember, in French the word is données literally translated means *givens* that's great, because we don't need to change the data, what we need to change are the parameters (or variables) of the model. In this function the data comes in through $x$, and the parameters are $m$ and $c$. \n",
    "\n",
    "What we'd like to create is a vector of parameters and a vector of data. Then we could represent the system with vectors that represent the data, and vectors that represent the parameters. \n",
    "\n",
    "We look to turn the multiplications and additions into a linear algebraic form, we have one multiplication ($m\\times c$) and one addition ($mx + c$). But we can turn this into a inner product by writing it in the following way,\n",
    "$$\n",
    "f(x) = m \\times x + c \\times 1,\n",
    "$$\n",
    "in other words we've extracted the unit value, from the offset, $c$. We can think of this unit value like an extra item of data, because it is always given to us, and it is always set to 1 (unlike regular data, which is likely to vary!). We can therefore write each input data location, $\\mathbf{x}$, as a vector\n",
    "$$\n",
    "\\mathbf{x} = \\begin{bmatrix} 1\\\\ x\\end{bmatrix}.\n",
    "$$\n",
    "\n",
    "Now we choose to also turn our parameters into a vector. The parameter vector will be defined to contain \n",
    "$$\n",
    "\\mathbf{w} = \\begin{bmatrix} c \\\\ m\\end{bmatrix}\n",
    "$$\n",
    "because if we now take the inner product between these to vectors we recover\n",
    "$$\n",
    "\\mathbf{x}\\cdot\\mathbf{w} = 1 \\times c + x \\times m = mx + c\n",
    "$$\n",
    "In `numpy` we can define this vector as follows"
   ]
  },
  {
   "cell_type": "code",
   "execution_count": 29,
   "metadata": {
    "colab": {},
    "colab_type": "code",
    "id": "rXPHgOf6IhXP"
   },
   "outputs": [],
   "source": [
    "# define the vector w\n",
    "w = np.zeros(shape=(2, 1))\n",
    "w[0] = m\n",
    "w[1] = c"
   ]
  },
  {
   "cell_type": "markdown",
   "metadata": {
    "colab_type": "text",
    "id": "51YC3QqzIhXR"
   },
   "source": [
    "This gives us the equivalence between original operation and an operation in vector space. Whilst the notation here isn't a lot shorter, the beauty is that we will be able to add as many features as we like and still keep the same representation. In general, we are now moving to a system where each of our predictions is given by an inner product. When we want to represent a linear product in linear algebra, we tend to do it with the transpose operation, so since we have $\\mathbf{a}\\cdot\\mathbf{b} = \\mathbf{a}^\\top\\mathbf{b}$ we can write\n",
    "$$\n",
    "f(\\mathbf{x}_i) = \\mathbf{x}_i^\\top\\mathbf{w}.\n",
    "$$\n",
    "Where we've assumed that each data point, $\\mathbf{x}_i$, is now written by appending a 1 onto the original vector\n",
    "$$\n",
    "\\mathbf{x}_i = \n",
    "\\begin{bmatrix} \n",
    "1 \\\\\n",
    "x_i\n",
    "\\end{bmatrix}\n",
    "$$\n",
    "\n",
    "## Design Matrix\n",
    "\n",
    "We can do this for the entire data set to form a [*design matrix*](http://en.wikipedia.org/wiki/Design_matrix) $\\mathbf{X}$,\n",
    "\n",
    "$$\\mathbf{X} = \\begin{bmatrix} \n",
    "\\mathbf{x}_1^\\top \\\\\\ \n",
    "\\mathbf{x}_2^\\top \\\\\\ \n",
    "\\vdots \\\\\\\n",
    "\\mathbf{x}_n^\\top\n",
    "\\end{bmatrix} = \\begin{bmatrix}\n",
    "1 & x_1 \\\\\\\n",
    "1 & x_2 \\\\\\\n",
    "\\vdots & \\vdots \\\\\\\n",
    "1 & x_n \n",
    "\\end{bmatrix},$$\n",
    "\n",
    "which in `numpy` can be done with the following commands:"
   ]
  },
  {
   "cell_type": "code",
   "execution_count": 30,
   "metadata": {
    "colab": {},
    "colab_type": "code",
    "id": "OMfAXungIhXR"
   },
   "outputs": [
    {
     "name": "stdout",
     "output_type": "stream",
     "text": [
      "[[1.000e+00 1.896e+03]\n",
      " [1.000e+00 1.900e+03]\n",
      " [1.000e+00 1.904e+03]\n",
      " [1.000e+00 1.908e+03]\n",
      " [1.000e+00 1.912e+03]\n",
      " [1.000e+00 1.920e+03]\n",
      " [1.000e+00 1.924e+03]\n",
      " [1.000e+00 1.928e+03]\n",
      " [1.000e+00 1.932e+03]\n",
      " [1.000e+00 1.936e+03]\n",
      " [1.000e+00 1.948e+03]\n",
      " [1.000e+00 1.952e+03]\n",
      " [1.000e+00 1.956e+03]\n",
      " [1.000e+00 1.960e+03]\n",
      " [1.000e+00 1.964e+03]\n",
      " [1.000e+00 1.968e+03]\n",
      " [1.000e+00 1.972e+03]\n",
      " [1.000e+00 1.976e+03]\n",
      " [1.000e+00 1.980e+03]\n",
      " [1.000e+00 1.984e+03]\n",
      " [1.000e+00 1.988e+03]\n",
      " [1.000e+00 1.992e+03]\n",
      " [1.000e+00 1.996e+03]\n",
      " [1.000e+00 2.000e+03]\n",
      " [1.000e+00 2.004e+03]\n",
      " [1.000e+00 2.008e+03]\n",
      " [1.000e+00 2.012e+03]]\n"
     ]
    }
   ],
   "source": [
    "X = np.hstack((np.ones_like(x), x))\n",
    "print(X)"
   ]
  },
  {
   "cell_type": "markdown",
   "metadata": {
    "colab_type": "text",
    "id": "7jXeDyxKIhXT"
   },
   "source": [
    "### Writing the Objective with Linear Algebra\n",
    "\n",
    "When we think of the objective function, we can think of it as the errors where the error is defined in a similar way to what it was in Legendre's day $y_i - f(\\mathbf{x}_i)$, in statistics these errors are also sometimes called [*residuals*](http://en.wikipedia.org/wiki/Errors_and_residuals_in_statistics). So we can think as the objective and the prediction function as two separate parts, first we have,\n",
    "$$\n",
    "E(\\mathbf{w}) = \\sum_{i=1}^n (y_i - f(\\mathbf{x}_i; \\mathbf{w}))^2,\n",
    "$$\n",
    "where we've made the function $f(\\cdot)$'s dependence on the parameters $\\mathbf{w}$ explicit in this equation. Then we have the definition of the function itself,\n",
    "$$\n",
    "f(\\mathbf{x}_i; \\mathbf{w}) = \\mathbf{x}_i^\\top \\mathbf{w}.\n",
    "$$\n",
    "Let's look again at these two equations and see if we can identify any inner products. The first equation is a sum of squares, which is promising. Any sum of squares can be represented by an inner product,\n",
    "$$\n",
    "a = \\sum_{i=1}^{k} b^2_i = \\mathbf{b}^\\top\\mathbf{b},\n",
    "$$\n",
    "so if we wish to represent $E(\\mathbf{w})$ in this way, all we need to do is convert the sum operator to an inner product. We can get a vector from that sum operator by placing both $y_i$ and $f(\\mathbf{x}_i; \\mathbf{w})$ into vectors, which we do by defining \n",
    "$$\n",
    "\\mathbf{y} = \\begin{bmatrix}y_1\\\\y_2\\\\ \\vdots \\\\ y_n\\end{bmatrix}\n",
    "$$\n",
    "and defining\n",
    "$$\n",
    "\\mathbf{f}(\\mathbf{X}; \\mathbf{w}) = \\begin{bmatrix}f(\\mathbf{x}_1; \\mathbf{w})\\\\f(\\mathbf{x}_2; \\mathbf{w})\\\\ \\vdots \\\\ f(\\mathbf{x}_n; \\mathbf{w})\\end{bmatrix}.\n",
    "$$\n",
    "The second of these is actually a vector-valued function. This term may appear intimidating, but the idea is straightforward. A vector valued function is simply a vector whose elements are themselves defined as *functions*, i.e. it is a vector of functions, rather than a vector of scalars. The idea is so straightforward, that we are going to ignore it for the moment, and barely use it in the derivation. But it will reappear later when we introduce *basis functions*. So we will, for the moment, ignore the dependence of $\\mathbf{f}$ on $\\mathbf{w}$ and $\\mathbf{X}$ and simply summarise it by a vector of numbers\n",
    "$$\n",
    "\\mathbf{f} = \\begin{bmatrix}f_1\\\\f_2\\\\ \\vdots \\\\ f_n\\end{bmatrix}.\n",
    "$$\n",
    "This allows us to write our objective in the folowing, linear algebraic form,\n",
    "$$\n",
    "E(\\mathbf{w}) = (\\mathbf{y} - \\mathbf{f})^\\top(\\mathbf{y} - \\mathbf{f})\n",
    "$$\n",
    "from the rules of inner products.\n",
    "\n",
    "But what of our matrix $\\mathbf{X}$ of input data? At this point, we need to dust off [*matrix-vector multiplication*](http://en.wikipedia.org/wiki/Matrix_multiplication). Matrix multiplication is simply a convenient way of performing many inner products together, and it's exactly what we need to summarise the operation\n",
    "$$\n",
    "f_i = \\mathbf{x}_i^\\top\\mathbf{w}.\n",
    "$$\n",
    "This operation tells us that each element of the vector $\\mathbf{f}$ (our vector valued function) is given by an inner product between $\\mathbf{x}_i$ and $\\mathbf{w}$. In other words it is a series of inner products. Let's look at the definition of matrix multiplication, it takes the form\n",
    "$$\n",
    "\\mathbf{c} = \\mathbf{B}\\mathbf{a}\n",
    "$$\n",
    "where $\\mathbf{c}$ might be a $k$ dimensional vector (which we can intepret as a $k\\times 1$ dimensional matrix), and $\\mathbf{B}$ is a $k\\times k$ dimensional matrix and $\\mathbf{a}$ is a $k$ dimensional vector ($k\\times 1$ dimensional matrix). \n",
    "\n",
    "The result of this multiplication is of the form\n",
    "$$\n",
    "\\begin{bmatrix}c_1\\\\c_2 \\\\ \\vdots \\\\ a_k\\end{bmatrix} = \n",
    "\\begin{bmatrix} b_{1,1} & b_{1, 2} & \\dots & b_{1, k} \\\\\n",
    "b_{2, 1} & b_{2, 2} & \\dots & b_{2, k} \\\\\n",
    "\\vdots & \\vdots & \\ddots & \\vdots \\\\\n",
    "b_{k, 1} & b_{k, 2} & \\dots & b_{k, k} \\end{bmatrix} \\begin{bmatrix}a_1\\\\a_2 \\\\ \\vdots\\\\ c_k\\end{bmatrix} = \\begin{bmatrix} b_{1, 1}a_1 + b_{1, 2}a_2 + \\dots + b_{1, k}a_k\\\\\n",
    "b_{2, 1}a_1 + b_{2, 2}a_2 + \\dots + b_{2, k}a_k \\\\ \n",
    "\\vdots\\\\ \n",
    "b_{k, 1}a_1 + b_{k, 2}a_2 + \\dots + b_{k, k}a_k\\end{bmatrix}\n",
    "$$\n",
    "so we see that each element of the result, $\\mathbf{a}$ is simply the inner product between each *row* of $\\mathbf{B}$ and the vector $\\mathbf{c}$. Because we have defined each element of $\\mathbf{f}$ to be given by the inner product between each *row* of the design matrix and the vector $\\mathbf{w}$ we now can write the full operation in one matrix multiplication,\n",
    "$$\n",
    "\\mathbf{f} = \\mathbf{X}\\mathbf{w}.\n",
    "$$"
   ]
  },
  {
   "cell_type": "code",
   "execution_count": 31,
   "metadata": {
    "colab": {},
    "colab_type": "code",
    "id": "Akc1Bu5iIhXU"
   },
   "outputs": [
    {
     "data": {
      "text/plain": [
       "array([[57253.21950105],\n",
       "       [57374.00691275],\n",
       "       [57494.79432446],\n",
       "       [57615.58173616],\n",
       "       [57736.36914786],\n",
       "       [57977.94397127],\n",
       "       [58098.73138297],\n",
       "       [58219.51879467],\n",
       "       [58340.30620637],\n",
       "       [58461.09361808],\n",
       "       [58823.45585318],\n",
       "       [58944.24326489],\n",
       "       [59065.03067659],\n",
       "       [59185.81808829],\n",
       "       [59306.60549999],\n",
       "       [59427.3929117 ],\n",
       "       [59548.1803234 ],\n",
       "       [59668.9677351 ],\n",
       "       [59789.7551468 ],\n",
       "       [59910.54255851],\n",
       "       [60031.32997021],\n",
       "       [60152.11738191],\n",
       "       [60272.90479362],\n",
       "       [60393.69220532],\n",
       "       [60514.47961702],\n",
       "       [60635.26702872],\n",
       "       [60756.05444043]])"
      ]
     },
     "execution_count": 31,
     "metadata": {},
     "output_type": "execute_result"
    }
   ],
   "source": [
    "f = np.dot(X, w) # np.dot does matrix multiplication in python\n",
    "f"
   ]
  },
  {
   "cell_type": "markdown",
   "metadata": {
    "colab_type": "text",
    "id": "QPi2FcqfIhXV"
   },
   "source": [
    "Combining this result with our objective function,\n",
    "$$\n",
    "E(\\mathbf{w}) = (\\mathbf{y} - \\mathbf{f})^\\top(\\mathbf{y} - \\mathbf{f})\n",
    "$$\n",
    "we find we have defined the *model* with two equations. One equation tells us the form of our predictive function and how it depends on its parameters, the other tells us the form of our objective function."
   ]
  },
  {
   "cell_type": "code",
   "execution_count": 32,
   "metadata": {
    "colab": {},
    "colab_type": "code",
    "id": "qnX5nc6OIhXW"
   },
   "outputs": [
    {
     "name": "stdout",
     "output_type": "stream",
     "text": [
      "Error function is: [[9.42427731e+10]]\n"
     ]
    }
   ],
   "source": [
    "resid = (y-f)\n",
    "E = np.dot(resid.T, resid) # matrix multiplication on a single vector is equivalent to a dot product.\n",
    "print(\"Error function is:\", E)"
   ]
  },
  {
   "cell_type": "markdown",
   "metadata": {
    "colab_type": "text",
    "id": "AUOMep0BIhXY"
   },
   "source": [
    "### Question 4\n",
    "\n",
    "The prediction for our movie recommender system had the form\n",
    "$$\n",
    "f_{i,j} = \\mathbf{u}_i^\\top \\mathbf{v}_j\n",
    "$$\n",
    "and the objective function was then\n",
    "$$\n",
    "E = \\sum_{i,j} s_{i,j}(y_{i,j} - f_{i, j})^2\n",
    "$$\n",
    "Try writing this down in matrix and vector form. How many of the terms can you do? For each variable and parameter carefully think about whether it should be represented as a matrix or vector. Do as many of the terms as you can. Use $\\LaTeX$ to give your answers and give the *dimensions* of any matrices you create."
   ]
  },
  {
   "cell_type": "markdown",
   "metadata": {
    "colab_type": "text",
    "id": "3KT-rXDCIhXY"
   },
   "source": [
    "#### Question 4 Answer\n",
    "\n",
    "Write your answer to the question in this box.\n",
    "\n",
    "$$\n",
    "    E(\\mathbf{w}) = (\\mathbf{y} -  \\mathbf{v}\\mathbf{u})^\\top(\\mathbf{y} - \\mathbf{v}\\mathbf{u})\n",
    "$$"
   ]
  },
  {
   "cell_type": "markdown",
   "metadata": {
    "colab_type": "text",
    "id": "x60Yae00IhXZ"
   },
   "source": [
    "## Objective Optimisation\n",
    "\n",
    "Our *model* has now been defined with two equations, the prediction function and the objective function. Next we will use multivariate calculus to define an *algorithm* to fit the model. The separation between model and algorithm is important and is often overlooked. Our model contains a function that shows how it will be used for prediction, and a function that describes the objective function we need to optimise to obtain a good set of parameters. \n",
    "\n",
    "The linear regression model we have described is still the same as the one we fitted above with a coordinate ascent algorithm. We have only played with the notation to obtain the same model in a matrix and vector notation. However, we will now fit this model with a different algorithm, one that is much faster. It is such a widely used algorithm that from the end user's perspective it doesn't even look like an algorithm, it just appears to be a single operation (or function). However, underneath the computer calls an algorithm to find the solution. Further, the algorithm we obtain is very widely used, and because of this it turns out to be highly optimised.\n",
    "\n",
    "Once again we are going to try and find the stationary points of our objective by finding the *stationary points*. However, the stationary points of a multivariate function, are a little bit more complext to find. Once again we need to find the point at which the derivative is zero, but now we need to use  *multivariate calculus* to find it. This involves learning a few additional rules of differentiation (that allow you to do the derivatives of a function with respect to  vector), but in the end it makes things quite a bit easier. We define vectorial derivatives as follows,\n",
    "$$\n",
    "\\frac{\\text{d}E(\\mathbf{w})}{\\text{d}\\mathbf{w}} = \\begin{bmatrix}\\frac{\\partial E(\\mathbf{w})}{\\partial w_1}\\\\\\frac{\\partial E(\\mathbf{w})}{\\partial w_2}\\end{bmatrix}.\n",
    "$$\n",
    "where $\\frac{\\partial E(\\mathbf{w})}{\\partial w_1}$ is the [partial derivative](http://en.wikipedia.org/wiki/Partial_derivative) of the error function with respect to $w_1$.\n",
    "\n",
    "Differentiation through multiplications and additions is relatively straightforward, and since linear algebra is just multiplication and addition, then its rules of diffentiation are quite straightforward too, but slightly more complex than regular derivatives. \n",
    "\n",
    "### Matrix Differentiation\n",
    "\n",
    "We will need two rules of differentiation. The first is diffentiation of an inner product. By remebering that the inner product is made up of multiplication and addition, we can hope that its derivative is quite straightforward, and so it proves to be. We can start by thinking about the definition of the inner product,\n",
    "$$\n",
    "\\mathbf{a}^\\top\\mathbf{z} = \\sum_{i} a_i z_i,\n",
    "$$\n",
    "which if we were to take the derivative with respect to $z_k$ would simply return the gradient of the one term in the sum for which the derivative was non zero, that of $a_k$, so we know that \n",
    "$$\n",
    "\\frac{\\text{d}}{\\text{d}z_k} \\mathbf{a}^\\top \\mathbf{z} = a_k\n",
    "$$\n",
    "and by our definition of multivariate derivatives we can simply stack all the partial derivatives of this form in a vector to obtain the result that\n",
    "$$\n",
    "\\frac{\\text{d}}{\\text{d}\\mathbf{z}} \\mathbf{a}^\\top \\mathbf{z} = \\mathbf{a}.\n",
    "$$\n",
    "The second rule that's required is differentiation of a 'matrix quadratic'. A scalar quadratic in $z$ with coefficient $c$ has the form $cz^2$. If $\\mathbf{z}$ is a $k\\times 1$ vector and $\\mathbf{C}$ is a $k \\times k$ *matrix* of coefficients then the matrix quadratic form is written as $\\mathbf{z}^\\top \\mathbf{C}\\mathbf{z}$, which is itself a *scalar* quantity, but it is a function of a *vector*. \n",
    "\n",
    "#### Matching Dimensions in Matrix Multiplications\n",
    "\n",
    "There's a trick for telling that it's a scalar result. When you are doing maths with matrices, it's always worth pausing to perform a quick sanity check on the dimensions. Matrix multplication only works when the dimensions match. To be precise, the 'inner' dimension of the matrix must match. What is the inner dimension. If we multiply two matrices $\\mathbf{A}$ and $\\mathbf{B}$, the first of which has $k$ rows and $\\ell$ columns and the second of which has $p$ rows and $q$ columns, then we can check whether the multiplication works by writing the dimensionalities next to each other,\n",
    "$$\n",
    "\\mathbf{A} \\mathbf{B} \\rightarrow (k \\times \\underbrace{\\ell)(p}_\\text{inner dimensions} \\times q) \\rightarrow (k\\times q).\n",
    "$$\n",
    "The inner dimensions are the two inside dimensions, $\\ell$ and $p$. The multiplication will only work if $\\ell=p$. The result of the multiplication will then be a $k\\times q$ matrix: this dimensionality comes from the 'outer dimensions'. Note that matrix multiplication is not [*commutative*](http://en.wikipedia.org/wiki/Commutative_property). And if you change the order of the multiplication, \n",
    "$$\n",
    "\\mathbf{B} \\mathbf{A} \\rightarrow (\\ell \\times \\underbrace{k)(q}_\\text{inner dimensions} \\times p) \\rightarrow (\\ell \\times p).\n",
    "$$\n",
    "firstly it may no longer even work, because now the condition is that $k=q$, and secondly the result could be of a different dimensionality. An exception is if the matrices are square matrices (e.g. same number of rows as columns) and they are both *symmetric*. A symmetric matrix is one for which $\\mathbf{A}=\\mathbf{A}^\\top$, or equivalently, $a_{i,j} = a_{j,i}$ for all $i$ and $j$.  \n",
    "\n",
    "You will need to get used to working with matrices and vectors applying and developing new machine learning techniques. You should have come across them before, but you may not have used them as extensively as we will now do in this course. You should get used to using this trick to check your work and ensure you know what the dimension of an output matrix should be. For our matrix quadratic form, it turns out that we can see it as a special type of inner product.\n",
    "$$\n",
    "\\mathbf{z}^\\top\\mathbf{C}\\mathbf{z} \\rightarrow (1\\times \\underbrace{k) (k}_\\text{inner dimensions}\\times k) (k\\times 1) \\rightarrow \\mathbf{b}^\\top\\mathbf{z}\n",
    "$$\n",
    "where $\\mathbf{b} = \\mathbf{C}\\mathbf{z}$ so therefore the result is a scalar,\n",
    "$$\n",
    "\\mathbf{b}^\\top\\mathbf{z} \\rightarrow (1\\times \\underbrace{k) (k}_\\text{inner dimensions}\\times 1) \\rightarrow (1\\times 1)\n",
    "$$\n",
    "where a $(1\\times 1)$ matrix is recognised as a scalar.\n",
    "\n",
    "This implies that we should be able to differentiate this form, and indeed the rule for its differentiation is slightly more complex than the inner product, but still quite simple,\n",
    "$$\n",
    "\\frac{\\text{d}}{\\text{d}\\mathbf{z}} \\mathbf{z}^\\top\\mathbf{C}\\mathbf{z}= \\mathbf{C}\\mathbf{z} + \\mathbf{C}^\\top \\mathbf{z}.\n",
    "$$\n",
    "Note that in the special case where $\\mathbf{C}$ is symmetric then we have $\\mathbf{C} = \\mathbf{C}^\\top$ and the derivative simplifies to \n",
    "$$\n",
    "\\frac{\\text{d}}{\\text{d}\\mathbf{z}} \\mathbf{z}^\\top\\mathbf{C}\\mathbf{z}= 2\\mathbf{C}\\mathbf{z}.\n",
    "$$\n",
    "### Differentiating the Objective\n",
    "\n",
    "First, we need to compute the full objective by substituting our prediction function into the objective function to obtain the objective in terms of $\\mathbf{w}$. Doing this we obtain\n",
    "$$\n",
    "E(\\mathbf{w})= (\\mathbf{y} - \\mathbf{X}\\mathbf{w})^\\top (\\mathbf{y} - \\mathbf{X}\\mathbf{w}).\n",
    "$$\n",
    "We now need to differentiate this *quadratic form* to find the minimum. We differentiate with respect to the *vector* $\\mathbf{w}$. But before we do that, we'll expand the brackets in the quadratic form to obtain a series of scalar terms. The rules for bracket expansion across the vectors are similar to those for the scalar system giving,\n",
    "$$\n",
    "(\\mathbf{a} - \\mathbf{b})^\\top (\\mathbf{c} - \\mathbf{d}) = \\mathbf{a}^\\top \\mathbf{c} - \\mathbf{a}^\\top \\mathbf{d} - \\mathbf{b}^\\top \\mathbf{c} + \\mathbf{b}^\\top \\mathbf{d}\n",
    "$$\n",
    "which substituting for $\\mathbf{a} = \\mathbf{c} = \\mathbf{y}$ and $\\mathbf{b}=\\mathbf{d} = \\mathbf{X}\\mathbf{w}$ gives\n",
    "$$\n",
    "E(\\mathbf{w})= \\mathbf{y}^\\top\\mathbf{y} - 2\\mathbf{y}^\\top\\mathbf{X}\\mathbf{w} + \\mathbf{w}^\\top\\mathbf{X}^\\top\\mathbf{X}\\mathbf{w}\n",
    "$$\n",
    "where we used the fact that $\\mathbf{y}^\\top\\mathbf{X}\\mathbf{w}= \\mathbf{w}^\\top\\mathbf{X}^\\top\\mathbf{y}$. Now we can use our rules of differentiation to compute the derivative of this form, which is,\n",
    "$$\n",
    "\\frac{\\text{d}}{\\text{d}\\mathbf{w}}E(\\mathbf{w})=- 2\\mathbf{X}^\\top \\mathbf{y} + 2\\mathbf{X}^\\top\\mathbf{X}\\mathbf{w},\n",
    "$$\n",
    "where we have exploited the fact that $\\mathbf{X}^\\top\\mathbf{X}$ is symmetric to obtain this result."
   ]
  },
  {
   "cell_type": "markdown",
   "metadata": {
    "colab_type": "text",
    "id": "o0-u_ZXnIhXa"
   },
   "source": [
    "### Question 5\n",
    "\n",
    "Use the equivalence between our vector and our matrix formulations of linear regression, alongside our definition of vector derivates, to match the gradients we've computed directly for $\\frac{\\text{d}E(c, m)}{\\text{d}c}$ and $\\frac{\\text{d}E(c, m)}{\\text{d}m}$ to those for $\\frac{\\text{d}E(\\mathbf{w})}{\\text{d}\\mathbf{w}}$."
   ]
  },
  {
   "cell_type": "markdown",
   "metadata": {
    "colab_type": "text",
    "id": "RLBuLKnbIhXa"
   },
   "source": [
    "#### Question 5 Answer\n",
    "\n",
    "Write your answer to the question in this box."
   ]
  },
  {
   "cell_type": "markdown",
   "metadata": {
    "colab_type": "text",
    "id": "dUnWyiPqIhXb"
   },
   "source": [
    "## Update Equation for Global Optimum\n",
    "\n",
    "Once again, we need to find the minimum of our objective function. Using our likelihood for multiple input regression we can now minimize for our parameter vector $\\mathbf{w}$. Firstly, just as in the single input case, we seek stationary points by finding parameter vectors that solve for when the gradients are zero,\n",
    "$$\n",
    "\\mathbf{0}=- 2\\mathbf{X}^\\top \\mathbf{y} + 2\\mathbf{X}^\\top\\mathbf{X}\\mathbf{w},\n",
    "$$\n",
    "where $\\mathbf{0}$ is a *vector* of zeros. Rearranging this equation we find the solution to be\n",
    "$$\n",
    "\\mathbf{w} = \\left[\\mathbf{X}^\\top \\mathbf{X}\\right]^{-1} \\mathbf{X}^\\top \\mathbf{y}\n",
    "$$ \n",
    "where $\\mathbf{A}^{-1}$ denotes [*matrix inverse*](http://en.wikipedia.org/wiki/Invertible_matrix).\n",
    "\n",
    "### Solving the Multivariate System\n",
    "\n",
    "The solution for $\\mathbf{w}$ is given in terms of a matrix inverse, but computation of a matrix inverse requires, in itself, an algorithm to resolve it. You'll know this if you had to invert, by hand, a $3\\times 3$ matrix in high school. From a numerical stability perspective, it is also best not to compute the matrix inverse directly, but rather to ask the computer to *solve* the  system of linear equations given by\n",
    "$$\\mathbf{X}^\\top\\mathbf{X} \\mathbf{w} = \\mathbf{X}^\\top\\mathbf{y}$$\n",
    "for $\\mathbf{w}$. This can be done in `numpy` using the command"
   ]
  },
  {
   "cell_type": "code",
   "execution_count": 20,
   "metadata": {
    "colab": {},
    "colab_type": "code",
    "id": "xBpczsxYIhXb"
   },
   "outputs": [],
   "source": [
    "np.linalg.solve?"
   ]
  },
  {
   "cell_type": "markdown",
   "metadata": {
    "colab_type": "text",
    "id": "T8Y8281mIhXd"
   },
   "source": [
    "so we can obtain the solution using"
   ]
  },
  {
   "cell_type": "code",
   "execution_count": 21,
   "metadata": {
    "colab": {},
    "colab_type": "code",
    "id": "gq_GPypVIhXe"
   },
   "outputs": [
    {
     "name": "stdout",
     "output_type": "stream",
     "text": [
      "[[ 2.88952457e+01]\n",
      " [-1.29806477e-02]]\n"
     ]
    }
   ],
   "source": [
    "w = np.linalg.solve(np.dot(X.T, X), np.dot(X.T, y))\n",
    "print(w)"
   ]
  },
  {
   "cell_type": "markdown",
   "metadata": {
    "colab_type": "text",
    "id": "S5uGj1FLIhXg"
   },
   "source": [
    "We can map it back to the liner regression and plot the fit as follows"
   ]
  },
  {
   "cell_type": "code",
   "execution_count": 22,
   "metadata": {
    "colab": {},
    "colab_type": "code",
    "id": "SNddBAQ5IhXh"
   },
   "outputs": [
    {
     "name": "stdout",
     "output_type": "stream",
     "text": [
      "[-0.01298065]\n",
      "[28.89524574]\n"
     ]
    },
    {
     "data": {
      "text/plain": [
       "[<matplotlib.lines.Line2D at 0x19a35b4b148>]"
      ]
     },
     "execution_count": 22,
     "metadata": {},
     "output_type": "execute_result"
    },
    {
     "data": {
      "image/png": "[encoded data removed]",
      "text/plain": [
       "<Figure size 432x288 with 1 Axes>"
      ]
     },
     "metadata": {
      "needs_background": "light"
     },
     "output_type": "display_data"
    }
   ],
   "source": [
    "m = w[1]; c=w[0]\n",
    "f_test = m*x_test + c\n",
    "print(m)\n",
    "print(c)\n",
    "plt.plot(x_test, f_test, 'b-')\n",
    "plt.plot(x, y, 'rx')"
   ]
  },
  {
   "cell_type": "markdown",
   "metadata": {
    "colab_type": "text",
    "id": "TXFosul6IhXj"
   },
   "source": [
    "## Multivariate Linear Regression\n",
    "\n",
    "A major advantage of the new system is that we can build a linear regression on a multivariate system. The matrix calculus didn't specify what the length of the vector $\\mathbf{x}$ should be, or equivalently the size of the design matrix. \n",
    "\n",
    "### Movie Body Count Data\n",
    "\n",
    "Let's load back in the movie body count data."
   ]
  },
  {
   "cell_type": "code",
   "execution_count": 23,
   "metadata": {
    "colab": {},
    "colab_type": "code",
    "id": "rixexyvHIhXj"
   },
   "outputs": [],
   "source": [
    "data = pods.datasets.movie_body_count()\n",
    "movies = data['Y']"
   ]
  },
  {
   "cell_type": "markdown",
   "metadata": {
    "colab_type": "text",
    "id": "t90jPQP_IhXl"
   },
   "source": [
    "Let's remind ourselves of the features we've been provided with."
   ]
  },
  {
   "cell_type": "code",
   "execution_count": 24,
   "metadata": {
    "colab": {},
    "colab_type": "code",
    "id": "OIbAICXIIhXm"
   },
   "outputs": [
    {
     "name": "stdout",
     "output_type": "stream",
     "text": [
      "Film, Year, Body_Count, MPAA_Rating, Genre, Director, Actors, Length_Minutes, IMDB_Rating\n"
     ]
    }
   ],
   "source": [
    "print(', '.join(movies.columns))"
   ]
  },
  {
   "cell_type": "markdown",
   "metadata": {
    "colab_type": "text",
    "id": "HLMN-RdcIhXn"
   },
   "source": [
    "Now we will build a design matrix based on the numeric features: year, Body_Count, Length_Minutes in an effort to predict the rating. We build the design matrix as follows:\n",
    "\n",
    "## Relation to Single Input System\n",
    "\n",
    "Bias as an additional feature."
   ]
  },
  {
   "cell_type": "code",
   "execution_count": 25,
   "metadata": {
    "colab": {},
    "colab_type": "code",
    "id": "6osWbNviIhXo"
   },
   "outputs": [],
   "source": [
    "select_features = ['Year', 'Body_Count', 'Length_Minutes']\n",
    "X = movies.loc[:, select_features]\n",
    "X['Eins'] = 1 # add a column for the offset\n",
    "y = movies[['IMDB_Rating']]"
   ]
  },
  {
   "cell_type": "markdown",
   "metadata": {
    "colab_type": "text",
    "id": "qVarrAsjIhXq"
   },
   "source": [
    "Now let's perform a linear regression. But this time, we will create a pandas data frame for the result so we can store it in a form that we can visualise easily."
   ]
  },
  {
   "cell_type": "code",
   "execution_count": 26,
   "metadata": {
    "colab": {},
    "colab_type": "code",
    "id": "0ZJDLjQ1IhXr"
   },
   "outputs": [
    {
     "data": {
      "text/html": [
       "<div>\n",
       "<style scoped>\n",
       "    .dataframe tbody tr th:only-of-type {\n",
       "        vertical-align: middle;\n",
       "    }\n",
       "\n",
       "    .dataframe tbody tr th {\n",
       "        vertical-align: top;\n",
       "    }\n",
       "\n",
       "    .dataframe thead th {\n",
       "        text-align: right;\n",
       "    }\n",
       "</style>\n",
       "<table border=\"1\" class=\"dataframe\">\n",
       "  <thead>\n",
       "    <tr style=\"text-align: right;\">\n",
       "      <th></th>\n",
       "      <th>regression_coefficient</th>\n",
       "    </tr>\n",
       "  </thead>\n",
       "  <tbody>\n",
       "    <tr>\n",
       "      <td>Year</td>\n",
       "      <td>-0.016280</td>\n",
       "    </tr>\n",
       "    <tr>\n",
       "      <td>Body_Count</td>\n",
       "      <td>-0.000995</td>\n",
       "    </tr>\n",
       "    <tr>\n",
       "      <td>Length_Minutes</td>\n",
       "      <td>0.025386</td>\n",
       "    </tr>\n",
       "    <tr>\n",
       "      <td>Eins</td>\n",
       "      <td>36.508363</td>\n",
       "    </tr>\n",
       "  </tbody>\n",
       "</table>\n",
       "</div>"
      ],
      "text/plain": [
       "                regression_coefficient\n",
       "Year                         -0.016280\n",
       "Body_Count                   -0.000995\n",
       "Length_Minutes                0.025386\n",
       "Eins                         36.508363"
      ]
     },
     "execution_count": 26,
     "metadata": {},
     "output_type": "execute_result"
    }
   ],
   "source": [
    "import pandas as pd\n",
    "w = pd.DataFrame(data=np.linalg.solve(np.dot(X.T, X), np.dot(X.T, y)),  # solve linear regression here\n",
    "                 index = X.columns,  # columns of X become rows of w\n",
    "                 columns=['regression_coefficient']) # the column of X is the value of regression coefficient\n",
    "w"
   ]
  },
  {
   "cell_type": "markdown",
   "metadata": {
    "colab_type": "text",
    "id": "WjS2Xkp4IhXt"
   },
   "source": [
    "We can check the residuals to see how good our estimates are"
   ]
  },
  {
   "cell_type": "code",
   "execution_count": 27,
   "metadata": {
    "colab": {},
    "colab_type": "code",
    "id": "don5UttIIhXu"
   },
   "outputs": [
    {
     "data": {
      "text/plain": [
       "array([[<matplotlib.axes._subplots.AxesSubplot object at 0x0000019A35FD6F88>]],\n",
       "      dtype=object)"
      ]
     },
     "execution_count": 27,
     "metadata": {},
     "output_type": "execute_result"
    },
    {
     "data": {
      "image/png": "[encoded data removed]",
      "text/plain": [
       "<Figure size 432x288 with 1 Axes>"
      ]
     },
     "metadata": {
      "needs_background": "light"
     },
     "output_type": "display_data"
    }
   ],
   "source": [
    "(y - np.dot(X, w)).hist()"
   ]
  },
  {
   "cell_type": "markdown",
   "metadata": {
    "colab_type": "text",
    "id": "zRccLfA0IhXw"
   },
   "source": [
    "Which shows our model *hasn't* yet done a great job of representation, because the spread of values is large. We can check what the rating is dominated by in terms of regression coefficients."
   ]
  },
  {
   "cell_type": "code",
   "execution_count": 28,
   "metadata": {
    "colab": {},
    "colab_type": "code",
    "id": "odqxyFYVIhXw"
   },
   "outputs": [
    {
     "data": {
      "text/html": [
       "<div>\n",
       "<style scoped>\n",
       "    .dataframe tbody tr th:only-of-type {\n",
       "        vertical-align: middle;\n",
       "    }\n",
       "\n",
       "    .dataframe tbody tr th {\n",
       "        vertical-align: top;\n",
       "    }\n",
       "\n",
       "    .dataframe thead th {\n",
       "        text-align: right;\n",
       "    }\n",
       "</style>\n",
       "<table border=\"1\" class=\"dataframe\">\n",
       "  <thead>\n",
       "    <tr style=\"text-align: right;\">\n",
       "      <th></th>\n",
       "      <th>regression_coefficient</th>\n",
       "    </tr>\n",
       "  </thead>\n",
       "  <tbody>\n",
       "    <tr>\n",
       "      <td>Year</td>\n",
       "      <td>-0.016280</td>\n",
       "    </tr>\n",
       "    <tr>\n",
       "      <td>Body_Count</td>\n",
       "      <td>-0.000995</td>\n",
       "    </tr>\n",
       "    <tr>\n",
       "      <td>Length_Minutes</td>\n",
       "      <td>0.025386</td>\n",
       "    </tr>\n",
       "    <tr>\n",
       "      <td>Eins</td>\n",
       "      <td>36.508363</td>\n",
       "    </tr>\n",
       "  </tbody>\n",
       "</table>\n",
       "</div>"
      ],
      "text/plain": [
       "                regression_coefficient\n",
       "Year                         -0.016280\n",
       "Body_Count                   -0.000995\n",
       "Length_Minutes                0.025386\n",
       "Eins                         36.508363"
      ]
     },
     "execution_count": 28,
     "metadata": {},
     "output_type": "execute_result"
    }
   ],
   "source": [
    "w"
   ]
  },
  {
   "cell_type": "markdown",
   "metadata": {
    "colab_type": "text",
    "id": "4Rk1egsAIhXy"
   },
   "source": [
    "Although we have to be a little careful about interpretation because our input values live on different scales, however it looks like we are dominated by the bias, with a small negative effect for later films (but bear in mind the years are large, so this effect is probably larger than it looks) and a positive effect for length. So it looks like long earlier films generally do better, but the residuals are so high that we probably haven't modelled the system very well."
   ]
  },
  {
   "cell_type": "code",
   "execution_count": 29,
   "metadata": {
    "colab": {},
    "colab_type": "code",
    "id": "RcsOawd6IhXz"
   },
   "outputs": [
    {
     "data": {
      "image/jpeg": "[encoded data removed]",
      "text/html": [
       "\n",
       "        <iframe\n",
       "            width=\"400\"\n",
       "            height=\"300\"\n",
       "            src=\"https://www.youtube.com/embed/ui-uNlFHoms\"\n",
       "            frameborder=\"0\"\n",
       "            allowfullscreen\n",
       "        ></iframe>\n",
       "        "
      ],
      "text/plain": [
       "<IPython.lib.display.YouTubeVideo at 0x19a3609f388>"
      ]
     },
     "execution_count": 29,
     "metadata": {},
     "output_type": "execute_result"
    }
   ],
   "source": [
    "from IPython.display import YouTubeVideo\n",
    "YouTubeVideo('ui-uNlFHoms')"
   ]
  },
  {
   "cell_type": "code",
   "execution_count": 30,
   "metadata": {
    "colab": {},
    "colab_type": "code",
    "id": "PoBkiT8nIhX0"
   },
   "outputs": [
    {
     "data": {
      "image/jpeg": "[encoded data removed]",
      "text/html": [
       "\n",
       "        <iframe\n",
       "            width=\"400\"\n",
       "            height=\"300\"\n",
       "            src=\"https://www.youtube.com/embed/78YNphT90-k\"\n",
       "            frameborder=\"0\"\n",
       "            allowfullscreen\n",
       "        ></iframe>\n",
       "        "
      ],
      "text/plain": [
       "<IPython.lib.display.YouTubeVideo at 0x19a360ef8c8>"
      ]
     },
     "execution_count": 30,
     "metadata": {},
     "output_type": "execute_result"
    }
   ],
   "source": [
    "from IPython.display import YouTubeVideo\n",
    "YouTubeVideo('78YNphT90-k')"
   ]
  },
  {
   "cell_type": "markdown",
   "metadata": {
    "colab_type": "text",
    "id": "_oFW65tJIhX3"
   },
   "source": [
    "## Solution with QR Decomposition\n",
    "\n",
    "Performing a solve instead of a matrix inverse is the more numerically stable approach, but we can do even better. A [QR-decomposition](http://en.wikipedia.org/wiki/QR_decomposition) of a matrix factorises it into a matrix which is an orthogonal matrix $\\mathbf{Q}$, so that $\\mathbf{Q}^\\top \\mathbf{Q} = \\mathbf{I}$. And a matrix which is upper triangular, $\\mathbf{R}$. \n",
    "$$\n",
    "\\mathbf{X}^\\top \\mathbf{X} \\boldsymbol{\\beta} = \\mathbf{X}^\\top \\mathbf{y}\n",
    "$$\n",
    "$$\n",
    "(\\mathbf{Q}\\mathbf{R})^\\top (\\mathbf{Q}\\mathbf{R})\\boldsymbol{\\beta} = (\\mathbf{Q}\\mathbf{R})^\\top \\mathbf{y}\n",
    "$$\n",
    "$$\n",
    "\\mathbf{R}^\\top (\\mathbf{Q}^\\top \\mathbf{Q}) \\mathbf{R} \\boldsymbol{\\beta} = \\mathbf{R}^\\top \\mathbf{Q}^\\top \\mathbf{y}\n",
    "$$\n",
    "$$\n",
    "\\mathbf{R}^\\top \\mathbf{R} \\boldsymbol{\\beta} = \\mathbf{R}^\\top \\mathbf{Q}^\\top \\mathbf{y}\n",
    "$$\n",
    "$$\n",
    "\\mathbf{R} \\boldsymbol{\\beta} = \\mathbf{Q}^\\top \\mathbf{y}\n",
    "$$\n",
    "This is a more numerically stable solution because it removes the need to compute $\\mathbf{X}^\\top\\mathbf{X}$ as an intermediate. Computing $\\mathbf{X}^\\top\\mathbf{X}$ is a bad idea because it involves squaring all the elements of $\\mathbf{X}$ and thereby potentially reducing the numerical precision with which we can represent the solution. Operating on $\\mathbf{X}$ directly preserves the numerical precision of the model.\n",
    "\n",
    "This can be more particularly seen when we begin to work with *basis functions* in the next week. Some systems that can be resolved with the QR decomposition can not be resolved by using solve directly."
   ]
  },
  {
   "cell_type": "code",
   "execution_count": 31,
   "metadata": {
    "colab": {},
    "colab_type": "code",
    "id": "3Lr3YPkbIhX4"
   },
   "outputs": [
    {
     "data": {
      "text/html": [
       "<div>\n",
       "<style scoped>\n",
       "    .dataframe tbody tr th:only-of-type {\n",
       "        vertical-align: middle;\n",
       "    }\n",
       "\n",
       "    .dataframe tbody tr th {\n",
       "        vertical-align: top;\n",
       "    }\n",
       "\n",
       "    .dataframe thead th {\n",
       "        text-align: right;\n",
       "    }\n",
       "</style>\n",
       "<table border=\"1\" class=\"dataframe\">\n",
       "  <thead>\n",
       "    <tr style=\"text-align: right;\">\n",
       "      <th></th>\n",
       "      <th>0</th>\n",
       "    </tr>\n",
       "  </thead>\n",
       "  <tbody>\n",
       "    <tr>\n",
       "      <td>Year</td>\n",
       "      <td>-0.016280</td>\n",
       "    </tr>\n",
       "    <tr>\n",
       "      <td>Body_Count</td>\n",
       "      <td>-0.000995</td>\n",
       "    </tr>\n",
       "    <tr>\n",
       "      <td>Length_Minutes</td>\n",
       "      <td>0.025386</td>\n",
       "    </tr>\n",
       "    <tr>\n",
       "      <td>Eins</td>\n",
       "      <td>36.508363</td>\n",
       "    </tr>\n",
       "  </tbody>\n",
       "</table>\n",
       "</div>"
      ],
      "text/plain": [
       "                        0\n",
       "Year            -0.016280\n",
       "Body_Count      -0.000995\n",
       "Length_Minutes   0.025386\n",
       "Eins            36.508363"
      ]
     },
     "execution_count": 31,
     "metadata": {},
     "output_type": "execute_result"
    }
   ],
   "source": [
    "import scipy as sp\n",
    "import scipy.linalg\n",
    "Q, R = np.linalg.qr(X)\n",
    "w = sp.linalg.solve_triangular(R, np.dot(Q.T, y)) \n",
    "w = pd.DataFrame(w, index=X.columns)\n",
    "w"
   ]
  }
 ],
 "metadata": {
  "colab": {
   "name": "Lab 3 - Linear Regression.ipynb",
   "provenance": []
  },
  "kernelspec": {
   "display_name": "Python 3",
   "language": "python",
   "name": "python3"
  },
  "language_info": {
   "codemirror_mode": {
    "name": "ipython",
    "version": 3
   },
   "file_extension": ".py",
   "mimetype": "text/x-python",
   "name": "python",
   "nbconvert_exporter": "python",
   "pygments_lexer": "ipython3",
   "version": "3.7.3"
  }
 },
 "nbformat": 4,
 "nbformat_minor": 1
}
