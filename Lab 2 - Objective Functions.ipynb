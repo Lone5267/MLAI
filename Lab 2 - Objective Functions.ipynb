{
 "cells": [
  {
   "cell_type": "markdown",
   "metadata": {
    "colab_type": "text",
    "id": "YkoUmU9C4TBq"
   },
   "source": [
    "# Objective Functions: A Simple Example with Matrix Factorisation.\n",
    "\n",
    "### Modified by Mauricio A Álvarez, October 2018, 2019\n",
    "\n",
    "### 6th October 2015 Neil D. Lawrence\n",
    "\n",
    "In last week's class we saw how we could load in a data set to pandas and use it for some simple data processing. We computed various probabilities on the data and I encouraged you to think about what sort of probabilities you need for prediction. This week we are going to take a slightly different tack. \n",
    "\n",
    "Broadly speaking there are two dominating approaches to machine learning problems. We started to consider the first approach last week: constructing models based on defining the relationship between variables using probabilities. This week we will consider the second approach: which involves defining an *objective function* and optimizing it. \n",
    "\n",
    "What do we mean by an objective function? An objective function could be an *error function*, a *cost function* or a *benefit* function. In evolutionary computing they are called *fitness* functions. But the idea is always the same. We write down a mathematical equation which is then optimized to do the learning. The equation should be a function of the *data* and our model *parameters*. We have a choice when optimizing, either minimize or maximize. To avoid confusion, in the optimization field, we always choose to minimize the function. If we have a function that we would like to maximize, we simply choose to minimize the negative of that function. \n",
    "\n",
    "So for this lab session, we are going to ignore probabilities, but don't worry, they will return! \n",
    "\n",
    "This week we are going to try and build a simple movie recommender system using an objective function. To do this, the first thing I'd like you to do is to install some software we've written for sharing information across google documents.\n",
    "\n",
    "## Open Data Science Software\n",
    "\n",
    "In Sheffield we have written a suite of software tools for 'Open Data Science'. Open data science is an approach to sharing code, models and data that should make it easier for companies, health professionals and scientists to gain access to data science techniques. For some background on open data science you can read [this blog post](http://inverseprobability.com/2014/07/01/open-data-science/). The first thing we will do this week is to download that suite of software. \n",
    "\n",
    "The software can be installed using\n",
    "\n",
    "```python\n",
    "pip install pods\n",
    "```\n",
    "\n",
    "from the command prompt where you can access your python installation.\n",
    "\n",
    "\n",
    "## Download the MovieLens 100k Data\n",
    "\n",
    "We are going to download the [MovieLens 100k](http://files.grouplens.org/datasets/movielens/ml-latest-small-README.html) Data. This is a public dataset that contains 100,000 ratings and 3,600 tag applications applied to 9,000 movies by 600 users. When you use a data set that someone has prepared you should always reference the data source to acknowledge the work that's been placed in. This particular dataset was collected by the [Grouplens Research group](https://grouplens.org/),  at the University of Minnesota. For example, if you were to use this dataset for writing a paper, the authors ask you that you acknowledge their work by citing the following paper:\n",
    "\n",
    "F. Maxwell Harper and Joseph A. Konstan. 2015. The MovieLens Datasets: History and Context. ACM Transactions on Interactive Intelligent Systems (TiiS) 5 (4):1-19 [https://doi.org/10.1145/2827872](https://doi.org/10.1145/2827872)"
   ]
  },
  {
   "cell_type": "code",
   "execution_count": 1,
   "metadata": {
    "colab": {
     "base_uri": "https://localhost:8080/",
     "height": 208
    },
    "colab_type": "code",
    "executionInfo": {
     "elapsed": 5716,
     "status": "ok",
     "timestamp": 1571139794691,
     "user": {
      "displayName": "Ming Liu",
      "photoUrl": "https://lh3.googleusercontent.com/a-/AAuE7mD4AkcM4sv1rI1zSX3xC_6PkLOatOKjqPP4Ack=s64",
      "userId": "11875485666463178947"
     },
     "user_tz": -60
    },
    "id": "I7aPfuCiOoct",
    "outputId": "e068db42-6824-4ab2-8101-4048a69ff0c1"
   },
   "outputs": [],
   "source": [
    "# !pip install pods"
   ]
  },
  {
   "cell_type": "code",
   "execution_count": 2,
   "metadata": {
    "colab": {
     "base_uri": "https://localhost:8080/",
     "height": 51
    },
    "colab_type": "code",
    "executionInfo": {
     "elapsed": 6640,
     "status": "ok",
     "timestamp": 1571139795642,
     "user": {
      "displayName": "Ming Liu",
      "photoUrl": "https://lh3.googleusercontent.com/a-/AAuE7mD4AkcM4sv1rI1zSX3xC_6PkLOatOKjqPP4Ack=s64",
      "userId": "11875485666463178947"
     },
     "user_tz": -60
    },
    "id": "YInSsFf84TBr",
    "outputId": "4d110242-e25d-43e7-a636-104686bf9799",
    "scrolled": true
   },
   "outputs": [],
   "source": [
    "import pods\n",
    "import zipfile\n",
    "import sys\n",
    "import pandas as pd\n",
    "import numpy as np\n",
    "import matplotlib.pyplot as plt\n",
    "\n",
    "%matplotlib inline\n",
    "\n",
    "# pods.util.download_url(\"http://files.grouplens.org/datasets/movielens/ml-latest-small.zip\")\n",
    "# zip_console = zipfile.ZipFile('ml-latest-small.zip', 'r')\n",
    "# for name in zip_console.namelist():\n",
    "#            zip_console.extract(name, './')"
   ]
  },
  {
   "cell_type": "markdown",
   "metadata": {
    "colab_type": "text",
    "id": "2gPogzqX4TBv"
   },
   "source": [
    "### Question 1\n",
    "\n",
    "Data ethics. If you find data available on the internet, can you simply use it without consequence? If you are given data by a fellow researcher can you publish that data on line? "
   ]
  },
  {
   "cell_type": "markdown",
   "metadata": {
    "colab_type": "text",
    "id": "WJ0YBTHi4TBw"
   },
   "source": [
    "#### Question 1 Answer\n",
    "\n",
    "Write your answer to the question in this box.\n",
    "\n",
    "It depends on the licensing terms of the data. However, if the data has no licensing terms but it is related to a person in someway (e.g. health data)then there may be consequences, depending on local laws.\n",
    "\n",
    "In general no, you would certainly have to get their permission. Be very careful about data containing any personal information. Even data that is anonymized can be \"de-anonymized\"."
   ]
  },
  {
   "cell_type": "markdown",
   "metadata": {
    "colab_type": "text",
    "id": "t0ILOgQs4TBx"
   },
   "source": [
    "## Recommender Systems\n",
    "\n",
    "A recommender system aims to make suggestions for items (films, books, other commercial products) given what it knows about users' tastes. The recommendation engine needs to represent the *taste* of all the users and the *characteristics* of each object. \n",
    "\n",
    "A common way for organizing objects is to place related objects spatially close together. For example in a library we try and put books that are on related topics near to each other on the shelves. One system for doing this is known as [Dewey Decimal Classification](http://en.wikipedia.org/wiki/Dewey_Decimal_Classification). In the Dewey Decimal Classification system (which dates from 1876) each subject is given a number (in fact it's a decimal number). For example, the field of Natural Sciences and Mathematics is given numbers which start with 500. Subjects based on Computer Science are given numbers which start 004 and works on the 'mathematical principles' of Computer science are given the series 004.0151 (which we might store as 4.0151 on a Computer). Whilst it's a classification system, the books in the library are typically laid out in the same order as the numbers, so we might expect that neighbouring numbers represent books that are related in subject. That seems to be exactly what we want when also representing films. Could we somehow represent each film's subject according to a number? In a similar way we could then imagine representing users with a list of numbers that represent things that each user is interested in.\n",
    "\n",
    "Actually a one dimensional representation of a subject can be very awkward. To see this, let's have a look at the Dewey Decimal Classification numbers for the 900s, which is listed as 'History and Geography'. We will focus on subjects in the 940s which can be found in this list from [Wikipedia](https://en.wikipedia.org/wiki/List_of_Dewey_Decimal_classes#Class_900_%E2%80%93_History_&_geography). Whilst the ordering for places is somewhat sensible, it is also rather arbitrary. In the 940s we have Europe listed from 940-949, Asia listed from 950-959 and Africa listed from 960-969. Whilst it's true that Asia borders Europe, Africa is also very close, and the history of the Roman Empire spreads into [Carthage](http://en.wikipedia.org/wiki/Carthage) and later on Egypt. This image from Wikipedia shows a map of the Cathaginian Empire which fell after fighting with Rome. \n",
    "\n",
    "\n",
    "<a title=\"By Javierfv1212 [Public domain], from Wikimedia Commons\" href=\"https://commons.wikimedia.org/wiki/File:Carthaginianempire.PNG\"><img width=\"512\" alt=\"Carthaginianempire\" src=\"https://upload.wikimedia.org/wikipedia/commons/thumb/9/9b/Carthaginianempire.PNG/512px-Carthaginianempire.PNG\"></a>\n",
    "\n",
    "We now need to make a decision about whether Roman Histories are European or African, ideally we'd like them to be somewhere between the two, but we can't place them there in the Dewey Decimal system because between Europe and Africa is Asia, which has less to do with the Roman Empire than either Europe or Africa. Of course the fact that we've used a map provides a clue as to what to do next. Libraries are actually laid out on floors, so what if we were to use the spatial lay out to organise the sujbects of the books in two dimensions. Books on Geography could be laid out according to where in the world they are referring to. \n",
    "\n",
    "Such complexities are very hard to encapsulate in one number, but inspired by the map examples we can start considering how we might lay out films in two dimensions. Similarly, we can consider laying out a map of people's interests. If the two maps correspond to one another, the map of people could reflect where they might want to live in 'subject space'. We can think of representing people's tastes as where they might best like to sit in the library to access easily the books they are most interested in.\n",
    "\n",
    "\n",
    "## Inner Products for Representing Similarity\n",
    "\n",
    "Ideas like the above are good for gaining intuitions about what we might want, but the one of the skills of data science is representing those ideas mathematically. Mathematical abstraction of a problem is one of the key ways in which we've been able to progress as a society. Understanding planetary motions, as well as those of the smallest molecule (to quote Laplace's [Philosophical Essay on Probabilities](http://books.google.co.uk/books?id=1YQPAAAAQAAJ&printsec=frontcover&source=gbs_ge_summary_r&cad=0#v=onepage&q&f=false)) needed to be done mathematically. The right mathematical model in machine learning can be slightly more elusive, because constructing it is a two stage process. \n",
    "\n",
    "1. We have to determine the right intuition for the system we want to represent. Notions such as 'subject' and 'interest' are not mathematically well defined, and even when we create a new interpretation of what they might mean, each interpretation may have its own weaknesses. \n",
    "\n",
    "2. Once we have our interpretation we can attempt to mathematically formalize it. In our library interpretation, that's what we need to do next. \n",
    "\n",
    "### The Library on an Infinite Plane\n",
    "\n",
    "Let's imagine a library which stores all the items  we are interested in, not just books, but films and shopping items too. Such a library is likely to be very large, so we'll create it on an infinite two dimensional plane. This means we can use all the real numbers to represent the location of each item on the plane. For a two dimensional plane, we need to store the locations in a vector of numbers: we can decide that the $j$th item's location in the library is given by \n",
    "$$\n",
    "\\mathbf{v}_j = \\begin{bmatrix} v_{j,1} \\\\ v_{j,2}\\end{bmatrix},\n",
    "$$\n",
    "where $v_{j,1}$ represents the $j$th item's location in the East-West direction (or the $x$-axis) and $v_{j,2}$ represents the $j$th item's location in the North-South direction (or the $y$-axis). Now we need to specify the location where each user sits so that all the items that interest them are nearby: we can also represent the $i$th user's location with a vector \n",
    "$$\n",
    "\\mathbf{u}_i = \\begin{bmatrix} u_{i,1} \\\\ u_{i,2}\\end{bmatrix}.\n",
    "$$\n",
    "Finally, we need some way of recording a given user's affinity for a given item. This affinity might be the rating that the user gives the film. We can use $y_{i,j}$ to represent user $i$'s affinity for item $j$. \n",
    "\n",
    "For our film example we might imagine wanting to order films in a few ways. We could imagine organising films in the North-South direction as to how romantic they are. We could place the more romantic films further North and the less romantic films further South. For the East-West direction we could imagine ordering them according to how historic they are: we can imagine placing science fiction films to the East and historical drama to the West. In this case, fans of historical romances would be based in the North-West location, whilst fans of Science Fiction Action films might be located in the South-East (if we assume that 'Action' is the opposite of 'Romance', which is not necessarily the case). How do we lay out all these films? Have we got the right axes? In machine learning the answer is to 'let the data speak'. Use the data to try and obtain such a lay out. To do this we first need to obtain the data."
   ]
  },
  {
   "cell_type": "markdown",
   "metadata": {
    "colab_type": "text",
    "id": "1Roc8lXo4TBy"
   },
   "source": [
    "## Obtaining the Data\n",
    "\n",
    "As mentioned before, the MovieLens dataset that we'll use has 100,000 ratings to 9,000 movies by 600 users. For now, we will only work with a subset of the dataset. In particular, we will randomly chose a particular number of users and extract the movies and ratings that the users gave to those movies. Read the code below and understand what it is doing.\n",
    "\n",
    "**Before you run the code**, notice that `YourStudentID` in the first line is a variable that will specify the seed for the random number generator that will select a particular set of `nUsersInExample` users. Change the number that has been assigned by default to `YourStudentID` to the last three digits of your UCard number. All of you will have a different subset of users."
   ]
  },
  {
   "cell_type": "code",
   "execution_count": 3,
   "metadata": {
    "colab": {},
    "colab_type": "code",
    "id": "icpMRx7q4TBz",
    "scrolled": true
   },
   "outputs": [],
   "source": [
    "YourStudentID = 713  # Include here the last three digits of your UCard number\n",
    "nUsersInExample = 10 # The maximum number of Users we're going to analyse at one time\n",
    "\n",
    "ratings = pd.read_csv(\"./ml-latest-small/ratings.csv\") \n",
    "\"\"\"\n",
    "ratings is a DataFrame with four columns: userId, movieId, rating and tags. We\n",
    "first want to identify how many unique users there are. We can use the unique \n",
    "method in pandas\n",
    "\"\"\"\n",
    "indexes_unique_users = ratings['userId'].unique()\n",
    "n_users = indexes_unique_users.shape[0]\n",
    "\"\"\" \n",
    "We randomly select 'nUsers' users with their ratings. We first fix the seed\n",
    "of the random generator to make sure that we always get the same 'nUsers'\n",
    "\"\"\"\n",
    "np.random.seed(YourStudentID)\n",
    "indexes_users = np.random.permutation(n_users)\n",
    "my_batch_users = indexes_users[0:nUsersInExample]\n",
    "\"\"\"\n",
    "We will use now the list of 'my_batch_users' to create a matrix Y. \n",
    "\"\"\"\n",
    "# We need to make a list of the movies that these users have watched\n",
    "list_movies_each_user = [[] for _ in range(nUsersInExample)]\n",
    "list_ratings_each_user = [[] for _ in range(nUsersInExample)]\n",
    "# Movies\n",
    "list_movies = ratings['movieId'][ratings['userId'] == my_batch_users[0]].values\n",
    "list_movies_each_user[0] = list_movies                    \n",
    "# Ratings                      \n",
    "list_ratings = ratings['rating'][ratings['userId'] == my_batch_users[0]].values\n",
    "list_ratings_each_user[0] = list_ratings\n",
    "# Users\n",
    "n_each_user = list_movies.shape[0]\n",
    "list_users = my_batch_users[0]*np.ones((1, n_each_user))\n",
    "\n",
    "for i in range(1, nUsersInExample):\n",
    "    # Movies\n",
    "    local_list_per_user_movies = ratings['movieId'][ratings['userId'] == my_batch_users[i]].values\n",
    "    list_movies_each_user[i] = local_list_per_user_movies\n",
    "    list_movies = np.append(list_movies,local_list_per_user_movies)\n",
    "    # Ratings                                 \n",
    "    local_list_per_user_ratings = ratings['rating'][ratings['userId'] == my_batch_users[i]].values\n",
    "    list_ratings_each_user[i] = local_list_per_user_ratings\n",
    "    list_ratings = np.append(list_ratings, local_list_per_user_ratings)  \n",
    "    # Users                                   \n",
    "    n_each_user = local_list_per_user_movies.shape[0]                                                                               \n",
    "    local_rep_user =  my_batch_users[i]*np.ones((1, n_each_user))    \n",
    "    list_users = np.append(list_users, local_rep_user)\n",
    "\n",
    "# Let us first see how many unique movies have been rated\n",
    "indexes_unique_movies = np.unique(list_movies)\n",
    "n_movies = indexes_unique_movies.shape[0]\n",
    "# As it is expected no all users have rated all movies. We will build a matrix Y \n",
    "# with NaN inputs and fill according to the data for each user \n",
    "temp = np.empty((n_movies,nUsersInExample,))\n",
    "temp[:] = np.nan\n",
    "Y_with_NaNs = pd.DataFrame(temp)\n",
    "for i in range(nUsersInExample):\n",
    "    local_movies = list_movies_each_user[i]\n",
    "    ixs = np.in1d(indexes_unique_movies, local_movies)\n",
    "    Y_with_NaNs.loc[ixs, i] = list_ratings_each_user[i]\n",
    "\n",
    "Y_with_NaNs.index = indexes_unique_movies.tolist()\n",
    "Y_with_NaNs.columns = my_batch_users.tolist()"
   ]
  },
  {
   "cell_type": "markdown",
   "metadata": {
    "colab_type": "text",
    "id": "lW6-L84D4TB1"
   },
   "source": [
    "### Question 2\n",
    "\n",
    "Have a look at the matrix `Y_with_NaNs`. The movies data is now in a data frame which contains one column for each user rating the movie. There are some entries that contain 'NaN'. What does the 'NaN' mean in this context?"
   ]
  },
  {
   "cell_type": "markdown",
   "metadata": {
    "colab_type": "text",
    "id": "d9vSndKb4TB2"
   },
   "source": [
    "#### Answer Question 2\n",
    "\n",
    "Write your answer to the question in this box.\n",
    "\n",
    "For this film, this guy did not rate it.\n",
    "\n",
    "In this context, NaN represents a movie that has not been given a rating by the user of that column."
   ]
  },
  {
   "cell_type": "markdown",
   "metadata": {
    "colab_type": "text",
    "id": "LbCdFeHn4TB3"
   },
   "source": [
    "Now we will convert our data structure into a form that is appropriate for processing. We will convert the `Y_with_NaNs` dataframe into a new dataframe which contains the user, the movie, and the rating using the following code"
   ]
  },
  {
   "cell_type": "code",
   "execution_count": 4,
   "metadata": {
    "colab": {},
    "colab_type": "code",
    "id": "CXDurQH64TB4",
    "scrolled": true
   },
   "outputs": [],
   "source": [
    "# equals list_ratings\n",
    "p_list_ratings = np.concatenate(list_ratings_each_user).ravel()\n",
    "p_list_ratings_original = p_list_ratings.tolist()\n",
    "mean_ratings_train = np.mean(p_list_ratings)\n",
    "p_list_ratings =  p_list_ratings - mean_ratings_train # remove the mean\n",
    "# equals list_movies\n",
    "p_list_movies = np.concatenate(list_movies_each_user).ravel().tolist()\n",
    "p_list_users = list_users.tolist()\n",
    "Y = pd.DataFrame({'users': p_list_users, 'movies': p_list_movies, 'ratingsorig': p_list_ratings_original,'ratings':p_list_ratings.tolist()})"
   ]
  },
  {
   "cell_type": "markdown",
   "metadata": {
    "colab_type": "text",
    "id": "hr99rfLJ4TB7"
   },
   "source": [
    "### Question 3\n",
    "\n",
    "The dataframes `Y_with_NaNs` and `Y` contain the same information but organised in a different way. Explain what is the difference. We have also included two columns for ratings in dataframe `Y`, `ratingsorig` and `ratings`. Explain\n",
    "the difference. "
   ]
  },
  {
   "cell_type": "markdown",
   "metadata": {
    "colab_type": "text",
    "id": "NACndsH94TB8"
   },
   "source": [
    "#### Question 3 Answer\n",
    "\n",
    "Write your answer to the question in this box.\n",
    "\n",
    "Y_with_NaNs is based on all rated movies, while Y is based on all ratings which come from these example users. Y_with_NaNs is sparse.\n",
    "\n",
    "\n",
    "The dataframe Y_with_NaNs is organised as a matrix, with rows being movies and columns being users. The dataframe Y takes this information and makes each entry in Y_with_NaNs it's own row with the first column being the user, the next the movie, the next the original rating and the last the transformed rating. In mathematical terms, Y_with_NaNs is a matrix with the ijth entry representing the rating X of the ith movie for the jth user and the Y is a dataframe with columns, j i X. Thus Y_with_NaNs is movie-orientation while Y is user-orientation.  \n",
    "\n",
    "The ratingsorig is the raw rating given by a user, ratings is the original rating with the mean rating subtracted."
   ]
  },
  {
   "cell_type": "markdown",
   "metadata": {
    "colab_type": "text",
    "id": "XZMXugJr4TB8"
   },
   "source": [
    "## Measuring Similarity\n",
    "\n",
    "We now need a measure for determining the similarity between the item and the user: how close the user is sitting to the item in the room if you like. We are going to use the inner product between the vector representing the item and the vector representing the user. \n",
    "\n",
    "An inner product (or [dot product](http://en.wikipedia.org/wiki/Dot_product)) between two vectors $\\mathbf{a}$ and $\\mathbf{b}$ is written as $\\mathbf{a}\\cdot\\mathbf{b}$. Or in vector notation we sometimes write it as $\\mathbf{a}^\\top\\mathbf{b}$. An inner product is simply the sum of the products of each element of the vector,\n",
    "$$\n",
    "\\mathbf{a}^\\top\\mathbf{b} = \\sum_{i} a_i b_i\n",
    "$$\n",
    "The inner product can be seen as a measure of similarity. The inner product gives us the cosine of the angle between the two vectors multiplied by their length. The smaller the angle between two vectors the larger the inner product. \n",
    "$$\n",
    "\\mathbf{a}^\\top\\mathbf{b} = |\\mathbf{a}||\\mathbf{b}| \\cos(\\theta)\n",
    "$$\n",
    "where $\\theta$ is the angle between two vectors and $|\\mathbf{a}|$ and $|\\mathbf{b}|$ are the respective lengths of the two vectors.\n",
    "\n",
    "Since we want each user to be sitting near each item, then we want the inner product to be large for any two items which are rated highly by that user. We can do this by trying to force the inner product $\\mathbf{u}_i^\\top\\mathbf{v}_j$ to be similar to the rating given by the user, $y_{i,j}$. To ensure this we will use a least squares objective function for all user ratings."
   ]
  },
  {
   "cell_type": "markdown",
   "metadata": {
    "colab_type": "text",
    "id": "5FZmUqyV4TB9"
   },
   "source": [
    "## Objective Function\n",
    "\n",
    "The error function (or objective function, or cost function) we will choose is known as 'sum of squares', we will aim to minimize the sum of squared squared error between the inner product of $\\mathbf{u}_i$ and $\\mathbf{v}_i$ and the observed score for the user/item pairing, given by $y_{i, j}$. \n",
    "\n",
    "The total objective function can be written as\n",
    "$$\n",
    "E(\\mathbf{U}, \\mathbf{V}) = \\sum_{i,j} s_{i,j} (y_{i,j} - \\mathbf{u}_i^\\top \\mathbf{v}_j)^2\n",
    "$$\n",
    "where $s_{i,j}$ is an *indicator* variable that is 1 if user $i$ has rated item $j$ and is zero otherwise. Here $\\mathbf{U}$ is the matrix made up of all the vectors $\\mathbf{u}$,\n",
    "$$\n",
    "\\mathbf{U} = \\begin{bmatrix} \\mathbf{u}_1 \\dots \\mathbf{u}_n\\end{bmatrix}^\\top\n",
    "$$\n",
    "where we note that $i$th *row* of $\\mathbf{U}$ contains the vector associated with the $i$th user and $n$ is the total number of users. This form of matrix is known as a *design matrix*. Similarly, we define the matrix\n",
    "$$\n",
    "\\mathbf{V} = \\begin{bmatrix} \\mathbf{v}_1 \\dots \\mathbf{v}_m\\end{bmatrix}^\\top\n",
    "$$\n",
    "where again the $j$th row of $\\mathbf{V}$ contains the vector associated with the $j$th item and $m$ is the total number of items in the data set.\n",
    "\n",
    "## Objective Optimization\n",
    "\n",
    "The idea is to mimimize this objective. A standard, simple, technique for minimizing an objective is *gradient descent* or *steepest descent*. In gradient descent we simply choose to update each parameter in the model by subtracting a multiple of the objective function's gradient with respect to the parameters. So for a parameter $u_{i,j}$ from the matrix $\\mathbf{U}$ we would have an update as follows:\n",
    "$$\n",
    "u_{k,\\ell} \\leftarrow u_{k,\\ell} - \\eta \\frac{\\text{d} E(\\mathbf{U}, \\mathbf{V})}{\\text{d}u_{k,\\ell}} \n",
    "$$\n",
    "where $\\eta$ (which is pronounced *eta* in English) is a Greek letter representing the *learning rate*.  \n",
    "\n",
    "We can compute the gradient of the objective function with respect to $u_{k,\\ell}$ as\n",
    "$$\n",
    "\\frac{\\text{d}E(\\mathbf{U}, \\mathbf{V})}{\\text{d}u_{k,\\ell}} = -2 \\sum_j s_{k,j}v_{j,\\ell}(y_{k, j} - \\mathbf{u}_k^\\top\\mathbf{v}_{j}). \n",
    "$$\n",
    "Similarly each parameter $v_{i,j}$ needs to be updated according to its gradient. \n"
   ]
  },
  {
   "cell_type": "markdown",
   "metadata": {
    "colab_type": "text",
    "id": "Q7CLz2e34TB-"
   },
   "source": [
    "### Question 4\n",
    "\n",
    "What is the gradient of the objective function with respect to $v_{k, \\ell}$? Write your answer in the box below, and explain which differentiation techniques you used to get there. \n"
   ]
  },
  {
   "cell_type": "markdown",
   "metadata": {
    "colab_type": "text",
    "id": "OoPWjeks4TB_"
   },
   "source": [
    "#### Question 4 Answer\n",
    "\n",
    "Write your answer to the question in this box.\n",
    "\n",
    "\n",
    "$$\n",
    "\\frac{\\text{d}E(\\mathbf{U}, \\mathbf{V})}{\\text{d}v_{k,\\ell}} = -2 \\sum_i s_{i,k}u_{i,\\ell}(y_{i, k} - \\mathbf{u}_i^\\top\\mathbf{v}_{k}). \n",
    "$$"
   ]
  },
  {
   "cell_type": "code",
   "execution_count": 5,
   "metadata": {
    "colab": {},
    "colab_type": "code",
    "id": "wp4b_obA4TCA",
    "scrolled": true
   },
   "outputs": [],
   "source": [
    "# Question 4 Code Answer"
   ]
  },
  {
   "cell_type": "markdown",
   "metadata": {
    "colab_type": "text",
    "id": "oKE-P70P4TCC"
   },
   "source": [
    "## Steepest Descent Algorithm\n",
    "\n",
    "In the steepest descent algorithm we aim to minimize the objective function by subtacting the gradient of the objective function from the parameters. \n",
    "\n",
    "### Initialisation\n",
    "\n",
    "To start with though, we need initial values for the matrix $\\mathbf{U}$ and the matrix $\\mathbf{V}$. Let's create them as `pandas` data frames and initialise them randomly with small values."
   ]
  },
  {
   "cell_type": "code",
   "execution_count": 6,
   "metadata": {
    "colab": {},
    "colab_type": "code",
    "id": "WJEz34fG4TCD",
    "scrolled": true
   },
   "outputs": [],
   "source": [
    "q = 2 # the dimension of our map of the 'library'\n"
   ]
  },
  {
   "cell_type": "markdown",
   "metadata": {
    "colab_type": "text",
    "id": "qR_KZvyj4TCG"
   },
   "source": [
    "Now that we have the initial values set, we can start the optimization. First we define a function for the gradient of the objective and the objective function itself."
   ]
  },
  {
   "cell_type": "code",
   "execution_count": 7,
   "metadata": {
    "colab": {},
    "colab_type": "code",
    "id": "IKVb3-cx4TCH",
    "scrolled": true
   },
   "outputs": [],
   "source": [
    "def objective_gradient(Y, U, V, objs):\n",
    "    gU = pd.DataFrame(np.zeros((U.shape)), index=U.index)\n",
    "    gV = pd.DataFrame(np.zeros((V.shape)), index=V.index)\n",
    "    obj = 0.\n",
    "    nrows = Y.shape[0]\n",
    "    for i in range(nrows):\n",
    "        row = Y.iloc[i]\n",
    "        user = row['users']\n",
    "        film = row['movies']\n",
    "        rating = row['ratings']\n",
    "        prediction = np.dot(U.loc[user], V.loc[film]) # vTu\n",
    "        diff = prediction - rating # vTu - y\n",
    "        obj += diff*diff\n",
    "        gU.loc[user] += 2*diff*V.loc[film]\n",
    "        gV.loc[film] += 2*diff*U.loc[user]\n",
    "    objs.append(obj)\n",
    "    return gU, gV"
   ]
  },
  {
   "cell_type": "markdown",
   "metadata": {
    "colab_type": "text",
    "id": "uHaiQ8a84TCJ"
   },
   "source": [
    "Now we can write our simple optimisation route. This allows us to observe the objective function as the optimization proceeds."
   ]
  },
  {
   "cell_type": "code",
   "execution_count": 8,
   "metadata": {
    "colab": {},
    "colab_type": "code",
    "id": "QquqGET34TCK",
    "scrolled": true
   },
   "outputs": [],
   "source": [
    "def run_gradient(iterations, learn_rate):\n",
    "    objs = []\n",
    "    U = pd.DataFrame(np.random.normal(size=(nUsersInExample, q))*0.001, index=my_batch_users)\n",
    "    V = pd.DataFrame(np.random.normal(size=(n_movies, q))*0.001, index=indexes_unique_movies)\n",
    "    for i in range(iterations):\n",
    "        gU, gV = objective_gradient(Y, U, V, objs)\n",
    "        U -= learn_rate*gU\n",
    "        V -= learn_rate*gV    \n",
    "\n",
    "    plt.plot(np.arange(len(objs)), objs, 'r')\n",
    "    return U, V"
   ]
  },
  {
   "cell_type": "code",
   "execution_count": 9,
   "metadata": {
    "colab": {
     "base_uri": "https://localhost:8080/",
     "height": 269
    },
    "colab_type": "code",
    "executionInfo": {
     "elapsed": 105034,
     "status": "ok",
     "timestamp": 1571139894084,
     "user": {
      "displayName": "Ming Liu",
      "photoUrl": "https://lh3.googleusercontent.com/a-/AAuE7mD4AkcM4sv1rI1zSX3xC_6PkLOatOKjqPP4Ack=s64",
      "userId": "11875485666463178947"
     },
     "user_tz": -60
    },
    "id": "Y1LoUwW34TCN",
    "outputId": "6e035978-9532-476b-a0b3-d6c9de363d11",
    "scrolled": true
   },
   "outputs": [
    {
     "data": {
      "image/png": "[encoded data removed]",
      "text/plain": [
       "<Figure size 432x288 with 1 Axes>"
      ]
     },
     "metadata": {
      "needs_background": "light"
     },
     "output_type": "display_data"
    }
   ],
   "source": [
    "U_old, V_old = run_gradient(iterations=20, learn_rate=0.01)"
   ]
  },
  {
   "cell_type": "markdown",
   "metadata": {
    "colab_type": "text",
    "id": "HeCr6Rof4TCR"
   },
   "source": [
    "### Question 5\n",
    "\n",
    "What happens as you increase the number of iterations? What happens if you increase the learning rate?"
   ]
  },
  {
   "cell_type": "markdown",
   "metadata": {
    "colab_type": "text",
    "id": "_7icGCup4TCS"
   },
   "source": [
    "#### Question 5 Answer\n",
    "\n",
    "Write your answer to the question in this box.\n",
    "\n",
    "As you increase the number of iterations, the objective function starts decreasing.\n",
    "\n",
    "As you increase the learning rate, initially it learns quicker, but then later on it takes steps that are too big and you end up shooting the gradient to places where the error is bigger."
   ]
  },
  {
   "cell_type": "code",
   "execution_count": 10,
   "metadata": {
    "colab": {
     "base_uri": "https://localhost:8080/",
     "height": 269
    },
    "colab_type": "code",
    "executionInfo": {
     "elapsed": 597523,
     "status": "ok",
     "timestamp": 1571140386579,
     "user": {
      "displayName": "Ming Liu",
      "photoUrl": "https://lh3.googleusercontent.com/a-/AAuE7mD4AkcM4sv1rI1zSX3xC_6PkLOatOKjqPP4Ack=s64",
      "userId": "11875485666463178947"
     },
     "user_tz": -60
    },
    "id": "BlAf1Q5D4TCT",
    "outputId": "5ce010a9-dffb-4fde-c77d-c6a5a9351313",
    "scrolled": true
   },
   "outputs": [
    {
     "data": {
      "image/png": "[encoded data removed]",
      "text/plain": [
       "<Figure size 432x288 with 1 Axes>"
      ]
     },
     "metadata": {
      "needs_background": "light"
     },
     "output_type": "display_data"
    }
   ],
   "source": [
    "# Question 5 Code Answer\n",
    "U_big_iter, V_big_iter = run_gradient(iterations=100, learn_rate=0.01)\n",
    "# Error will become smaller than the less number of iterations."
   ]
  },
  {
   "cell_type": "code",
   "execution_count": 11,
   "metadata": {
    "colab": {
     "base_uri": "https://localhost:8080/",
     "height": 269
    },
    "colab_type": "code",
    "executionInfo": {
     "elapsed": 652788,
     "status": "ok",
     "timestamp": 1571140485192,
     "user": {
      "displayName": "Ming Liu",
      "photoUrl": "https://lh3.googleusercontent.com/a-/AAuE7mD4AkcM4sv1rI1zSX3xC_6PkLOatOKjqPP4Ack=s64",
      "userId": "11875485666463178947"
     },
     "user_tz": -60
    },
    "id": "t6r9uz4o4TCW",
    "outputId": "72f75f22-e1a2-4ba0-94e3-eb4ed9979b80",
    "scrolled": true
   },
   "outputs": [
    {
     "data": {
      "image/png": "[encoded data removed]",
      "text/plain": [
       "<Figure size 432x288 with 1 Axes>"
      ]
     },
     "metadata": {
      "needs_background": "light"
     },
     "output_type": "display_data"
    }
   ],
   "source": [
    "U_big_rate1, V_big_rate1 = run_gradient(iterations=20, learn_rate=0.03)\n",
    "# It may decrease sharply, but it shows instability."
   ]
  },
  {
   "cell_type": "code",
   "execution_count": 12,
   "metadata": {
    "colab": {
     "base_uri": "https://localhost:8080/",
     "height": 310
    },
    "colab_type": "code",
    "executionInfo": {
     "elapsed": 671823,
     "status": "ok",
     "timestamp": 1571140584525,
     "user": {
      "displayName": "Ming Liu",
      "photoUrl": "https://lh3.googleusercontent.com/a-/AAuE7mD4AkcM4sv1rI1zSX3xC_6PkLOatOKjqPP4Ack=s64",
      "userId": "11875485666463178947"
     },
     "user_tz": -60
    },
    "id": "dcN-ZAHP4TCZ",
    "outputId": "4831c65f-3467-4533-e3a2-069692dbdd59",
    "scrolled": true
   },
   "outputs": [
    {
     "name": "stderr",
     "output_type": "stream",
     "text": [
      "L:\\Software\\Anaconda3\\lib\\site-packages\\ipykernel_launcher.py:13: RuntimeWarning: overflow encountered in double_scalars\n",
      "  del sys.path[0]\n"
     ]
    },
    {
     "data": {
      "image/png": "[encoded data removed]",
      "text/plain": [
       "<Figure size 432x288 with 1 Axes>"
      ]
     },
     "metadata": {
      "needs_background": "light"
     },
     "output_type": "display_data"
    }
   ],
   "source": [
    "U_big_rate2, V_big_rate2 = run_gradient(iterations=20, learn_rate=0.5)\n",
    "# It may cause some problem about calculating."
   ]
  },
  {
   "cell_type": "markdown",
   "metadata": {
    "colab_type": "text",
    "id": "k2Co7Y2_4TCc"
   },
   "source": [
    "## Making Predictions\n",
    "\n",
    "Predictions can be made from the model of the appropriate rating for a given user, $i$, for a given film, $j$, by simply taking the inner product between their vectors $\\mathbf{u}_i$ and $\\mathbf{v}_j$. "
   ]
  },
  {
   "cell_type": "markdown",
   "metadata": {
    "colab_type": "text",
    "id": "J3TjBCDF4TCd"
   },
   "source": [
    "### Question 6\n",
    "\n",
    "Create a function that provides the prediction of the ratings for the users in the dataset. Is the quality of the predictions affected by the number of iterations or the learning rate? The function should receive `Y`, `U` and `V` and return the predictions and the absolute error between the predictions and the actual rating given by the users. The predictions and the absolute error should be added as additional columns to the dataframe `Y`."
   ]
  },
  {
   "cell_type": "code",
   "execution_count": 13,
   "metadata": {
    "colab": {},
    "colab_type": "code",
    "id": "0G6IoEqy4TCe",
    "scrolled": true
   },
   "outputs": [],
   "source": [
    "# Question 6 Code Answer\n",
    "def predict_rate(Y, U, V):\n",
    "    predictions = []\n",
    "    absolute_errors = []\n",
    "    for i in range(Y.shape[0]):\n",
    "        row = Y.iloc[i]\n",
    "        user = row['users']\n",
    "        film = row['movies']\n",
    "        rating = row['ratings']\n",
    "        prediction = np.dot(U.loc[user], V.loc[film])\n",
    "        predictions.append(prediction) # vTu\n",
    "        absolute_errors.append(np.absolute(prediction - rating))\n",
    "        \n",
    "    Y['predictions'] = predictions\n",
    "    Y['absolute_errors'] = absolute_errors\n",
    "    \n",
    "    plt.plot(np.arange(40), predictions[:40], 'r')\n",
    "    plt.plot(np.arange(40), Y['ratings'][:40], 'g')\n",
    "    return predictions, absolute_errors"
   ]
  },
  {
   "cell_type": "code",
   "execution_count": 14,
   "metadata": {
    "colab": {},
    "colab_type": "code",
    "id": "yBSVGDShPeFo"
   },
   "outputs": [
    {
     "data": {
      "text/html": [
       "<div>\n",
       "<style scoped>\n",
       "    .dataframe tbody tr th:only-of-type {\n",
       "        vertical-align: middle;\n",
       "    }\n",
       "\n",
       "    .dataframe tbody tr th {\n",
       "        vertical-align: top;\n",
       "    }\n",
       "\n",
       "    .dataframe thead th {\n",
       "        text-align: right;\n",
       "    }\n",
       "</style>\n",
       "<table border=\"1\" class=\"dataframe\">\n",
       "  <thead>\n",
       "    <tr style=\"text-align: right;\">\n",
       "      <th></th>\n",
       "      <th>users</th>\n",
       "      <th>movies</th>\n",
       "      <th>ratingsorig</th>\n",
       "      <th>ratings</th>\n",
       "    </tr>\n",
       "  </thead>\n",
       "  <tbody>\n",
       "    <tr>\n",
       "      <td>0</td>\n",
       "      <td>168.0</td>\n",
       "      <td>111</td>\n",
       "      <td>4.5</td>\n",
       "      <td>1.043908</td>\n",
       "    </tr>\n",
       "    <tr>\n",
       "      <td>1</td>\n",
       "      <td>168.0</td>\n",
       "      <td>196</td>\n",
       "      <td>0.5</td>\n",
       "      <td>-2.956092</td>\n",
       "    </tr>\n",
       "    <tr>\n",
       "      <td>2</td>\n",
       "      <td>168.0</td>\n",
       "      <td>265</td>\n",
       "      <td>4.5</td>\n",
       "      <td>1.043908</td>\n",
       "    </tr>\n",
       "    <tr>\n",
       "      <td>3</td>\n",
       "      <td>168.0</td>\n",
       "      <td>296</td>\n",
       "      <td>4.5</td>\n",
       "      <td>1.043908</td>\n",
       "    </tr>\n",
       "    <tr>\n",
       "      <td>4</td>\n",
       "      <td>168.0</td>\n",
       "      <td>342</td>\n",
       "      <td>4.0</td>\n",
       "      <td>0.543908</td>\n",
       "    </tr>\n",
       "    <tr>\n",
       "      <td>...</td>\n",
       "      <td>...</td>\n",
       "      <td>...</td>\n",
       "      <td>...</td>\n",
       "      <td>...</td>\n",
       "    </tr>\n",
       "    <tr>\n",
       "      <td>1612</td>\n",
       "      <td>349.0</td>\n",
       "      <td>589</td>\n",
       "      <td>4.0</td>\n",
       "      <td>0.543908</td>\n",
       "    </tr>\n",
       "    <tr>\n",
       "      <td>1613</td>\n",
       "      <td>349.0</td>\n",
       "      <td>590</td>\n",
       "      <td>4.0</td>\n",
       "      <td>0.543908</td>\n",
       "    </tr>\n",
       "    <tr>\n",
       "      <td>1614</td>\n",
       "      <td>349.0</td>\n",
       "      <td>593</td>\n",
       "      <td>5.0</td>\n",
       "      <td>1.543908</td>\n",
       "    </tr>\n",
       "    <tr>\n",
       "      <td>1615</td>\n",
       "      <td>349.0</td>\n",
       "      <td>595</td>\n",
       "      <td>3.0</td>\n",
       "      <td>-0.456092</td>\n",
       "    </tr>\n",
       "    <tr>\n",
       "      <td>1616</td>\n",
       "      <td>349.0</td>\n",
       "      <td>597</td>\n",
       "      <td>5.0</td>\n",
       "      <td>1.543908</td>\n",
       "    </tr>\n",
       "  </tbody>\n",
       "</table>\n",
       "<p>1617 rows × 4 columns</p>\n",
       "</div>"
      ],
      "text/plain": [
       "      users  movies  ratingsorig   ratings\n",
       "0     168.0     111          4.5  1.043908\n",
       "1     168.0     196          0.5 -2.956092\n",
       "2     168.0     265          4.5  1.043908\n",
       "3     168.0     296          4.5  1.043908\n",
       "4     168.0     342          4.0  0.543908\n",
       "...     ...     ...          ...       ...\n",
       "1612  349.0     589          4.0  0.543908\n",
       "1613  349.0     590          4.0  0.543908\n",
       "1614  349.0     593          5.0  1.543908\n",
       "1615  349.0     595          3.0 -0.456092\n",
       "1616  349.0     597          5.0  1.543908\n",
       "\n",
       "[1617 rows x 4 columns]"
      ]
     },
     "execution_count": 14,
     "metadata": {},
     "output_type": "execute_result"
    }
   ],
   "source": [
    "Y"
   ]
  },
  {
   "cell_type": "code",
   "execution_count": 15,
   "metadata": {
    "colab": {
     "base_uri": "https://localhost:8080/",
     "height": 269
    },
    "colab_type": "code",
    "executionInfo": {
     "elapsed": 593421,
     "status": "ok",
     "timestamp": 1571140586111,
     "user": {
      "displayName": "Ming Liu",
      "photoUrl": "https://lh3.googleusercontent.com/a-/AAuE7mD4AkcM4sv1rI1zSX3xC_6PkLOatOKjqPP4Ack=s64",
      "userId": "11875485666463178947"
     },
     "user_tz": -60
    },
    "id": "Ke7RTDVz4TCi",
    "outputId": "82e886e1-a8e8-4b37-ffd7-5376ba749602",
    "scrolled": false
   },
   "outputs": [
    {
     "data": {
      "image/png": "[encoded data removed]",
      "text/plain": [
       "<Figure size 432x288 with 1 Axes>"
      ]
     },
     "metadata": {
      "needs_background": "light"
     },
     "output_type": "display_data"
    }
   ],
   "source": [
    "pre, abse = predict_rate(Y, U_old, V_old)"
   ]
  },
  {
   "cell_type": "code",
   "execution_count": 16,
   "metadata": {
    "colab": {
     "base_uri": "https://localhost:8080/",
     "height": 269
    },
    "colab_type": "code",
    "executionInfo": {
     "elapsed": 592760,
     "status": "ok",
     "timestamp": 1571140587791,
     "user": {
      "displayName": "Ming Liu",
      "photoUrl": "https://lh3.googleusercontent.com/a-/AAuE7mD4AkcM4sv1rI1zSX3xC_6PkLOatOKjqPP4Ack=s64",
      "userId": "11875485666463178947"
     },
     "user_tz": -60
    },
    "id": "GMXHyKem4TCl",
    "outputId": "112a099f-6371-479a-cf03-2e91f2aaafcb",
    "scrolled": true
   },
   "outputs": [
    {
     "data": {
      "image/png": "[encoded data removed]",
      "text/plain": [
       "<Figure size 432x288 with 1 Axes>"
      ]
     },
     "metadata": {
      "needs_background": "light"
     },
     "output_type": "display_data"
    }
   ],
   "source": [
    "pre, abse = predict_rate(Y, U_big_iter, V_big_iter)"
   ]
  },
  {
   "cell_type": "code",
   "execution_count": 17,
   "metadata": {
    "colab": {
     "base_uri": "https://localhost:8080/",
     "height": 269
    },
    "colab_type": "code",
    "executionInfo": {
     "elapsed": 593798,
     "status": "ok",
     "timestamp": 1571140589413,
     "user": {
      "displayName": "Ming Liu",
      "photoUrl": "https://lh3.googleusercontent.com/a-/AAuE7mD4AkcM4sv1rI1zSX3xC_6PkLOatOKjqPP4Ack=s64",
      "userId": "11875485666463178947"
     },
     "user_tz": -60
    },
    "id": "Q_izeYSe4TCp",
    "outputId": "0ca51e1c-d4d4-47a3-c551-d22ac81c91f1"
   },
   "outputs": [
    {
     "data": {
      "image/png": "[encoded data removed]",
      "text/plain": [
       "<Figure size 432x288 with 1 Axes>"
      ]
     },
     "metadata": {
      "needs_background": "light"
     },
     "output_type": "display_data"
    }
   ],
   "source": [
    "pre, abse = predict_rate(Y, U_big_rate1, V_big_rate1)"
   ]
  },
  {
   "cell_type": "markdown",
   "metadata": {
    "colab_type": "text",
    "id": "JwgAKFlh4TCz"
   },
   "source": [
    "## Stochastic Gradient Descent or Robbins Monroe Algorithm\n",
    "\n",
    "Stochastic gradient descent involves updating separating each gradient update according to each separate observation, rather than summing over them all. It is an approximate optimization method, but it has proven convergence under certain conditions and can be much faster in practice. It is used widely by internet companies for doing machine learning in practice. For example, Facebook's ad ranking algorithm uses stochastic gradient descent. "
   ]
  },
  {
   "cell_type": "markdown",
   "metadata": {
    "colab_type": "text",
    "id": "tReyjKcX4TC0"
   },
   "source": [
    "### Question 7\n",
    "\n",
    "Create a stochastic gradient descent version of the algorithm. Monitor the objective function after every 1000 updates to ensure that it is decreasing. When you have finished, plot the movie map and the user map in two dimensions (you can use the columns of the matrices $\\mathbf{U}$ for the user map and the columns of $\\mathbf{V}$ for the movie map). Provide three observations about these maps."
   ]
  },
  {
   "cell_type": "code",
   "execution_count": 18,
   "metadata": {
    "colab": {},
    "colab_type": "code",
    "id": "rD0OCwKG4TC1",
    "scrolled": true
   },
   "outputs": [],
   "source": [
    "# Question 7 Code Answer\n",
    "def objective_stochastic_gradient(Y, U, V):\n",
    "    gU = pd.DataFrame(np.zeros((U.shape)), index=U.index)\n",
    "    gV = pd.DataFrame(np.zeros((V.shape)), index=V.index)\n",
    "    nrows = Y.shape[0]\n",
    "    row = Y.iloc[np.random.randint(nrows)]\n",
    "    user = row['users']\n",
    "    film = row['movies']\n",
    "    rating = row['ratings']\n",
    "    prediction = np.dot(U.loc[user], V.loc[film]) # vTu\n",
    "    diff = prediction - rating # vTu - y\n",
    "    gU.loc[user] += 2*diff*V.loc[film]\n",
    "    gV.loc[film] += 2*diff*U.loc[user]\n",
    "    return gU, gV"
   ]
  },
  {
   "cell_type": "code",
   "execution_count": 23,
   "metadata": {
    "colab": {},
    "colab_type": "code",
    "id": "x81jcgVc4TC2"
   },
   "outputs": [],
   "source": [
    "def run_stochastic_gradient(iterations, learn_rate, U, V):\n",
    "    errors = []\n",
    "    for i in range(iterations):\n",
    "        gU, gV = objective_stochastic_gradient(Y, U, V)\n",
    "        if i % 1000 == 0:\n",
    "            error = 0.0\n",
    "            for j in range(Y.shape[0]):\n",
    "                row = Y.iloc[j]\n",
    "                user = row['users']\n",
    "                film = row['movies']\n",
    "                rating = row['ratings']\n",
    "                prediction = np.dot(U.loc[user], V.loc[film])\n",
    "                diff = prediction - rating\n",
    "                error += diff*diff\n",
    "            print(\"Iteration\", i, \"Objective function: \", error)\n",
    "            errors.append(error)\n",
    "        U -= learn_rate*gU\n",
    "        V -= learn_rate*gV    \n",
    "\n",
    "    plt.plot(np.arange(len(errors)), errors, 'r')\n",
    "    return U, V"
   ]
  },
  {
   "cell_type": "code",
   "execution_count": 20,
   "metadata": {
    "colab": {
     "base_uri": "https://localhost:8080/",
     "height": 1000
    },
    "colab_type": "code",
    "executionInfo": {
     "elapsed": 1604538,
     "status": "ok",
     "timestamp": 1571141601664,
     "user": {
      "displayName": "Ming Liu",
      "photoUrl": "https://lh3.googleusercontent.com/a-/AAuE7mD4AkcM4sv1rI1zSX3xC_6PkLOatOKjqPP4Ack=s64",
      "userId": "11875485666463178947"
     },
     "user_tz": -60
    },
    "id": "vPc8wzKq4TC4",
    "outputId": "6e9fcfb5-18ed-41a1-a0c2-a2b41359e0de",
    "scrolled": true
   },
   "outputs": [
    {
     "name": "stdout",
     "output_type": "stream",
     "text": [
      "Iteration 0 Objective function:  1627.382504522159\n",
      "Iteration 1000 Objective function:  1627.38238131257\n",
      "Iteration 2000 Objective function:  1627.3822084892079\n",
      "Iteration 3000 Objective function:  1627.3819322266338\n",
      "Iteration 4000 Objective function:  1627.3813921085027\n",
      "Iteration 5000 Objective function:  1627.3808373148293\n",
      "Iteration 6000 Objective function:  1627.3796797366067\n",
      "Iteration 7000 Objective function:  1627.3780044025614\n",
      "Iteration 8000 Objective function:  1627.375288919411\n",
      "Iteration 9000 Objective function:  1627.3703326242264\n",
      "Iteration 10000 Objective function:  1627.3623817080986\n",
      "Iteration 11000 Objective function:  1627.3463990479868\n",
      "Iteration 12000 Objective function:  1627.3182139426065\n",
      "Iteration 13000 Objective function:  1627.2750517307252\n",
      "Iteration 14000 Objective function:  1627.1952177842436\n",
      "Iteration 15000 Objective function:  1627.0567145921977\n",
      "Iteration 16000 Objective function:  1626.8272155119116\n",
      "Iteration 17000 Objective function:  1626.3962531451116\n",
      "Iteration 18000 Objective function:  1625.619087310311\n",
      "Iteration 19000 Objective function:  1624.2273150173987\n",
      "Iteration 20000 Objective function:  1621.9667411351309\n",
      "Iteration 21000 Objective function:  1618.1793011697923\n",
      "Iteration 22000 Objective function:  1611.6556854517676\n",
      "Iteration 23000 Objective function:  1599.7725258449832\n",
      "Iteration 24000 Objective function:  1579.911319540876\n",
      "Iteration 25000 Objective function:  1549.8953373977292\n",
      "Iteration 26000 Objective function:  1503.6241557957435\n",
      "Iteration 27000 Objective function:  1430.7710933218434\n",
      "Iteration 28000 Objective function:  1332.33979996864\n",
      "Iteration 29000 Objective function:  1239.9807319727931\n",
      "Iteration 30000 Objective function:  1146.2158157557635\n",
      "Iteration 31000 Objective function:  1044.4004180976906\n",
      "Iteration 32000 Objective function:  970.8476474553217\n",
      "Iteration 33000 Objective function:  899.8205416266107\n",
      "Iteration 34000 Objective function:  835.6289870074177\n",
      "Iteration 35000 Objective function:  796.8586479193731\n",
      "Iteration 36000 Objective function:  756.797430228661\n",
      "Iteration 37000 Objective function:  718.324394910991\n",
      "Iteration 38000 Objective function:  687.3549972536632\n",
      "Iteration 39000 Objective function:  658.321868867353\n",
      "Iteration 40000 Objective function:  632.5071071650146\n",
      "Iteration 41000 Objective function:  612.6351268241066\n",
      "Iteration 42000 Objective function:  589.702612717823\n",
      "Iteration 43000 Objective function:  565.4605500843975\n",
      "Iteration 44000 Objective function:  543.1616255259556\n",
      "Iteration 45000 Objective function:  518.3639658411945\n",
      "Iteration 46000 Objective function:  496.83745782813105\n",
      "Iteration 47000 Objective function:  475.67729405864844\n",
      "Iteration 48000 Objective function:  459.92677588406747\n",
      "Iteration 49000 Objective function:  435.71379992317543\n",
      "Iteration 50000 Objective function:  417.6277352762774\n",
      "Iteration 51000 Objective function:  398.7924952272272\n",
      "Iteration 52000 Objective function:  384.4064714409953\n",
      "Iteration 53000 Objective function:  366.2372362207793\n",
      "Iteration 54000 Objective function:  349.90744560107964\n",
      "Iteration 55000 Objective function:  335.38745596341874\n",
      "Iteration 56000 Objective function:  320.1890249946585\n",
      "Iteration 57000 Objective function:  310.2263830029836\n",
      "Iteration 58000 Objective function:  297.0528175043136\n",
      "Iteration 59000 Objective function:  285.45669304867783\n",
      "Iteration 60000 Objective function:  275.40322269132076\n",
      "Iteration 61000 Objective function:  266.3130219519451\n",
      "Iteration 62000 Objective function:  256.5107361346722\n",
      "Iteration 63000 Objective function:  250.5381080939834\n",
      "Iteration 64000 Objective function:  244.671572706312\n",
      "Iteration 65000 Objective function:  239.14061950001792\n",
      "Iteration 66000 Objective function:  233.7724670778236\n",
      "Iteration 67000 Objective function:  228.9854634679727\n",
      "Iteration 68000 Objective function:  224.88759477008225\n",
      "Iteration 69000 Objective function:  218.61736719178177\n",
      "Iteration 70000 Objective function:  215.60267202620085\n",
      "Iteration 71000 Objective function:  213.63964208179033\n",
      "Iteration 72000 Objective function:  209.80402547056855\n",
      "Iteration 73000 Objective function:  204.18421419992103\n",
      "Iteration 74000 Objective function:  202.3844075110077\n",
      "Iteration 75000 Objective function:  196.51241737761276\n",
      "Iteration 76000 Objective function:  192.50489921045278\n",
      "Iteration 77000 Objective function:  190.5337126546442\n",
      "Iteration 78000 Objective function:  189.66111680182053\n",
      "Iteration 79000 Objective function:  186.3149938434592\n",
      "Iteration 80000 Objective function:  183.43308901486924\n",
      "Iteration 81000 Objective function:  177.1600174966027\n",
      "Iteration 82000 Objective function:  174.80610725772394\n",
      "Iteration 83000 Objective function:  171.46847330741107\n",
      "Iteration 84000 Objective function:  167.60151593873854\n",
      "Iteration 85000 Objective function:  169.69669980849488\n",
      "Iteration 86000 Objective function:  166.01264026409285\n",
      "Iteration 87000 Objective function:  158.94039847022543\n",
      "Iteration 88000 Objective function:  155.83782180909623\n",
      "Iteration 89000 Objective function:  149.69255306355902\n",
      "Iteration 90000 Objective function:  144.99509691573692\n",
      "Iteration 91000 Objective function:  141.69234816919007\n",
      "Iteration 92000 Objective function:  139.46801150653755\n",
      "Iteration 93000 Objective function:  135.57056492055617\n",
      "Iteration 94000 Objective function:  134.38692993720625\n",
      "Iteration 95000 Objective function:  134.61673964171524\n",
      "Iteration 96000 Objective function:  129.89598422471195\n",
      "Iteration 97000 Objective function:  124.87533269249536\n",
      "Iteration 98000 Objective function:  124.03230521958251\n",
      "Iteration 99000 Objective function:  121.44916083459776\n",
      "Iteration 100000 Objective function:  118.7633301970961\n"
     ]
    },
    {
     "data": {
      "image/png": "[encoded data removed]",
      "text/plain": [
       "<Figure size 432x288 with 1 Axes>"
      ]
     },
     "metadata": {
      "needs_background": "light"
     },
     "output_type": "display_data"
    }
   ],
   "source": [
    "U = pd.DataFrame(np.random.normal(size=(nUsersInExample, q))*0.001, index=my_batch_users)\n",
    "V = pd.DataFrame(np.random.normal(size=(n_movies, q))*0.001, index=indexes_unique_movies)\n",
    "U_s, V_s = run_stochastic_gradient(iterations=100001, learn_rate=0.01, U, V)"
   ]
  },
  {
   "cell_type": "code",
   "execution_count": 22,
   "metadata": {
    "colab": {
     "base_uri": "https://localhost:8080/",
     "height": 286
    },
    "colab_type": "code",
    "executionInfo": {
     "elapsed": 718875,
     "status": "ok",
     "timestamp": 1571141601871,
     "user": {
      "displayName": "Ming Liu",
      "photoUrl": "https://lh3.googleusercontent.com/a-/AAuE7mD4AkcM4sv1rI1zSX3xC_6PkLOatOKjqPP4Ack=s64",
      "userId": "11875485666463178947"
     },
     "user_tz": -60
    },
    "id": "hmUHhXkm4TC7",
    "outputId": "c6b8f00b-1482-4a28-e093-ee03ef70d764"
   },
   "outputs": [
    {
     "data": {
      "text/plain": [
       "[<matplotlib.lines.Line2D at 0x16d23913648>]"
      ]
     },
     "execution_count": 22,
     "metadata": {},
     "output_type": "execute_result"
    },
    {
     "data": {
      "image/png": "[encoded data removed]",
      "text/plain": [
       "<Figure size 432x288 with 1 Axes>"
      ]
     },
     "metadata": {
      "needs_background": "light"
     },
     "output_type": "display_data"
    }
   ],
   "source": [
    "plt.plot(U_s[0], U_s[1], 'xr', marker='*')"
   ]
  },
  {
   "cell_type": "markdown",
   "metadata": {
    "colab_type": "text",
    "id": "MDqD3W3p4TC9"
   },
   "source": [
    "## Is Our Map Enough? Are Our Data Enough?\n",
    "\n",
    "Is two dimensions really enough to capture the complexity of humans and their artforms? Perhaps we need even more dimensions to capture that complexity. Extending our books analogy further, consider how we should place books that have a historical timeframe as well as some geographical location. Do we really want books from the 2nd World War to sit alongside books from the Roman Empire? Books on the American invasion of Sicily in 1943 are perhaps less related to books about Carthage than those that study the Jewish Revolt from 66-70 (in the Roman Province of Judaea). So books that relate to subjects which are closer in time should be stored together. However, a student of rebellion against empire may also be interested in the relationship between the Jewish Revolt of 66-70 and the Indian Rebellion of 1857, nearly 1800 years later. Whilst the technologies are different, the psychology of the people is shared: a rebellious nation angainst their imperial masters, triggered by misrule with a religious and cultural background. To capture such complexities we would need further dimensions in our latent representation. But are further dimensions justified by the amount of data we have? Can we really understand the facets of a film that only has at most three or four ratings?"
   ]
  },
  {
   "cell_type": "markdown",
   "metadata": {
    "colab_type": "text",
    "id": "7ghUKhO24TC-"
   },
   "source": [
    "## Going Further\n",
    "\n",
    "If you want to take this model further then you'll need more data. You can use again the MovieLens 100k data but increasing the number of users (for example, for the Steepest Descent Algorithm you can do this by modifying the variable `nUsersInExample` that was set as 10 before)."
   ]
  },
  {
   "cell_type": "markdown",
   "metadata": {
    "colab_type": "text",
    "id": "Mcxx2CbM4TC_"
   },
   "source": [
    "### Question 8\n",
    "\n",
    "Use stochastic gradient descent to make a movie map for the MovieLens 100k data. Plot the map of the movies when you are finished."
   ]
  },
  {
   "cell_type": "code",
   "execution_count": 24,
   "metadata": {
    "colab": {
     "base_uri": "https://localhost:8080/",
     "height": 286
    },
    "colab_type": "code",
    "executionInfo": {
     "elapsed": 718866,
     "status": "ok",
     "timestamp": 1571141602205,
     "user": {
      "displayName": "Ming Liu",
      "photoUrl": "https://lh3.googleusercontent.com/a-/AAuE7mD4AkcM4sv1rI1zSX3xC_6PkLOatOKjqPP4Ack=s64",
      "userId": "11875485666463178947"
     },
     "user_tz": -60
    },
    "id": "fAGfqHsc4TDA",
    "outputId": "4e415706-5e69-40d5-8820-8f83bc8e3f29",
    "scrolled": false
   },
   "outputs": [
    {
     "data": {
      "text/plain": [
       "[<matplotlib.lines.Line2D at 0x16d23976c88>]"
      ]
     },
     "execution_count": 24,
     "metadata": {},
     "output_type": "execute_result"
    },
    {
     "data": {
      "image/png": "[encoded data removed]",
      "text/plain": [
       "<Figure size 432x288 with 1 Axes>"
      ]
     },
     "metadata": {
      "needs_background": "light"
     },
     "output_type": "display_data"
    }
   ],
   "source": [
    "# Code for question 8 here.\n",
    "plt.plot(V_s[0], V_s[1], 'xr', marker='*')"
   ]
  },
  {
   "cell_type": "code",
   "execution_count": 32,
   "metadata": {
    "scrolled": true
   },
   "outputs": [
    {
     "name": "stdout",
     "output_type": "stream",
     "text": [
      "Iteration 0 Objective function:  1627.3825095538486\n",
      "Iteration 1000 Objective function:  1627.3823912450544\n",
      "Iteration 2000 Objective function:  1627.3822127499382\n",
      "Iteration 3000 Objective function:  1627.3820271947918\n",
      "Iteration 4000 Objective function:  1627.3817055834477\n",
      "Iteration 5000 Objective function:  1627.381304800481\n",
      "Iteration 6000 Objective function:  1627.3806570732893\n",
      "Iteration 7000 Objective function:  1627.379581064291\n",
      "Iteration 8000 Objective function:  1627.3776836325708\n",
      "Iteration 9000 Objective function:  1627.374884770304\n",
      "Iteration 10000 Objective function:  1627.3705524737125\n",
      "Iteration 11000 Objective function:  1627.3640922886889\n",
      "Iteration 12000 Objective function:  1627.354000141516\n",
      "Iteration 13000 Objective function:  1627.3353845770066\n",
      "Iteration 14000 Objective function:  1627.3055763324548\n",
      "Iteration 15000 Objective function:  1627.2621515234696\n",
      "Iteration 16000 Objective function:  1627.1668223853958\n",
      "Iteration 17000 Objective function:  1627.024331723344\n",
      "Iteration 18000 Objective function:  1626.7912099401235\n",
      "Iteration 19000 Objective function:  1626.3152486305767\n",
      "Iteration 20000 Objective function:  1625.553537069225\n",
      "Iteration 21000 Objective function:  1624.3487810629342\n",
      "Iteration 22000 Objective function:  1621.908026641991\n",
      "Iteration 23000 Objective function:  1618.6428514390145\n",
      "Iteration 24000 Objective function:  1611.9449214579693\n",
      "Iteration 25000 Objective function:  1600.366968450421\n",
      "Iteration 26000 Objective function:  1582.4963327301336\n",
      "Iteration 27000 Objective function:  1554.2218949714954\n",
      "Iteration 28000 Objective function:  1512.8676764848733\n",
      "Iteration 29000 Objective function:  1443.3522102016723\n",
      "Iteration 30000 Objective function:  1347.386458686355\n",
      "Iteration 31000 Objective function:  1230.0441190180854\n",
      "Iteration 32000 Objective function:  1138.8841995982277\n",
      "Iteration 33000 Objective function:  1037.8944526775938\n",
      "Iteration 34000 Objective function:  950.6134622724956\n",
      "Iteration 35000 Objective function:  885.5405502651037\n",
      "Iteration 36000 Objective function:  819.6497529434663\n",
      "Iteration 37000 Objective function:  765.0165573980958\n",
      "Iteration 38000 Objective function:  716.1088949257269\n",
      "Iteration 39000 Objective function:  671.830038194916\n",
      "Iteration 40000 Objective function:  631.2515333564749\n",
      "Iteration 41000 Objective function:  601.8892488100967\n",
      "Iteration 42000 Objective function:  579.0672092524856\n",
      "Iteration 43000 Objective function:  554.4435807287298\n",
      "Iteration 44000 Objective function:  530.1262769899753\n",
      "Iteration 45000 Objective function:  508.6490019135597\n",
      "Iteration 46000 Objective function:  492.40588780978067\n",
      "Iteration 47000 Objective function:  479.6954438894706\n",
      "Iteration 48000 Objective function:  462.59246377997727\n",
      "Iteration 49000 Objective function:  445.86119005428264\n",
      "Iteration 50000 Objective function:  431.799211439586\n",
      "Iteration 51000 Objective function:  418.33843886509464\n",
      "Iteration 52000 Objective function:  409.15127930617695\n",
      "Iteration 53000 Objective function:  396.3452109655425\n",
      "Iteration 54000 Objective function:  384.1473487910094\n",
      "Iteration 55000 Objective function:  376.304495303398\n",
      "Iteration 56000 Objective function:  367.1024339133027\n",
      "Iteration 57000 Objective function:  360.04155145578704\n",
      "Iteration 58000 Objective function:  355.4940712940778\n",
      "Iteration 59000 Objective function:  349.58633674093414\n",
      "Iteration 60000 Objective function:  339.90652909128335\n",
      "Iteration 61000 Objective function:  328.1516591513816\n",
      "Iteration 62000 Objective function:  321.5079486398971\n",
      "Iteration 63000 Objective function:  312.2243628892277\n",
      "Iteration 64000 Objective function:  303.96166249212393\n",
      "Iteration 65000 Objective function:  294.6431301861169\n",
      "Iteration 66000 Objective function:  282.2227819646155\n",
      "Iteration 67000 Objective function:  270.6744567404101\n",
      "Iteration 68000 Objective function:  258.9900199474693\n",
      "Iteration 69000 Objective function:  242.1857384206428\n",
      "Iteration 70000 Objective function:  233.99382128658095\n",
      "Iteration 71000 Objective function:  226.05790450537842\n",
      "Iteration 72000 Objective function:  216.24802486610514\n",
      "Iteration 73000 Objective function:  208.60574668924534\n",
      "Iteration 74000 Objective function:  195.8648069157327\n",
      "Iteration 75000 Objective function:  189.4804220218293\n",
      "Iteration 76000 Objective function:  182.89360733836062\n",
      "Iteration 77000 Objective function:  178.0886937346002\n",
      "Iteration 78000 Objective function:  171.54558225432794\n",
      "Iteration 79000 Objective function:  168.62690757137756\n",
      "Iteration 80000 Objective function:  164.22058897214748\n",
      "Iteration 81000 Objective function:  163.02778901679534\n",
      "Iteration 82000 Objective function:  158.06255379795414\n",
      "Iteration 83000 Objective function:  156.817953731782\n",
      "Iteration 84000 Objective function:  157.0729724141366\n",
      "Iteration 85000 Objective function:  151.25797213392522\n",
      "Iteration 86000 Objective function:  148.77595743719624\n",
      "Iteration 87000 Objective function:  145.97414981227735\n",
      "Iteration 88000 Objective function:  148.69162458229758\n",
      "Iteration 89000 Objective function:  148.3654695225956\n",
      "Iteration 90000 Objective function:  141.7941558045027\n",
      "Iteration 91000 Objective function:  141.5182184865219\n",
      "Iteration 92000 Objective function:  141.99813282379566\n",
      "Iteration 93000 Objective function:  144.37367430657173\n",
      "Iteration 94000 Objective function:  142.31400410058217\n",
      "Iteration 95000 Objective function:  141.05444215352858\n",
      "Iteration 96000 Objective function:  143.35542485631942\n",
      "Iteration 97000 Objective function:  143.52355195596186\n",
      "Iteration 98000 Objective function:  145.283267343184\n",
      "Iteration 99000 Objective function:  145.17151944272013\n",
      "Iteration 100000 Objective function:  137.17974994659068\n"
     ]
    },
    {
     "data": {
      "image/png": "[encoded data removed]",
      "text/plain": [
       "<Figure size 432x288 with 1 Axes>"
      ]
     },
     "metadata": {
      "needs_background": "light"
     },
     "output_type": "display_data"
    }
   ],
   "source": [
    "ratings = pd.read_csv(\"./ml-latest-small/ratings.csv\")\n",
    "Y_full = pd.DataFrame({'users': ratings['userId'], 'movies': ratings['movieId'], 'ratingsorig': ratings['rating']})\n",
    "Y_full['ratings'] = Y_full['ratingsorig'] - np.mean(Y_full['ratingsorig'])\n",
    "indexes_unique_users = ratings['userId'].unique();\n",
    "n_users = indexes_unique_users.shape[0]\n",
    "indexes_unique_movies = ratings['movieId'].unique();\n",
    "n_movies = indexes_unique_movies.shape[0]\n",
    "\n",
    "q = 2\n",
    "\n",
    "U = pd.DataFrame(np.random.normal(size=(n_users, q))*0.001, index=indexes_unique_users)\n",
    "V = pd.DataFrame(np.random.normal(size=(n_movies, q))*0.001, index=indexes_unique_movies)\n",
    "\n",
    "U_all, V_all = run_stochastic_gradient(iterations=100001, learn_rate=0.01, U=U, V=V)"
   ]
  },
  {
   "cell_type": "code",
   "execution_count": 34,
   "metadata": {},
   "outputs": [
    {
     "data": {
      "image/png": "[encoded data removed]",
      "text/plain": [
       "<Figure size 432x288 with 1 Axes>"
      ]
     },
     "metadata": {
      "needs_background": "light"
     },
     "output_type": "display_data"
    }
   ],
   "source": [
    "plt.plot(V_all[0],V_all[1],'bx')\n",
    "plt.title('Movie map')\n",
    "plt.show()"
   ]
  }
 ],
 "metadata": {
  "accelerator": "GPU",
  "colab": {
   "collapsed_sections": [],
   "name": "Lab 2 - Objective Functions.ipynb",
   "provenance": []
  },
  "kernelspec": {
   "display_name": "Python 3",
   "language": "python",
   "name": "python3"
  },
  "language_info": {
   "codemirror_mode": {
    "name": "ipython",
    "version": 3
   },
   "file_extension": ".py",
   "mimetype": "text/x-python",
   "name": "python",
   "nbconvert_exporter": "python",
   "pygments_lexer": "ipython3",
   "version": "3.7.4"
  }
 },
 "nbformat": 4,
 "nbformat_minor": 1
}
